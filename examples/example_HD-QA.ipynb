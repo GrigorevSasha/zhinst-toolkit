{
 "cells": [
  {
   "cell_type": "code",
   "execution_count": 16,
   "metadata": {},
   "outputs": [],
   "source": [
    "import numpy as np\n",
    "import time"
   ]
  },
  {
   "cell_type": "code",
   "execution_count": 2,
   "metadata": {},
   "outputs": [],
   "source": [
    "import zhinst.toolkit as tk"
   ]
  },
  {
   "cell_type": "code",
   "execution_count": 3,
   "metadata": {},
   "outputs": [
    {
     "name": "stdout",
     "output_type": "stream",
     "text": [
      "Successfully connected to data server at localhost8004 api version: 6\n"
     ]
    }
   ],
   "source": [
    "mdc = tk.MultiDeviceController()\n",
    "mdc.setup()"
   ]
  },
  {
   "cell_type": "code",
   "execution_count": 4,
   "metadata": {},
   "outputs": [
    {
     "name": "stdout",
     "output_type": "stream",
     "text": [
      "Successfully connected to data server at localhost8004 api version: 6\n",
      "Successfully connected to device DEV8030 on interface 1GBE\n",
      "Added HDAWG: hd1\n",
      "Successfully connected to data server at localhost8004 api version: 6\n",
      "Successfully connected to device DEV2266 on interface 1GBE\n",
      "Added UHFQA: qa1\n"
     ]
    }
   ],
   "source": [
    "mdc.connect_hdawg(\"hd1\", \"dev8030\", \"1GbE\")\n",
    "mdc.connect_uhfqa(\"qa1\", \"dev2266\", \"1GbE\")"
   ]
  },
  {
   "cell_type": "code",
   "execution_count": 5,
   "metadata": {},
   "outputs": [
    {
     "data": {
      "text/plain": [
       "{'sequence_type': None,\n",
       " 'sequence_parameters': {'target': 'hdawg',\n",
       "  'clock_rate': 2400000000.0,\n",
       "  'period': 0.0001,\n",
       "  'trigger_mode': 'None',\n",
       "  'repetitions': 1,\n",
       "  'alignment': 'End with Trigger',\n",
       "  'n_HW_loop': 1,\n",
       "  'dead_time': 5e-06,\n",
       "  'trigger_delay': 0,\n",
       "  'latency': 1.6e-07,\n",
       "  'trigger_cmd_1': '//\\n',\n",
       "  'trigger_cmd_2': '//\\n',\n",
       "  'wait_cycles': 0,\n",
       "  'dead_cycles': 0}}"
      ]
     },
     "execution_count": 5,
     "metadata": {},
     "output_type": "execute_result"
    }
   ],
   "source": [
    "mdc.hdawgs[\"hd1\"].awgs[0].sequence_params"
   ]
  },
  {
   "cell_type": "code",
   "execution_count": 6,
   "metadata": {},
   "outputs": [],
   "source": [
    "trigger_awg = mdc.hdawgs[\"hd1\"].awgs[0]\n",
    "slave_awgs = mdc.hdawgs[\"hd1\"].awgs[1:]\n",
    "readout = mdc.uhfqas[\"qa1\"]"
   ]
  },
  {
   "cell_type": "code",
   "execution_count": 7,
   "metadata": {},
   "outputs": [
    {
     "name": "stdout",
     "output_type": "stream",
     "text": [
      "current length of queue: 1\n",
      "Compilation successful\n",
      "hdawg0: Sequencer status: ELF file uploaded\n",
      "Upload of 1 waveforms took 0.016974210739135742 s\n"
     ]
    }
   ],
   "source": [
    "trigger_awg.set_sequence_params(\n",
    "    sequence_type=\"Simple\",\n",
    "    repetitions=100,\n",
    "    period=100e-6,\n",
    "    trigger_mode=\"Send Trigger\",\n",
    ")\n",
    "trigger_awg.queue_waveform([], [])\n",
    "trigger_awg.compile_and_upload_waveforms()"
   ]
  },
  {
   "cell_type": "code",
   "execution_count": 8,
   "metadata": {},
   "outputs": [
    {
     "name": "stdout",
     "output_type": "stream",
     "text": [
      "current length of queue: 1\n",
      "Updated awg index to 1\n",
      "Compilation successful\n",
      "hdawg0: Sequencer status: ELF file uploaded\n",
      "Upload of 1 waveforms took 0.05200052261352539 s\n",
      "current length of queue: 1\n",
      "Updated awg index to 2\n",
      "Compilation successful\n",
      "hdawg0: Sequencer status: ELF file uploaded\n",
      "Upload of 1 waveforms took 0.012046575546264648 s\n",
      "current length of queue: 1\n",
      "Updated awg index to 3\n",
      "Compilation successful\n",
      "hdawg0: Sequencer status: ELF file uploaded\n",
      "Upload of 1 waveforms took 0.013006925582885742 s\n"
     ]
    }
   ],
   "source": [
    "for awg in slave_awgs:\n",
    "    awg.set_sequence_params(\n",
    "        sequence_type=\"Simple\",\n",
    "        period=100e-6,\n",
    "        repetitions=100,\n",
    "        trigger_mode=\"External Trigger\"\n",
    "    )\n",
    "    awg.queue_waveform(np.ones(800), -np.ones(800))\n",
    "    awg.compile_and_upload_waveforms()"
   ]
  },
  {
   "cell_type": "code",
   "execution_count": 12,
   "metadata": {},
   "outputs": [
    {
     "name": "stdout",
     "output_type": "stream",
     "text": [
      "Compilation successful\n",
      "uhfqa0: Sequencer status: ELF file uploaded\n"
     ]
    }
   ],
   "source": [
    "for ch in readout.channels[:3]:\n",
    "    ch.enable()\n",
    "    ch.readout_frequency = 100e6\n",
    "    ch.readout_amplitude = 1.0\n",
    "readout.awg.set_sequence_params(\n",
    "    sequence_type=\"Readout\",\n",
    "    period=100e-6,\n",
    "    repetitions=100,\n",
    "    trigger_mode=\"External Trigger\",\n",
    ")\n",
    "readout.awg.update_readout_params()\n",
    "readout.awg.compile()"
   ]
  },
  {
   "cell_type": "code",
   "execution_count": 17,
   "metadata": {},
   "outputs": [],
   "source": [
    "for awg in [trigger_awg]+slave_awgs+[readout.awg]:\n",
    "    awg.output = \"on\""
   ]
  },
  {
   "cell_type": "code",
   "execution_count": 19,
   "metadata": {},
   "outputs": [
    {
     "name": "stdout",
     "output_type": "stream",
     "text": [
      "hdawg0: Started AWG 1!\n",
      "hdawg0: Started AWG 2!\n",
      "hdawg0: Started AWG 3!\n",
      "uhfqa0: Started AWG 0!\n",
      "hdawg0: Started AWG 0!\n"
     ]
    }
   ],
   "source": [
    "for awg in slave_awgs + [readout.awg]:\n",
    "    awg.run()\n",
    "time.sleep(1)\n",
    "trigger_awg.run()"
   ]
  },
  {
   "cell_type": "code",
   "execution_count": 20,
   "metadata": {},
   "outputs": [
    {
     "name": "stdout",
     "output_type": "stream",
     "text": [
      "hdawg0: Stopped AWG 1!\n",
      "hdawg0: Stopped AWG 2!\n",
      "hdawg0: Stopped AWG 3!\n",
      "uhfqa0: Stopped AWG 0!\n"
     ]
    }
   ],
   "source": [
    "for awg in slave_awgs + [readout.awg]:\n",
    "    awg.stop()"
   ]
  },
  {
   "cell_type": "code",
   "execution_count": null,
   "metadata": {},
   "outputs": [],
   "source": []
  }
 ],
 "metadata": {
  "kernelspec": {
   "display_name": "Python 3",
   "language": "python",
   "name": "python3"
  },
  "language_info": {
   "codemirror_mode": {
    "name": "ipython",
    "version": 3
   },
   "file_extension": ".py",
   "mimetype": "text/x-python",
   "name": "python",
   "nbconvert_exporter": "python",
   "pygments_lexer": "ipython3",
   "version": "3.6.9"
  }
 },
 "nbformat": 4,
 "nbformat_minor": 4
}
