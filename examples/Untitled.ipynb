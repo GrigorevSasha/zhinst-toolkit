{
 "cells": [
  {
   "cell_type": "code",
   "execution_count": 1,
   "metadata": {},
   "outputs": [],
   "source": [
    "from ziDrivers import MultiDeviceController"
   ]
  },
  {
   "cell_type": "code",
   "execution_count": 2,
   "metadata": {},
   "outputs": [
    {
     "name": "stdout",
     "output_type": "stream",
     "text": [
      "Successfully connected to data server at localhost8004 api version: 6\n"
     ]
    }
   ],
   "source": [
    "m = MultiDeviceController()\n",
    "m.setup()"
   ]
  },
  {
   "cell_type": "code",
   "execution_count": 3,
   "metadata": {},
   "outputs": [
    {
     "name": "stdout",
     "output_type": "stream",
     "text": [
      "Successfully connected to data server at localhost8004 api version: 6\n"
     ]
    },
    {
     "ename": "RuntimeError",
     "evalue": "ZIAPIServerException with status code: 32788. Device is not visible to the server.",
     "output_type": "error",
     "traceback": [
      "\u001b[1;31m---------------------------------------------------------------------------\u001b[0m",
      "\u001b[1;31mRuntimeError\u001b[0m                              Traceback (most recent call last)",
      "\u001b[1;32m<ipython-input-3-d517ff1621d5>\u001b[0m in \u001b[0;36m<module>\u001b[1;34m\u001b[0m\n\u001b[1;32m----> 1\u001b[1;33m \u001b[0mm\u001b[0m\u001b[1;33m.\u001b[0m\u001b[0mconnect_pqsc\u001b[0m\u001b[1;33m(\u001b[0m\u001b[1;34m\"dev10004\"\u001b[0m\u001b[1;33m,\u001b[0m \u001b[1;34m\"1GbE\"\u001b[0m\u001b[1;33m)\u001b[0m\u001b[1;33m\u001b[0m\u001b[1;33m\u001b[0m\u001b[0m\n\u001b[0m",
      "\u001b[1;32mc:\\users\\maxr\\zi_driver_wrapper\\ziDrivers\\multiDeviceController.py\u001b[0m in \u001b[0;36mconnect_pqsc\u001b[1;34m(self, address, interface)\u001b[0m\n\u001b[0;32m     58\u001b[0m         \u001b[0mdevice\u001b[0m \u001b[1;33m=\u001b[0m \u001b[0mPQSC\u001b[0m\u001b[1;33m(\u001b[0m\u001b[1;33m)\u001b[0m\u001b[1;33m\u001b[0m\u001b[1;33m\u001b[0m\u001b[0m\n\u001b[0;32m     59\u001b[0m         \u001b[0mdevice\u001b[0m\u001b[1;33m.\u001b[0m\u001b[0msetup\u001b[0m\u001b[1;33m(\u001b[0m\u001b[0mconnection\u001b[0m\u001b[1;33m=\u001b[0m\u001b[0mself\u001b[0m\u001b[1;33m.\u001b[0m\u001b[0m_shared_connection\u001b[0m\u001b[1;33m)\u001b[0m\u001b[1;33m\u001b[0m\u001b[1;33m\u001b[0m\u001b[0m\n\u001b[1;32m---> 60\u001b[1;33m         \u001b[0mdevice\u001b[0m\u001b[1;33m.\u001b[0m\u001b[0mconnect_device\u001b[0m\u001b[1;33m(\u001b[0m\u001b[0maddress\u001b[0m\u001b[1;33m,\u001b[0m \u001b[0minterface\u001b[0m\u001b[1;33m)\u001b[0m\u001b[1;33m\u001b[0m\u001b[1;33m\u001b[0m\u001b[0m\n\u001b[0m\u001b[0;32m     61\u001b[0m         \u001b[0mself\u001b[0m\u001b[1;33m.\u001b[0m\u001b[0mpqsc\u001b[0m \u001b[1;33m=\u001b[0m \u001b[0mdevice\u001b[0m\u001b[1;33m\u001b[0m\u001b[1;33m\u001b[0m\u001b[0m\n\u001b[0;32m     62\u001b[0m         \u001b[0mprint\u001b[0m\u001b[1;33m(\u001b[0m\u001b[1;34mf\"Added PQSC\"\u001b[0m\u001b[1;33m)\u001b[0m\u001b[1;33m\u001b[0m\u001b[1;33m\u001b[0m\u001b[0m\n",
      "\u001b[1;32mc:\\users\\maxr\\zi_driver_wrapper\\ziDrivers\\pqsc.py\u001b[0m in \u001b[0;36mconnect_device\u001b[1;34m(self, address, interface)\u001b[0m\n\u001b[0;32m     12\u001b[0m \u001b[1;33m\u001b[0m\u001b[0m\n\u001b[0;32m     13\u001b[0m     \u001b[1;32mdef\u001b[0m \u001b[0mconnect_device\u001b[0m\u001b[1;33m(\u001b[0m\u001b[0mself\u001b[0m\u001b[1;33m,\u001b[0m \u001b[0maddress\u001b[0m\u001b[1;33m,\u001b[0m \u001b[0minterface\u001b[0m\u001b[1;33m)\u001b[0m\u001b[1;33m:\u001b[0m\u001b[1;33m\u001b[0m\u001b[1;33m\u001b[0m\u001b[0m\n\u001b[1;32m---> 14\u001b[1;33m         \u001b[0mself\u001b[0m\u001b[1;33m.\u001b[0m\u001b[0m_controller\u001b[0m\u001b[1;33m.\u001b[0m\u001b[0mconnect_device\u001b[0m\u001b[1;33m(\u001b[0m\u001b[0mself\u001b[0m\u001b[1;33m.\u001b[0m\u001b[0m__name\u001b[0m\u001b[1;33m,\u001b[0m \u001b[0maddress\u001b[0m\u001b[1;33m,\u001b[0m \u001b[0minterface\u001b[0m\u001b[1;33m)\u001b[0m\u001b[1;33m\u001b[0m\u001b[1;33m\u001b[0m\u001b[0m\n\u001b[0m\u001b[0;32m     15\u001b[0m         \u001b[0mself\u001b[0m\u001b[1;33m.\u001b[0m\u001b[0m__init_settings\u001b[0m\u001b[1;33m(\u001b[0m\u001b[1;33m)\u001b[0m\u001b[1;33m\u001b[0m\u001b[1;33m\u001b[0m\u001b[0m\n\u001b[0;32m     16\u001b[0m \u001b[1;33m\u001b[0m\u001b[0m\n",
      "\u001b[1;32mc:\\users\\maxr\\zi_driver_wrapper\\ziDrivers\\base.py\u001b[0m in \u001b[0;36mconnect_device\u001b[1;34m(self, name, address, interface)\u001b[0m\n\u001b[0;32m     43\u001b[0m                 self._connection.connect_device(\n\u001b[0;32m     44\u001b[0m                     \u001b[0mserial\u001b[0m\u001b[1;33m=\u001b[0m\u001b[0mself\u001b[0m\u001b[1;33m.\u001b[0m\u001b[0m_devices\u001b[0m\u001b[1;33m[\u001b[0m\u001b[0mname\u001b[0m\u001b[1;33m]\u001b[0m\u001b[1;33m.\u001b[0m\u001b[0mserial\u001b[0m\u001b[1;33m,\u001b[0m\u001b[1;33m\u001b[0m\u001b[1;33m\u001b[0m\u001b[0m\n\u001b[1;32m---> 45\u001b[1;33m                     \u001b[0minterface\u001b[0m\u001b[1;33m=\u001b[0m\u001b[0mself\u001b[0m\u001b[1;33m.\u001b[0m\u001b[0m_devices\u001b[0m\u001b[1;33m[\u001b[0m\u001b[0mname\u001b[0m\u001b[1;33m]\u001b[0m\u001b[1;33m.\u001b[0m\u001b[0minterface\u001b[0m\u001b[1;33m,\u001b[0m\u001b[1;33m\u001b[0m\u001b[1;33m\u001b[0m\u001b[0m\n\u001b[0m\u001b[0;32m     46\u001b[0m                 )\n\u001b[0;32m     47\u001b[0m         \u001b[1;32mif\u001b[0m \u001b[0mname\u001b[0m \u001b[1;32mnot\u001b[0m \u001b[1;32min\u001b[0m \u001b[0mself\u001b[0m\u001b[1;33m.\u001b[0m\u001b[0m_devices\u001b[0m\u001b[1;33m.\u001b[0m\u001b[0mkeys\u001b[0m\u001b[1;33m(\u001b[0m\u001b[1;33m)\u001b[0m\u001b[1;33m:\u001b[0m\u001b[1;33m\u001b[0m\u001b[1;33m\u001b[0m\u001b[0m\n",
      "\u001b[1;32mc:\\users\\maxr\\zi_driver_wrapper\\ziDrivers\\connection\\connection.py\u001b[0m in \u001b[0;36mconnect_device\u001b[1;34m(self, **kwargs)\u001b[0m\n\u001b[0;32m     45\u001b[0m         \u001b[0mserial\u001b[0m \u001b[1;33m=\u001b[0m \u001b[0mkwargs\u001b[0m\u001b[1;33m.\u001b[0m\u001b[0mget\u001b[0m\u001b[1;33m(\u001b[0m\u001b[1;34m\"serial\"\u001b[0m\u001b[1;33m)\u001b[0m\u001b[1;33m\u001b[0m\u001b[1;33m\u001b[0m\u001b[0m\n\u001b[0;32m     46\u001b[0m         \u001b[0minterface\u001b[0m \u001b[1;33m=\u001b[0m \u001b[0mkwargs\u001b[0m\u001b[1;33m.\u001b[0m\u001b[0mget\u001b[0m\u001b[1;33m(\u001b[0m\u001b[1;34m\"interface\"\u001b[0m\u001b[1;33m)\u001b[0m\u001b[1;33m\u001b[0m\u001b[1;33m\u001b[0m\u001b[0m\n\u001b[1;32m---> 47\u001b[1;33m         \u001b[0mself\u001b[0m\u001b[1;33m.\u001b[0m\u001b[0m__daq\u001b[0m\u001b[1;33m.\u001b[0m\u001b[0mconnectDevice\u001b[0m\u001b[1;33m(\u001b[0m\u001b[0mserial\u001b[0m\u001b[1;33m,\u001b[0m \u001b[0minterface\u001b[0m\u001b[1;33m)\u001b[0m\u001b[1;33m\u001b[0m\u001b[1;33m\u001b[0m\u001b[0m\n\u001b[0m\u001b[0;32m     48\u001b[0m         print(\n\u001b[0;32m     49\u001b[0m             \u001b[1;34mf\"Successfully connected to device {serial.upper()} on interface {interface.upper()}\"\u001b[0m\u001b[1;33m\u001b[0m\u001b[1;33m\u001b[0m\u001b[0m\n",
      "\u001b[1;31mRuntimeError\u001b[0m: ZIAPIServerException with status code: 32788. Device is not visible to the server."
     ]
    }
   ],
   "source": [
    "m.connect_pqsc(\"dev10004\", \"1GbE\")"
   ]
  },
  {
   "cell_type": "code",
   "execution_count": 5,
   "metadata": {},
   "outputs": [
    {
     "data": {
      "text/plain": [
       "{'_shared_connection': <ziDrivers.connection.connection.ZIDeviceConnection at 0x1ca2728aac8>,\n",
       " '_instrument_config': InstrumentConfiguration.Data(api_configs=[API.Data(provider='zi', details=ZIAPI.Data(host='localhost', port=8004, api=6, name=None))], instruments=[Instrument.Data(provider='zi', setup=[ZIDevice.Data(name='hdawg0', config=ZIDeviceConfig.Data(serial='dev####', device_type='hdawg', interface='1gbe'), connectivity=ZIDEVICEIO.Data(awgs=[ZIAWG.Data(awg=0, config=ZIAWGConfig.Data(iq=False), ch0=ZIAWGChannelConfig.Data(wave='u0', trig=None, marker=None), ch1=ZIAWGChannelConfig.Data(wave='u1', trig=None, marker=None)), ZIAWG.Data(awg=1, config=ZIAWGConfig.Data(iq=False), ch0=ZIAWGChannelConfig.Data(wave='u2', trig=None, marker=None), ch1=ZIAWGChannelConfig.Data(wave='u3', trig=None, marker=None)), ZIAWG.Data(awg=2, config=ZIAWGConfig.Data(iq=False), ch0=ZIAWGChannelConfig.Data(wave='u0', trig=None, marker=None), ch1=ZIAWGChannelConfig.Data(wave='u1', trig=None, marker=None)), ZIAWG.Data(awg=3, config=ZIAWGConfig.Data(iq=False), ch0=ZIAWGChannelConfig.Data(wave='u2', trig=None, marker=None), ch1=ZIAWGChannelConfig.Data(wave='u3', trig=None, marker=None))], dio=ZIDIOConfig.Data(device='None'))), ZIDevice.Data(name='uhfqa0', config=ZIDeviceConfig.Data(serial='dev####', device_type='uhfqa', interface='1gbe'), connectivity=ZIDEVICEIO.Data(awgs=[ZIAWG.Data(awg=0, config=ZIAWGConfig.Data(iq=False), ch0=ZIAWGChannelConfig.Data(wave='u0', trig=None, marker=None), ch1=ZIAWGChannelConfig.Data(wave='u1', trig=None, marker=None))], dio=ZIDIOConfig.Data(device='None')))])]),\n",
       " 'hdawgs': {},\n",
       " 'uhfqas': {},\n",
       " 'pqsc': None}"
      ]
     },
     "execution_count": 5,
     "metadata": {},
     "output_type": "execute_result"
    }
   ],
   "source": [
    "m.__dict__"
   ]
  },
  {
   "cell_type": "code",
   "execution_count": null,
   "metadata": {},
   "outputs": [],
   "source": []
  },
  {
   "cell_type": "code",
   "execution_count": null,
   "metadata": {},
   "outputs": [],
   "source": []
  }
 ],
 "metadata": {
  "kernelspec": {
   "display_name": "Python 3",
   "language": "python",
   "name": "python3"
  },
  "language_info": {
   "codemirror_mode": {
    "name": "ipython",
    "version": 3
   },
   "file_extension": ".py",
   "mimetype": "text/x-python",
   "name": "python",
   "nbconvert_exporter": "python",
   "pygments_lexer": "ipython3",
   "version": "3.6.9"
  }
 },
 "nbformat": 4,
 "nbformat_minor": 4
}
