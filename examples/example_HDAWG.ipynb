{
 "cells": [
  {
   "cell_type": "code",
   "execution_count": 1,
   "metadata": {},
   "outputs": [],
   "source": [
    "import numpy as np\n",
    "import zhinst.toolkit as tk"
   ]
  },
  {
   "cell_type": "code",
   "execution_count": 3,
   "metadata": {},
   "outputs": [
    {
     "name": "stdout",
     "output_type": "stream",
     "text": [
      "Successfully connected to data server at localhost8004 api version: 6\n",
      "Successfully connected to device DEV8030 on interface 1GBE\n"
     ]
    }
   ],
   "source": [
    "hd = tk.HDAWG(\"hd1\")\n",
    "hd.setup()\n",
    "hd.connect_device(\"dev8030\", \"1gbe\")"
   ]
  },
  {
   "cell_type": "code",
   "execution_count": 47,
   "metadata": {},
   "outputs": [],
   "source": [
    "hd.awgs[0].output = \"on\""
   ]
  },
  {
   "cell_type": "code",
   "execution_count": 51,
   "metadata": {},
   "outputs": [
    {
     "name": "stdout",
     "output_type": "stream",
     "text": [
      "current length of queue: 1\n",
      "Compilation successful\n",
      "hd1: Sequencer status: ELF file uploaded\n",
      "Upload of 1 waveforms took 0.049970388412475586 s\n"
     ]
    }
   ],
   "source": [
    "hd.awgs[0].set_sequence_params(\n",
    "    sequence_type=\"Simple\",\n",
    "    repetitions=1e6,\n",
    "    trigger_mode=\"Send Trigger\",\n",
    "    period=1e-3,\n",
    ")\n",
    "hd.awgs[0].reset_queue()\n",
    "hd.awgs[0].queue_waveform([], [])\n",
    "hd.awgs[0].compile_and_upload_waveforms()"
   ]
  },
  {
   "cell_type": "code",
   "execution_count": 63,
   "metadata": {},
   "outputs": [
    {
     "name": "stdout",
     "output_type": "stream",
     "text": [
      "current length of queue: 1\n",
      "Compilation successful\n",
      "hd1: Sequencer status: ELF file uploaded\n",
      "Upload of 1 waveforms took 0.010030031204223633 s\n"
     ]
    }
   ],
   "source": [
    "hd.awgs[1].output = \"on\"\n",
    "hd.awgs[1].set_sequence_params(\n",
    "    sequence_type=\"Simple\",\n",
    "    repetitions=1e6,\n",
    "    trigger_mode=\"External Trigger\",\n",
    "    period=1e-3,\n",
    "    alignment=\"End with Trigger\",\n",
    "    trigger_delay=500e-9\n",
    ")\n",
    "hd.awgs[1].reset_queue()\n",
    "hd.awgs[1].queue_waveform(np.ones(1000), -np.ones(1000))\n",
    "hd.awgs[1].compile_and_upload_waveforms()"
   ]
  },
  {
   "cell_type": "code",
   "execution_count": 64,
   "metadata": {},
   "outputs": [
    {
     "name": "stdout",
     "output_type": "stream",
     "text": [
      "hd1: Started AWG 1!\n",
      "hd1: Started AWG 0!\n"
     ]
    }
   ],
   "source": [
    "hd.awgs[1].run()\n",
    "time.sleep(0.5)\n",
    "hd.awgs[0].run()"
   ]
  },
  {
   "cell_type": "code",
   "execution_count": 53,
   "metadata": {},
   "outputs": [],
   "source": [
    "import time"
   ]
  },
  {
   "cell_type": "code",
   "execution_count": 62,
   "metadata": {},
   "outputs": [
    {
     "name": "stdout",
     "output_type": "stream",
     "text": [
      "hd1: Stopped AWG 1!\n",
      "hd1: Stopped AWG 0!\n"
     ]
    }
   ],
   "source": [
    "hd.awgs[1].stop()\n",
    "time.sleep(0.5)\n",
    "hd.awgs[0].stop()"
   ]
  },
  {
   "cell_type": "code",
   "execution_count": null,
   "metadata": {},
   "outputs": [],
   "source": []
  },
  {
   "cell_type": "code",
   "execution_count": null,
   "metadata": {},
   "outputs": [],
   "source": []
  },
  {
   "cell_type": "code",
   "execution_count": 32,
   "metadata": {},
   "outputs": [
    {
     "name": "stdout",
     "output_type": "stream",
     "text": [
      "Upload of 4 waveforms took 0.02498173713684082 s\n"
     ]
    }
   ],
   "source": [
    "hd.awgs[0].upload_waveforms()"
   ]
  },
  {
   "cell_type": "code",
   "execution_count": 34,
   "metadata": {},
   "outputs": [
    {
     "data": {
      "text/plain": [
       "{'_parent': <zhinst.toolkit.HDAWG.HDAWG at 0x18a60a58c50>,\n",
       " '_name': 'hd1',\n",
       " '_index': 0,\n",
       " '_output': 0,\n",
       " '_iq_modulation': True,\n",
       " '_modulation_freq': 100000000.0,\n",
       " '_modulation_phase_shift': 0,\n",
       " '_modulation_gains': (1.0, 1.0),\n",
       " 'phase_shift': 5}"
      ]
     },
     "execution_count": 34,
     "metadata": {},
     "output_type": "execute_result"
    }
   ],
   "source": [
    "hd.awgs[0].__dict__"
   ]
  },
  {
   "cell_type": "code",
   "execution_count": 43,
   "metadata": {},
   "outputs": [],
   "source": [
    "hd.awgs[0].set_sequence_params(\n",
    "    sequence_type=\"T1\",\n",
    "    period=100e-6,\n",
    "    repetitions=1e5,\n",
    "    trigger_mode=\"External Trigger\",\n",
    "    delay_times=np.linspace(1e-6, 10e-6, 10),\n",
    "    trigger_delay=-1e-6\n",
    ")"
   ]
  },
  {
   "cell_type": "code",
   "execution_count": 44,
   "metadata": {},
   "outputs": [
    {
     "name": "stdout",
     "output_type": "stream",
     "text": [
      "Compilation successful\n",
      "hd1: Sequencer status: ELF file uploaded\n"
     ]
    }
   ],
   "source": [
    "hd.awgs[0].compile()"
   ]
  },
  {
   "cell_type": "code",
   "execution_count": 12,
   "metadata": {},
   "outputs": [
    {
     "name": "stdout",
     "output_type": "stream",
     "text": [
      "current length of queue: 1\n"
     ]
    }
   ],
   "source": [
    "hd.awgs[0].queue_waveform(np.ones(1000), np.ones(1000))"
   ]
  },
  {
   "cell_type": "code",
   "execution_count": 16,
   "metadata": {},
   "outputs": [],
   "source": [
    "hd.awgs[0].reset_queue()"
   ]
  },
  {
   "cell_type": "code",
   "execution_count": 17,
   "metadata": {},
   "outputs": [
    {
     "name": "stdout",
     "output_type": "stream",
     "text": [
      "current length of queue: 1\n",
      "current length of queue: 2\n",
      "current length of queue: 3\n",
      "current length of queue: 4\n",
      "current length of queue: 5\n",
      "current length of queue: 6\n",
      "current length of queue: 7\n",
      "current length of queue: 8\n",
      "current length of queue: 9\n",
      "current length of queue: 10\n",
      "current length of queue: 11\n",
      "current length of queue: 12\n",
      "current length of queue: 13\n",
      "current length of queue: 14\n",
      "current length of queue: 15\n",
      "current length of queue: 16\n",
      "current length of queue: 17\n",
      "current length of queue: 18\n",
      "current length of queue: 19\n",
      "current length of queue: 20\n",
      "current length of queue: 21\n",
      "current length of queue: 22\n",
      "current length of queue: 23\n",
      "current length of queue: 24\n",
      "current length of queue: 25\n"
     ]
    }
   ],
   "source": [
    "n = 25\n",
    "for i in range(n):\n",
    "    wave1 = i/n * np.ones(400)\n",
    "    wave2 = (1 - i/n) * np.ones(400)\n",
    "    hd.awgs[0].queue_waveform(wave1, wave2)"
   ]
  },
  {
   "cell_type": "code",
   "execution_count": 18,
   "metadata": {},
   "outputs": [
    {
     "name": "stdout",
     "output_type": "stream",
     "text": [
      "Compilation successful\n",
      "hdawg0: Sequencer status: ELF file uploaded\n",
      "Upload of 25 waveforms took 0.021963834762573242 s\n"
     ]
    }
   ],
   "source": [
    "hd.awgs[0].compile_and_upload_waveforms()"
   ]
  },
  {
   "cell_type": "code",
   "execution_count": 19,
   "metadata": {},
   "outputs": [
    {
     "name": "stdout",
     "output_type": "stream",
     "text": [
      "hdawg0: Started AWG 0!\n"
     ]
    }
   ],
   "source": [
    "hd.awgs[0].run()"
   ]
  },
  {
   "cell_type": "code",
   "execution_count": 20,
   "metadata": {},
   "outputs": [
    {
     "data": {
      "text/plain": [
       "1"
      ]
     },
     "execution_count": 20,
     "metadata": {},
     "output_type": "execute_result"
    }
   ],
   "source": [
    "hd.awgs[0].is_running"
   ]
  },
  {
   "cell_type": "code",
   "execution_count": 21,
   "metadata": {},
   "outputs": [
    {
     "name": "stdout",
     "output_type": "stream",
     "text": [
      "hdawg0: Stopped AWG 0!\n"
     ]
    }
   ],
   "source": [
    "hd.awgs[0].stop()"
   ]
  },
  {
   "cell_type": "code",
   "execution_count": 25,
   "metadata": {},
   "outputs": [],
   "source": [
    "hd.set(\"awgs/0/single\", 1)"
   ]
  },
  {
   "cell_type": "code",
   "execution_count": null,
   "metadata": {},
   "outputs": [],
   "source": []
  }
 ],
 "metadata": {
  "kernelspec": {
   "display_name": "Python 3",
   "language": "python",
   "name": "python3"
  },
  "language_info": {
   "codemirror_mode": {
    "name": "ipython",
    "version": 3
   },
   "file_extension": ".py",
   "mimetype": "text/x-python",
   "name": "python",
   "nbconvert_exporter": "python",
   "pygments_lexer": "ipython3",
   "version": "3.6.9"
  }
 },
 "nbformat": 4,
 "nbformat_minor": 4
}
