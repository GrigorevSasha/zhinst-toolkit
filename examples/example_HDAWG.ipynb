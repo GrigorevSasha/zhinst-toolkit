{
 "cells": [
  {
   "cell_type": "code",
   "execution_count": 1,
   "metadata": {},
   "outputs": [],
   "source": [
    "import numpy as np\n",
    "from ziDrivers import HDAWG"
   ]
  },
  {
   "cell_type": "code",
   "execution_count": 2,
   "metadata": {},
   "outputs": [
    {
     "name": "stdout",
     "output_type": "stream",
     "text": [
      "Successfully connected to data server at localhost8004 api version: 6\n",
      "Successfully connected to device DEV8030 on interface 1GBE\n"
     ]
    }
   ],
   "source": [
    "hd = HDAWG()\n",
    "hd.setup()\n",
    "hd.connect_device(\"dev8030\", \"1gbe\")"
   ]
  },
  {
   "cell_type": "code",
   "execution_count": 5,
   "metadata": {},
   "outputs": [
    {
     "data": {
      "text/plain": [
       "hdawg0: <ziDrivers.HDAWGController.AWG object at 0x0000028BFDD06EB8>\n",
       "    parent  : <ziDrivers.HDAWGController.HDAWGController object at 0x0000028BFDD011D0>\n",
       "    index   : 0\n",
       "    sequence: \n",
       "           type: None\n",
       "            ('target', 'hdawg')\n",
       "            ('clock_rate', 2400000000.0)\n",
       "            ('period', 0.0001)\n",
       "            ('trigger_mode', 'None')\n",
       "            ('repetitions', 1)\n",
       "            ('alignment', 'End with Trigger')\n",
       "            ('n_HW_loop', 1)\n",
       "            ('dead_time', 5e-06)\n",
       "            ('trigger_delay', 0)\n",
       "            ('latency', 1.6e-07)\n",
       "            ('trigger_cmd_1', '//\\n')\n",
       "            ('trigger_cmd_2', '//\\n')\n",
       "            ('wait_cycles', 0)\n",
       "            ('dead_cycles', 0)\n",
       "      IQ Modulation DISABLED"
      ]
     },
     "execution_count": 5,
     "metadata": {},
     "output_type": "execute_result"
    }
   ],
   "source": [
    "hd.awgs[0]"
   ]
  },
  {
   "cell_type": "code",
   "execution_count": 6,
   "metadata": {},
   "outputs": [],
   "source": [
    "hd.awgs[0].enable_iq_modulation()"
   ]
  },
  {
   "cell_type": "code",
   "execution_count": 7,
   "metadata": {},
   "outputs": [
    {
     "data": {
      "text/plain": [
       "hdawg0: <ziDrivers.HDAWGController.AWG object at 0x0000028BFDD06EB8>\n",
       "    parent  : <ziDrivers.HDAWGController.HDAWGController object at 0x0000028BFDD011D0>\n",
       "    index   : 0\n",
       "    sequence: \n",
       "           type: None\n",
       "            ('target', 'hdawg')\n",
       "            ('clock_rate', 2400000000.0)\n",
       "            ('period', 0.0001)\n",
       "            ('trigger_mode', 'None')\n",
       "            ('repetitions', 1)\n",
       "            ('alignment', 'End with Trigger')\n",
       "            ('n_HW_loop', 1)\n",
       "            ('dead_time', 5e-06)\n",
       "            ('trigger_delay', 0)\n",
       "            ('latency', 1.6e-07)\n",
       "            ('trigger_cmd_1', '//\\n')\n",
       "            ('trigger_cmd_2', '//\\n')\n",
       "            ('wait_cycles', 0)\n",
       "            ('dead_cycles', 0)\n",
       "      IQ Modulation ENABLED:\n",
       "         frequency   : 10000000.0\n",
       "         phase_shift : 0\n",
       "         gains       : (1.0, 1.0)"
      ]
     },
     "execution_count": 7,
     "metadata": {},
     "output_type": "execute_result"
    }
   ],
   "source": [
    "hd.awgs[0]"
   ]
  },
  {
   "cell_type": "code",
   "execution_count": 8,
   "metadata": {},
   "outputs": [],
   "source": [
    "hd.awgs[0].set_sequence_params(\n",
    "    sequence_type=\"Simple\",\n",
    "    period=100e-6,\n",
    "    repetitions=1e5,\n",
    "    trigger_mode=\"Send Trigger\",\n",
    "    alignment=\"Start with Trigger\",\n",
    ")"
   ]
  },
  {
   "cell_type": "code",
   "execution_count": 12,
   "metadata": {},
   "outputs": [
    {
     "name": "stdout",
     "output_type": "stream",
     "text": [
      "current length of queue: 1\n"
     ]
    }
   ],
   "source": [
    "hd.awgs[0].queue_waveform(np.ones(1000), np.ones(1000))"
   ]
  },
  {
   "cell_type": "code",
   "execution_count": 16,
   "metadata": {},
   "outputs": [],
   "source": [
    "hd.awgs[0].reset_queue()"
   ]
  },
  {
   "cell_type": "code",
   "execution_count": 17,
   "metadata": {},
   "outputs": [
    {
     "name": "stdout",
     "output_type": "stream",
     "text": [
      "current length of queue: 1\n",
      "current length of queue: 2\n",
      "current length of queue: 3\n",
      "current length of queue: 4\n",
      "current length of queue: 5\n",
      "current length of queue: 6\n",
      "current length of queue: 7\n",
      "current length of queue: 8\n",
      "current length of queue: 9\n",
      "current length of queue: 10\n",
      "current length of queue: 11\n",
      "current length of queue: 12\n",
      "current length of queue: 13\n",
      "current length of queue: 14\n",
      "current length of queue: 15\n",
      "current length of queue: 16\n",
      "current length of queue: 17\n",
      "current length of queue: 18\n",
      "current length of queue: 19\n",
      "current length of queue: 20\n",
      "current length of queue: 21\n",
      "current length of queue: 22\n",
      "current length of queue: 23\n",
      "current length of queue: 24\n",
      "current length of queue: 25\n"
     ]
    }
   ],
   "source": [
    "n = 25\n",
    "for i in range(n):\n",
    "    wave1 = i/n * np.ones(400)\n",
    "    wave2 = (1 - i/n) * np.ones(400)\n",
    "    hd.awgs[0].queue_waveform(wave1, wave2)"
   ]
  },
  {
   "cell_type": "code",
   "execution_count": 18,
   "metadata": {},
   "outputs": [
    {
     "name": "stdout",
     "output_type": "stream",
     "text": [
      "Compilation successful\n",
      "hdawg0: Sequencer status: ELF file uploaded\n",
      "Upload of 25 waveforms took 0.021963834762573242 s\n"
     ]
    }
   ],
   "source": [
    "hd.awgs[0].compile_and_upload_waveforms()"
   ]
  },
  {
   "cell_type": "code",
   "execution_count": 19,
   "metadata": {},
   "outputs": [
    {
     "name": "stdout",
     "output_type": "stream",
     "text": [
      "hdawg0: Started AWG 0!\n"
     ]
    }
   ],
   "source": [
    "hd.awgs[0].run()"
   ]
  },
  {
   "cell_type": "code",
   "execution_count": 20,
   "metadata": {},
   "outputs": [
    {
     "data": {
      "text/plain": [
       "1"
      ]
     },
     "execution_count": 20,
     "metadata": {},
     "output_type": "execute_result"
    }
   ],
   "source": [
    "hd.awgs[0].is_running"
   ]
  },
  {
   "cell_type": "code",
   "execution_count": 21,
   "metadata": {},
   "outputs": [
    {
     "name": "stdout",
     "output_type": "stream",
     "text": [
      "hdawg0: Stopped AWG 0!\n"
     ]
    }
   ],
   "source": [
    "hd.awgs[0].stop()"
   ]
  },
  {
   "cell_type": "code",
   "execution_count": 25,
   "metadata": {},
   "outputs": [],
   "source": [
    "hd.set(\"awgs/0/single\", 1)"
   ]
  },
  {
   "cell_type": "code",
   "execution_count": null,
   "metadata": {},
   "outputs": [],
   "source": []
  }
 ],
 "metadata": {
  "kernelspec": {
   "display_name": "Python 3",
   "language": "python",
   "name": "python3"
  },
  "language_info": {
   "codemirror_mode": {
    "name": "ipython",
    "version": 3
   },
   "file_extension": ".py",
   "mimetype": "text/x-python",
   "name": "python",
   "nbconvert_exporter": "python",
   "pygments_lexer": "ipython3",
   "version": "3.6.9"
  }
 },
 "nbformat": 4,
 "nbformat_minor": 4
}
