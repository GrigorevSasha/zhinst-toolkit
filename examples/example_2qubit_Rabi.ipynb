{
 "cells": [
  {
   "cell_type": "code",
   "execution_count": 1,
   "metadata": {},
   "outputs": [],
   "source": [
    "import numpy as np\n",
    "import time\n",
    "import zhinst.toolkit as tk"
   ]
  },
  {
   "cell_type": "code",
   "execution_count": 2,
   "metadata": {},
   "outputs": [
    {
     "name": "stdout",
     "output_type": "stream",
     "text": [
      "Successfully connected to data server at localhost8004 api version: 6\n"
     ]
    }
   ],
   "source": [
    "mdc = tk.MultiDeviceController()\n",
    "mdc.setup()"
   ]
  },
  {
   "cell_type": "code",
   "execution_count": 3,
   "metadata": {},
   "outputs": [
    {
     "name": "stdout",
     "output_type": "stream",
     "text": [
      "Successfully connected to data server at localhost8004 api version: 6\n",
      "Successfully connected to device DEV8030 on interface 1GBE\n",
      "Added HDAWG: hd1\n",
      "Successfully connected to data server at localhost8004 api version: 6\n",
      "Successfully connected to device DEV2266 on interface 1GBE\n",
      "Added UHFQA: qa1\n"
     ]
    }
   ],
   "source": [
    "mdc.connect_hdawg(\"hd1\", \"dev8030\", \"1GbE\")\n",
    "mdc.connect_uhfqa(\"qa1\", \"dev2266\", \"1GbE\")"
   ]
  },
  {
   "cell_type": "code",
   "execution_count": null,
   "metadata": {},
   "outputs": [],
   "source": []
  },
  {
   "cell_type": "code",
   "execution_count": null,
   "metadata": {},
   "outputs": [],
   "source": []
  },
  {
   "cell_type": "code",
   "execution_count": null,
   "metadata": {},
   "outputs": [],
   "source": [
    "mdc.hdawgs[\"hd1\"].awgs[0].replace_waveform"
   ]
  },
  {
   "cell_type": "code",
   "execution_count": 7,
   "metadata": {},
   "outputs": [
    {
     "data": {
      "text/plain": [
       "array([0., 0., 0., 0., 0., 0., 0., 0., 0., 0., 0., 0., 0., 0., 0., 0., 0.,\n",
       "       0., 0., 0., 0., 0., 0., 0., 0., 0., 0., 0., 0., 0., 0., 0., 0., 0.,\n",
       "       0., 0., 0., 0., 0., 0., 0., 0., 0., 0., 0., 0., 0., 0., 0., 0., 0.,\n",
       "       0., 0., 0., 0., 0., 0., 0., 0., 0., 0., 0., 0., 0., 0., 0., 0., 0.,\n",
       "       0., 0., 0., 0., 0., 0., 0., 0., 0., 0., 0., 0., 0., 0., 0., 0., 0.,\n",
       "       0., 0., 0., 0., 0., 0., 0., 0., 0., 0., 0., 0., 0., 0., 0.])"
      ]
     },
     "execution_count": 7,
     "metadata": {},
     "output_type": "execute_result"
    }
   ],
   "source": [
    "mdc.uhfqas[\"qa1\"].channels[0].result"
   ]
  },
  {
   "cell_type": "code",
   "execution_count": null,
   "metadata": {},
   "outputs": [],
   "source": []
  },
  {
   "cell_type": "code",
   "execution_count": null,
   "metadata": {},
   "outputs": [],
   "source": []
  },
  {
   "cell_type": "code",
   "execution_count": 4,
   "metadata": {},
   "outputs": [],
   "source": [
    "trigger = mdc.hdawgs[\"hd1\"].awgs[0]\n",
    "awgs = mdc.hdawgs[\"hd1\"].awgs[1:3]\n",
    "readout = mdc.uhfqas[\"qa1\"]"
   ]
  },
  {
   "cell_type": "code",
   "execution_count": 5,
   "metadata": {},
   "outputs": [
    {
     "name": "stdout",
     "output_type": "stream",
     "text": [
      "current length of queue: 1\n",
      "Connection: change to dev8030, 0\n",
      "Compilation successful\n",
      "hdawg0: Sequencer status: ELF file uploaded\n",
      "Upload of 1 waveforms took 0.012990236282348633 s\n"
     ]
    }
   ],
   "source": [
    "trigger.reset_queue()\n",
    "trigger.output = \"on\"\n",
    "trigger.set_sequence_params(\n",
    "    sequence_type=\"Simple\",\n",
    "    trigger_mode=\"Send Trigger\",\n",
    "    alignment=\"Start with Trigger\",\n",
    "    period=20e-6,\n",
    "    repetitions=1e7,\n",
    ")\n",
    "trigger.queue_waveform(np.ones(2400), np.ones(2400))\n",
    "trigger.compile_and_upload_waveforms()"
   ]
  },
  {
   "cell_type": "code",
   "execution_count": 9,
   "metadata": {},
   "outputs": [
    {
     "name": "stdout",
     "output_type": "stream",
     "text": [
      "Connection: change to dev8030, 0\n",
      "Connection: change to dev8030, 1\n",
      "Compilation successful\n",
      "hdawg0: Sequencer status: ELF file uploaded\n"
     ]
    }
   ],
   "source": [
    "awgs[0].output = \"on\"\n",
    "awgs[0].set_sequence_params(\n",
    "    sequence_type=\"Rabi\",\n",
    "    trigger_mode=\"External Trigger\",\n",
    "    alignment=\"End with Trigger\",\n",
    "    period=20e-6,\n",
    "    repetitions=1,\n",
    "    pulse_width=5e-9,\n",
    ")\n",
    "awgs[0].compile()\n",
    "awgs[0].enable_iq_modulation()\n",
    "awgs[0].modulation_frequency = 91e6"
   ]
  },
  {
   "cell_type": "code",
   "execution_count": 10,
   "metadata": {},
   "outputs": [
    {
     "name": "stdout",
     "output_type": "stream",
     "text": [
      "Connection: change to dev8030, 2\n",
      "Compilation successful\n",
      "hdawg0: Sequencer status: ELF file uploaded\n"
     ]
    }
   ],
   "source": [
    "awgs[1].output = \"on\"\n",
    "awgs[1].set_sequence_params(\n",
    "    sequence_type=\"Rabi\",\n",
    "    trigger_mode=\"External Trigger\",\n",
    "    alignment=\"End with Trigger\",\n",
    "    period=20e-6,\n",
    "    repetitions=1e7,\n",
    "    pulse_width=5e-9,\n",
    ")\n",
    "awgs[1].enable_iq_modulation()\n",
    "awgs[1].modulation_frequency = 105e6\n",
    "awgs[1].compile()"
   ]
  },
  {
   "cell_type": "code",
   "execution_count": 11,
   "metadata": {},
   "outputs": [
    {
     "name": "stdout",
     "output_type": "stream",
     "text": [
      "Connection: change to dev8030, 0\n",
      "Connection: change to dev2266, 0\n",
      "Compilation successful\n",
      "uhfqa0: Sequencer status: ELF file uploaded\n"
     ]
    }
   ],
   "source": [
    "[ch.enable() for ch in readout.channels[:2]]\n",
    "readout.channels[0].readout_frequency = 82e6\n",
    "readout.channels[1].readout_frequency = 96e6\n",
    "\n",
    "readout.awg.output = \"on\"\n",
    "readout.awg.set_sequence_params(\n",
    "    sequence_type=\"Readout\",\n",
    "    trigger_mode=\"External Trigger\",\n",
    "    alignment=\"Start with Trigger\",\n",
    "    period=20e-6,\n",
    "    repetitions=1e7,\n",
    "    trigger_delay=-100e-9\n",
    ")\n",
    "readout.awg.compile()"
   ]
  },
  {
   "cell_type": "code",
   "execution_count": 12,
   "metadata": {},
   "outputs": [
    {
     "name": "stdout",
     "output_type": "stream",
     "text": [
      "hdawg0: Started AWG 1!\n",
      "hdawg0: Started AWG 2!\n",
      "uhfqa0: Started AWG 0!\n",
      "hdawg0: Started AWG 0!\n"
     ]
    }
   ],
   "source": [
    "[awg.run() for awg in awgs]\n",
    "readout.awg.run()\n",
    "time.sleep(1)\n",
    "trigger.run()"
   ]
  },
  {
   "cell_type": "code",
   "execution_count": 13,
   "metadata": {},
   "outputs": [
    {
     "name": "stdout",
     "output_type": "stream",
     "text": [
      "hdawg0: Stopped AWG 1!\n",
      "hdawg0: Stopped AWG 2!\n",
      "uhfqa0: Stopped AWG 0!\n",
      "hdawg0: Stopped AWG 0!\n"
     ]
    }
   ],
   "source": [
    "[awg.stop() for awg in awgs]\n",
    "readout.awg.stop()\n",
    "trigger.stop()"
   ]
  },
  {
   "cell_type": "code",
   "execution_count": null,
   "metadata": {},
   "outputs": [],
   "source": []
  }
 ],
 "metadata": {
  "kernelspec": {
   "display_name": "Python 3",
   "language": "python",
   "name": "python3"
  },
  "language_info": {
   "codemirror_mode": {
    "name": "ipython",
    "version": 3
   },
   "file_extension": ".py",
   "mimetype": "text/x-python",
   "name": "python",
   "nbconvert_exporter": "python",
   "pygments_lexer": "ipython3",
   "version": "3.6.9"
  }
 },
 "nbformat": 4,
 "nbformat_minor": 4
}
