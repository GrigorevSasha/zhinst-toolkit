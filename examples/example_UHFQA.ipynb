{
 "cells": [
  {
   "cell_type": "code",
   "execution_count": 1,
   "metadata": {},
   "outputs": [],
   "source": [
    "from ziDrivers import UHFQA"
   ]
  },
  {
   "cell_type": "code",
   "execution_count": 2,
   "metadata": {},
   "outputs": [
    {
     "name": "stdout",
     "output_type": "stream",
     "text": [
      "Successfully connected to data server at localhost8004 api version: 6\n",
      "Successfully connected to device DEV2266 on interface 1GBE\n"
     ]
    }
   ],
   "source": [
    "qa = UHFQA()\n",
    "qa.setup()\n",
    "qa.connect_device(\"dev2266\", \"1GbE\")"
   ]
  },
  {
   "cell_type": "code",
   "execution_count": 3,
   "metadata": {},
   "outputs": [
    {
     "data": {
      "text/plain": [
       "uhfqa0: <ziDrivers.UHFQAController.AWG object at 0x000002214A21EEB8>\n",
       "    parent  : <ziDrivers.UHFQAController.UHFQAController object at 0x000002214B7D02E8>\n",
       "    index   : 0\n",
       "    sequence: \n",
       "           type: None\n",
       "            ('target', 'uhfqa')\n",
       "            ('clock_rate', 2400000000.0)\n",
       "            ('period', 0.0001)\n",
       "            ('trigger_mode', 'None')\n",
       "            ('repetitions', 1)\n",
       "            ('alignment', 'End with Trigger')\n",
       "            ('n_HW_loop', 1)\n",
       "            ('dead_time', 5e-06)\n",
       "            ('trigger_delay', 0)\n",
       "            ('latency', 1.6e-07)\n",
       "            ('trigger_cmd_1', '//\\n')\n",
       "            ('trigger_cmd_2', '//\\n')\n",
       "            ('wait_cycles', 0)\n",
       "            ('dead_cycles', 0)"
      ]
     },
     "execution_count": 3,
     "metadata": {},
     "output_type": "execute_result"
    }
   ],
   "source": [
    "qa.awg"
   ]
  },
  {
   "cell_type": "code",
   "execution_count": 4,
   "metadata": {},
   "outputs": [
    {
     "data": {
      "text/plain": [
       "[Readout Channel 0:  <ziDrivers.UHFQAController.ReadoutChannel object at 0x000002214B7D0B00>\n",
       "       DISABLED,\n",
       " Readout Channel 1:  <ziDrivers.UHFQAController.ReadoutChannel object at 0x000002214B7D0940>\n",
       "       DISABLED,\n",
       " Readout Channel 2:  <ziDrivers.UHFQAController.ReadoutChannel object at 0x000002214B7D07B8>\n",
       "       DISABLED,\n",
       " Readout Channel 3:  <ziDrivers.UHFQAController.ReadoutChannel object at 0x000002214B7D0908>\n",
       "       DISABLED,\n",
       " Readout Channel 4:  <ziDrivers.UHFQAController.ReadoutChannel object at 0x000002214B7D08D0>\n",
       "       DISABLED,\n",
       " Readout Channel 5:  <ziDrivers.UHFQAController.ReadoutChannel object at 0x000002214B7D07F0>\n",
       "       DISABLED,\n",
       " Readout Channel 6:  <ziDrivers.UHFQAController.ReadoutChannel object at 0x000002214B7D0748>\n",
       "       DISABLED,\n",
       " Readout Channel 7:  <ziDrivers.UHFQAController.ReadoutChannel object at 0x000002214B7D0710>\n",
       "       DISABLED,\n",
       " Readout Channel 8:  <ziDrivers.UHFQAController.ReadoutChannel object at 0x000002214B7D06A0>\n",
       "       DISABLED,\n",
       " Readout Channel 9:  <ziDrivers.UHFQAController.ReadoutChannel object at 0x000002214B7D0668>\n",
       "       DISABLED]"
      ]
     },
     "execution_count": 4,
     "metadata": {},
     "output_type": "execute_result"
    }
   ],
   "source": [
    "qa.channels"
   ]
  },
  {
   "cell_type": "code",
   "execution_count": 5,
   "metadata": {},
   "outputs": [],
   "source": [
    "freqs = [85.6e6, 101.3e6, 132.8e6]\n",
    "\n",
    "for i, ch in enumerate(qa.channels[:3]):\n",
    "    ch.enable()\n",
    "    ch.readout_frequency = freqs[i]"
   ]
  },
  {
   "cell_type": "code",
   "execution_count": 6,
   "metadata": {},
   "outputs": [
    {
     "data": {
      "text/plain": [
       "[Readout Channel 0:  <ziDrivers.UHFQAController.ReadoutChannel object at 0x000002214B7D0B00>\n",
       "      readout_frequency : 85600000.0\n",
       "      readout_amplitude : 1\n",
       "      phase_shift       : 0\n",
       "      rotation          : 0\n",
       "      threshold         : 0,\n",
       " Readout Channel 1:  <ziDrivers.UHFQAController.ReadoutChannel object at 0x000002214B7D0940>\n",
       "      readout_frequency : 101300000.0\n",
       "      readout_amplitude : 1\n",
       "      phase_shift       : 0\n",
       "      rotation          : 0\n",
       "      threshold         : 0,\n",
       " Readout Channel 2:  <ziDrivers.UHFQAController.ReadoutChannel object at 0x000002214B7D07B8>\n",
       "      readout_frequency : 132800000.0\n",
       "      readout_amplitude : 1\n",
       "      phase_shift       : 0\n",
       "      rotation          : 0\n",
       "      threshold         : 0,\n",
       " Readout Channel 3:  <ziDrivers.UHFQAController.ReadoutChannel object at 0x000002214B7D0908>\n",
       "       DISABLED,\n",
       " Readout Channel 4:  <ziDrivers.UHFQAController.ReadoutChannel object at 0x000002214B7D08D0>\n",
       "       DISABLED,\n",
       " Readout Channel 5:  <ziDrivers.UHFQAController.ReadoutChannel object at 0x000002214B7D07F0>\n",
       "       DISABLED,\n",
       " Readout Channel 6:  <ziDrivers.UHFQAController.ReadoutChannel object at 0x000002214B7D0748>\n",
       "       DISABLED,\n",
       " Readout Channel 7:  <ziDrivers.UHFQAController.ReadoutChannel object at 0x000002214B7D0710>\n",
       "       DISABLED,\n",
       " Readout Channel 8:  <ziDrivers.UHFQAController.ReadoutChannel object at 0x000002214B7D06A0>\n",
       "       DISABLED,\n",
       " Readout Channel 9:  <ziDrivers.UHFQAController.ReadoutChannel object at 0x000002214B7D0668>\n",
       "       DISABLED]"
      ]
     },
     "execution_count": 6,
     "metadata": {},
     "output_type": "execute_result"
    }
   ],
   "source": [
    "qa.channels"
   ]
  },
  {
   "cell_type": "code",
   "execution_count": 7,
   "metadata": {},
   "outputs": [],
   "source": [
    "qa.awg.set_sequence_params(\n",
    "    sequence_type=\"Readout\",\n",
    "    trigger_mode=\"External Trigger\",\n",
    "    alignment=\"Start with Trigger\",\n",
    "    repetitions=1e4,\n",
    ")"
   ]
  },
  {
   "cell_type": "code",
   "execution_count": 8,
   "metadata": {},
   "outputs": [],
   "source": [
    "qa.awg.update_readout_params()"
   ]
  },
  {
   "cell_type": "code",
   "execution_count": 9,
   "metadata": {},
   "outputs": [
    {
     "data": {
      "text/plain": [
       "uhfqa0: <ziDrivers.UHFQAController.AWG object at 0x000002214A21EEB8>\n",
       "    parent  : <ziDrivers.UHFQAController.UHFQAController object at 0x000002214B7D02E8>\n",
       "    index   : 0\n",
       "    sequence: \n",
       "           type: Readout\n",
       "            ('target', 'uhfqa')\n",
       "            ('clock_rate', 1800000000.0)\n",
       "            ('period', 0.0001)\n",
       "            ('trigger_mode', 'External Trigger')\n",
       "            ('repetitions', 10000.0)\n",
       "            ('alignment', 'Start with Trigger')\n",
       "            ('n_HW_loop', 1)\n",
       "            ('dead_time', 5e-06)\n",
       "            ('trigger_delay', 0)\n",
       "            ('latency', 1.6e-07)\n",
       "            ('trigger_cmd_1', 'waitDigTrigger(1, 1);\\n')\n",
       "            ('trigger_cmd_2', '//\\n')\n",
       "            ('wait_cycles', 21339)\n",
       "            ('dead_cycles', 0)\n",
       "            ('readout_length', 2e-06)\n",
       "            ('readout_amplitudes', [1, 1, 1])\n",
       "            ('readout_frequencies', [85600000.0, 101300000.0, 132800000.0])\n",
       "            ('phase_shifts', [0, 0, 0])"
      ]
     },
     "execution_count": 9,
     "metadata": {},
     "output_type": "execute_result"
    }
   ],
   "source": [
    "qa.awg"
   ]
  },
  {
   "cell_type": "code",
   "execution_count": 10,
   "metadata": {},
   "outputs": [
    {
     "name": "stdout",
     "output_type": "stream",
     "text": [
      "Compilation successful\n",
      "uhfqa0: Sequencer status: ELF file uploaded\n"
     ]
    }
   ],
   "source": [
    "qa.awg.compile()"
   ]
  },
  {
   "cell_type": "code",
   "execution_count": 11,
   "metadata": {},
   "outputs": [],
   "source": [
    "qa.awg.gains = 1, 1"
   ]
  },
  {
   "cell_type": "code",
   "execution_count": 12,
   "metadata": {},
   "outputs": [
    {
     "name": "stdout",
     "output_type": "stream",
     "text": [
      "uhfqa0: Started AWG 0!\n"
     ]
    }
   ],
   "source": [
    "qa.awg.run()"
   ]
  },
  {
   "cell_type": "code",
   "execution_count": 13,
   "metadata": {},
   "outputs": [
    {
     "data": {
      "text/plain": [
       "1"
      ]
     },
     "execution_count": 13,
     "metadata": {},
     "output_type": "execute_result"
    }
   ],
   "source": [
    "qa.awg.is_running"
   ]
  },
  {
   "cell_type": "code",
   "execution_count": 14,
   "metadata": {},
   "outputs": [
    {
     "name": "stdout",
     "output_type": "stream",
     "text": [
      "uhfqa0: Stopped AWG 0!\n"
     ]
    }
   ],
   "source": [
    "qa.awg.stop()"
   ]
  },
  {
   "cell_type": "code",
   "execution_count": 15,
   "metadata": {},
   "outputs": [
    {
     "name": "stdout",
     "output_type": "stream",
     "text": [
      "[0. 0. 0. 0. 0. 0. 0. 0. 0. 0. 0. 0. 0. 0. 0. 0. 0. 0. 0. 0. 0. 0. 0. 0.\n",
      " 0. 0. 0. 0. 0. 0. 0. 0. 0. 0. 0. 0. 0. 0. 0. 0. 0. 0. 0. 0. 0. 0. 0. 0.\n",
      " 0. 0. 0. 0. 0. 0. 0. 0. 0. 0. 0. 0. 0. 0. 0. 0. 0. 0. 0. 0. 0. 0. 0. 0.\n",
      " 0. 0. 0. 0. 0. 0. 0. 0. 0. 0. 0. 0. 0. 0. 0. 0. 0. 0. 0. 0. 0. 0. 0. 0.\n",
      " 0. 0. 0. 0.]\n",
      "[0. 0. 0. 0. 0. 0. 0. 0. 0. 0. 0. 0. 0. 0. 0. 0. 0. 0. 0. 0. 0. 0. 0. 0.\n",
      " 0. 0. 0. 0. 0. 0. 0. 0. 0. 0. 0. 0. 0. 0. 0. 0. 0. 0. 0. 0. 0. 0. 0. 0.\n",
      " 0. 0. 0. 0. 0. 0. 0. 0. 0. 0. 0. 0. 0. 0. 0. 0. 0. 0. 0. 0. 0. 0. 0. 0.\n",
      " 0. 0. 0. 0. 0. 0. 0. 0. 0. 0. 0. 0. 0. 0. 0. 0. 0. 0. 0. 0. 0. 0. 0. 0.\n",
      " 0. 0. 0. 0.]\n",
      "[0. 0. 0. 0. 0. 0. 0. 0. 0. 0. 0. 0. 0. 0. 0. 0. 0. 0. 0. 0. 0. 0. 0. 0.\n",
      " 0. 0. 0. 0. 0. 0. 0. 0. 0. 0. 0. 0. 0. 0. 0. 0. 0. 0. 0. 0. 0. 0. 0. 0.\n",
      " 0. 0. 0. 0. 0. 0. 0. 0. 0. 0. 0. 0. 0. 0. 0. 0. 0. 0. 0. 0. 0. 0. 0. 0.\n",
      " 0. 0. 0. 0. 0. 0. 0. 0. 0. 0. 0. 0. 0. 0. 0. 0. 0. 0. 0. 0. 0. 0. 0. 0.\n",
      " 0. 0. 0. 0.]\n",
      "[0. 0. 0. 0. 0. 0. 0. 0. 0. 0. 0. 0. 0. 0. 0. 0. 0. 0. 0. 0. 0. 0. 0. 0.\n",
      " 0. 0. 0. 0. 0. 0. 0. 0. 0. 0. 0. 0. 0. 0. 0. 0. 0. 0. 0. 0. 0. 0. 0. 0.\n",
      " 0. 0. 0. 0. 0. 0. 0. 0. 0. 0. 0. 0. 0. 0. 0. 0. 0. 0. 0. 0. 0. 0. 0. 0.\n",
      " 0. 0. 0. 0. 0. 0. 0. 0. 0. 0. 0. 0. 0. 0. 0. 0. 0. 0. 0. 0. 0. 0. 0. 0.\n",
      " 0. 0. 0. 0.]\n",
      "[0. 0. 0. 0. 0. 0. 0. 0. 0. 0. 0. 0. 0. 0. 0. 0. 0. 0. 0. 0. 0. 0. 0. 0.\n",
      " 0. 0. 0. 0. 0. 0. 0. 0. 0. 0. 0. 0. 0. 0. 0. 0. 0. 0. 0. 0. 0. 0. 0. 0.\n",
      " 0. 0. 0. 0. 0. 0. 0. 0. 0. 0. 0. 0. 0. 0. 0. 0. 0. 0. 0. 0. 0. 0. 0. 0.\n",
      " 0. 0. 0. 0. 0. 0. 0. 0. 0. 0. 0. 0. 0. 0. 0. 0. 0. 0. 0. 0. 0. 0. 0. 0.\n",
      " 0. 0. 0. 0.]\n",
      "[0. 0. 0. 0. 0. 0. 0. 0. 0. 0. 0. 0. 0. 0. 0. 0. 0. 0. 0. 0. 0. 0. 0. 0.\n",
      " 0. 0. 0. 0. 0. 0. 0. 0. 0. 0. 0. 0. 0. 0. 0. 0. 0. 0. 0. 0. 0. 0. 0. 0.\n",
      " 0. 0. 0. 0. 0. 0. 0. 0. 0. 0. 0. 0. 0. 0. 0. 0. 0. 0. 0. 0. 0. 0. 0. 0.\n",
      " 0. 0. 0. 0. 0. 0. 0. 0. 0. 0. 0. 0. 0. 0. 0. 0. 0. 0. 0. 0. 0. 0. 0. 0.\n",
      " 0. 0. 0. 0.]\n",
      "[0. 0. 0. 0. 0. 0. 0. 0. 0. 0. 0. 0. 0. 0. 0. 0. 0. 0. 0. 0. 0. 0. 0. 0.\n",
      " 0. 0. 0. 0. 0. 0. 0. 0. 0. 0. 0. 0. 0. 0. 0. 0. 0. 0. 0. 0. 0. 0. 0. 0.\n",
      " 0. 0. 0. 0. 0. 0. 0. 0. 0. 0. 0. 0. 0. 0. 0. 0. 0. 0. 0. 0. 0. 0. 0. 0.\n",
      " 0. 0. 0. 0. 0. 0. 0. 0. 0. 0. 0. 0. 0. 0. 0. 0. 0. 0. 0. 0. 0. 0. 0. 0.\n",
      " 0. 0. 0. 0.]\n",
      "[0. 0. 0. 0. 0. 0. 0. 0. 0. 0. 0. 0. 0. 0. 0. 0. 0. 0. 0. 0. 0. 0. 0. 0.\n",
      " 0. 0. 0. 0. 0. 0. 0. 0. 0. 0. 0. 0. 0. 0. 0. 0. 0. 0. 0. 0. 0. 0. 0. 0.\n",
      " 0. 0. 0. 0. 0. 0. 0. 0. 0. 0. 0. 0. 0. 0. 0. 0. 0. 0. 0. 0. 0. 0. 0. 0.\n",
      " 0. 0. 0. 0. 0. 0. 0. 0. 0. 0. 0. 0. 0. 0. 0. 0. 0. 0. 0. 0. 0. 0. 0. 0.\n",
      " 0. 0. 0. 0.]\n",
      "[0. 0. 0. 0. 0. 0. 0. 0. 0. 0. 0. 0. 0. 0. 0. 0. 0. 0. 0. 0. 0. 0. 0. 0.\n",
      " 0. 0. 0. 0. 0. 0. 0. 0. 0. 0. 0. 0. 0. 0. 0. 0. 0. 0. 0. 0. 0. 0. 0. 0.\n",
      " 0. 0. 0. 0. 0. 0. 0. 0. 0. 0. 0. 0. 0. 0. 0. 0. 0. 0. 0. 0. 0. 0. 0. 0.\n",
      " 0. 0. 0. 0. 0. 0. 0. 0. 0. 0. 0. 0. 0. 0. 0. 0. 0. 0. 0. 0. 0. 0. 0. 0.\n",
      " 0. 0. 0. 0.]\n",
      "[0. 0. 0. 0. 0. 0. 0. 0. 0. 0. 0. 0. 0. 0. 0. 0. 0. 0. 0. 0. 0. 0. 0. 0.\n",
      " 0. 0. 0. 0. 0. 0. 0. 0. 0. 0. 0. 0. 0. 0. 0. 0. 0. 0. 0. 0. 0. 0. 0. 0.\n",
      " 0. 0. 0. 0. 0. 0. 0. 0. 0. 0. 0. 0. 0. 0. 0. 0. 0. 0. 0. 0. 0. 0. 0. 0.\n",
      " 0. 0. 0. 0. 0. 0. 0. 0. 0. 0. 0. 0. 0. 0. 0. 0. 0. 0. 0. 0. 0. 0. 0. 0.\n",
      " 0. 0. 0. 0.]\n"
     ]
    }
   ],
   "source": [
    "for ch in qa.channels:\n",
    "    print(ch.result)"
   ]
  },
  {
   "cell_type": "code",
   "execution_count": null,
   "metadata": {},
   "outputs": [],
   "source": []
  }
 ],
 "metadata": {
  "kernelspec": {
   "display_name": "Python 3",
   "language": "python",
   "name": "python3"
  },
  "language_info": {
   "codemirror_mode": {
    "name": "ipython",
    "version": 3
   },
   "file_extension": ".py",
   "mimetype": "text/x-python",
   "name": "python",
   "nbconvert_exporter": "python",
   "pygments_lexer": "ipython3",
   "version": "3.6.9"
  }
 },
 "nbformat": 4,
 "nbformat_minor": 4
}
