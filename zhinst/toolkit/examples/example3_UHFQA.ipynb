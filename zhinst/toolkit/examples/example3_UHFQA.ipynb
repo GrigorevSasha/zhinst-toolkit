{
 "cells": [
  {
   "cell_type": "markdown",
   "metadata": {},
   "source": [
    "# UHFQA"
   ]
  },
  {
   "cell_type": "markdown",
   "metadata": {},
   "source": [
    "Just like the driver for the *HDAWG* in the previous example, we now use the `tk.UHFQA` instrument driver."
   ]
  },
  {
   "cell_type": "code",
   "execution_count": 1,
   "metadata": {},
   "outputs": [
    {
     "name": "stdout",
     "output_type": "stream",
     "text": [
      "Successfully connected to data server at 10.42.0.2268004 api version: 6\n",
      "Successfully connected to device DEV2266 on interface 1GBE\n"
     ]
    }
   ],
   "source": [
    "import zhinst.toolkit as tk\n",
    "\n",
    "qa = tk.UHFQA(\"qa1\", \"dev2266\", interface=\"1gbe\", host=\"10.42.0.226\")\n",
    "qa.setup() # set up data server connection\n",
    "qa.connect_device() # connect device to data server"
   ]
  },
  {
   "cell_type": "markdown",
   "metadata": {},
   "source": [
    "## AWG Core of the UHFQA\n",
    "\n",
    "Also the *UHFQA* features one *AWG Core*. "
   ]
  },
  {
   "cell_type": "code",
   "execution_count": 2,
   "metadata": {
    "scrolled": true
   },
   "outputs": [
    {
     "data": {
      "text/plain": [
       "qa1: <zhinst.toolkit.control.drivers.uhfqa.AWG object at 0x000002168648F0F0>\n",
       "    parent  : <zhinst.toolkit.control.drivers.uhfqa.UHFQA object at 0x0000021684EB0978>\n",
       "    index   : 0\n",
       "    sequence: \n",
       "           type: None\n",
       "            ('target', <DeviceTypes.UHFQA: 'uhfqa'>)\n",
       "            ('clock_rate', 2400000000.0)\n",
       "            ('period', 0.0001)\n",
       "            ('trigger_mode', 'None')\n",
       "            ('repetitions', 1)\n",
       "            ('alignment', 'End with Trigger')\n",
       "            ('n_HW_loop', 1)\n",
       "            ('dead_time', 5e-06)\n",
       "            ('trigger_delay', 0)\n",
       "            ('latency', 1.6e-07)\n",
       "            ('trigger_cmd_1', '//\\n')\n",
       "            ('trigger_cmd_2', '//\\n')\n",
       "            ('wait_cycles', 0)\n",
       "            ('dead_cycles', 0)\n",
       "            ('reset_phase', False)"
      ]
     },
     "execution_count": 2,
     "metadata": {},
     "output_type": "execute_result"
    }
   ],
   "source": [
    "qa.awg"
   ]
  },
  {
   "cell_type": "markdown",
   "metadata": {},
   "source": [
    "## Readout Channels of the UHFQA\n",
    "\n",
    "Each item in the `channels` property of the *UHFQA* is one `ReadoutChannel` object that represent the signal processing path for one of the ten channels."
   ]
  },
  {
   "cell_type": "code",
   "execution_count": 3,
   "metadata": {},
   "outputs": [
    {
     "data": {
      "text/plain": [
       "Readout Channel 0:  <zhinst.toolkit.control.drivers.uhfqa.ReadoutChannel object at 0x000002168648F278>\n",
       "     rotation          : 0.0\n",
       "     threshold         : 0.0\n",
       "      Weighted Integration Disabled"
      ]
     },
     "execution_count": 3,
     "metadata": {},
     "output_type": "execute_result"
    }
   ],
   "source": [
    "qa.channels[0]"
   ]
  },
  {
   "cell_type": "markdown",
   "metadata": {},
   "source": [
    "Each of the channels follows the following signal processing steps:\n",
    "\n",
    "1. Demodulation of the input signal\n",
    "2. Rotation in the complex plane\n",
    "3. Thresholding for binary result values\n",
    "\n",
    "\n",
    "The values for the rotation and thresholding stages can be set using the `rotation` and `threshold` parameter of the *channel*. \n",
    "\n",
    "The standard mode for the demodulation of input signals is the *weighted integration* mode. This corresponds to setting the integration weights for the two quadratures of the input signal to oscillate at a given demodulation frequency. When enabling the weighted integration with `ch.enable()`, the integration weights for the two quadratures are set. The demodulation frequency is set to the parameter `readout_frequency`.\n",
    "\n",
    "Enabling weighted integration for the first four channels of the *UHFQA* and setting their demodulation frequency could look like this: "
   ]
  },
  {
   "cell_type": "code",
   "execution_count": 4,
   "metadata": {},
   "outputs": [],
   "source": [
    "freqs = [85.6e6, 101.3e6, 132.8e6]\n",
    "\n",
    "for ch in qa.channels[:3]:\n",
    "    ch.enable()\n",
    "    ch.readout_frequency(freqs[ch.index])"
   ]
  }
 ],
 "metadata": {
  "kernelspec": {
   "display_name": "Python 3",
   "language": "python",
   "name": "python3"
  },
  "language_info": {
   "codemirror_mode": {
    "name": "ipython",
    "version": 3
   },
   "file_extension": ".py",
   "mimetype": "text/x-python",
   "name": "python",
   "nbconvert_exporter": "python",
   "pygments_lexer": "ipython3",
   "version": "3.6.9"
  }
 },
 "nbformat": 4,
 "nbformat_minor": 4
}
