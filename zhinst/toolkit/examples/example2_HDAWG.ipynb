{
 "cells": [
  {
   "cell_type": "markdown",
   "metadata": {},
   "source": [
    "# HDAWG\n",
    "\n",
    "Initialize the `tk.HDAWG` instrument drivers as in the previous example and setup and connect the device. Its device serial is `dev8030` and we connect via ethernet (`1gbe`) to the host at `10.42.0.226`."
   ]
  },
  {
   "cell_type": "code",
   "execution_count": 1,
   "metadata": {},
   "outputs": [
    {
     "name": "stdout",
     "output_type": "stream",
     "text": [
      "Successfully connected to data server at 10.42.0.2268004 api version: 6\n",
      "Successfully connected to device DEV8030 on interface 1GBE\n"
     ]
    }
   ],
   "source": [
    "import zhinst.toolkit as tk\n",
    "\n",
    "hdawg = tk.HDAWG(\"hdawg1\", \"dev8030\", interface=\"1gbe\", host=\"10.42.0.226\")\n",
    "hdawg.setup()              # set up data server connection\n",
    "hdawg.connect_device()     # connect device to data server"
   ]
  },
  {
   "cell_type": "markdown",
   "metadata": {},
   "source": [
    "## AWG Cores \n",
    "\n",
    "The *HDAWG* features eight *AWG channels* grouped in four *AWG Cores* with two channels each. These four *AWG Cores* can be accessed through the `awgs` property of the instruemnt driver. `awgs` is a list of four HDAWG-specific `AWGCore` objects. The `AWGCore` handles the basic functionality to control the *AWG Core* and program its sequencer to play a specific series of waveforms and commands.  "
   ]
  },
  {
   "cell_type": "code",
   "execution_count": 2,
   "metadata": {
    "scrolled": true
   },
   "outputs": [
    {
     "data": {
      "text/plain": [
       "hdawg1: <zhinst.toolkit.control.drivers.hdawg.AWG object at 0x000001E57692E0B8>\n",
       "    parent  : <zhinst.toolkit.control.drivers.hdawg.HDAWG object at 0x000001E575340BE0>\n",
       "    index   : 0\n",
       "    sequence: \n",
       "           type: None\n",
       "            ('target', <DeviceTypes.HDAWG: 'hdawg'>)\n",
       "            ('clock_rate', 2400000000.0)\n",
       "            ('period', 0.0001)\n",
       "            ('trigger_mode', 'None')\n",
       "            ('repetitions', 1)\n",
       "            ('alignment', 'End with Trigger')\n",
       "            ('n_HW_loop', 1)\n",
       "            ('dead_time', 5e-06)\n",
       "            ('trigger_delay', 0)\n",
       "            ('latency', 1.6e-07)\n",
       "            ('trigger_cmd_1', '//\\n')\n",
       "            ('trigger_cmd_2', '//\\n')\n",
       "            ('wait_cycles', 0)\n",
       "            ('dead_cycles', 0)\n",
       "            ('reset_phase', False)\n",
       "      IQ Modulation DISABLED"
      ]
     },
     "execution_count": 2,
     "metadata": {},
     "output_type": "execute_result"
    }
   ],
   "source": [
    "hdawg.awgs[0]"
   ]
  },
  {
   "cell_type": "markdown",
   "metadata": {},
   "source": [
    "An *AWG Core* features a list of *zhinst-toolkit* `Parameters` as well as methods that allow for a high-level control of the AWG Core. The *Parameters* control the channel outputs as well as their modulation settings.\n",
    "\n",
    "For instance, the channel outputs can be turned *on* and *off* like this:"
   ]
  },
  {
   "cell_type": "code",
   "execution_count": 4,
   "metadata": {},
   "outputs": [
    {
     "data": {
      "text/plain": [
       "('on', 'on')"
      ]
     },
     "execution_count": 4,
     "metadata": {},
     "output_type": "execute_result"
    }
   ],
   "source": [
    "hdawg.awgs[0].output1(\"on\")   \n",
    "hdawg.awgs[0].output2(\"on\")\n",
    "\n",
    "# are the outputs really on now?\n",
    "hdawg.awgs[0].outputs()"
   ]
  },
  {
   "cell_type": "code",
   "execution_count": 5,
   "metadata": {},
   "outputs": [],
   "source": [
    "hdawg.awgs[0].outputs((\"off\", \"off\"))"
   ]
  },
  {
   "cell_type": "markdown",
   "metadata": {},
   "source": [
    "## AWG Output Modulation\n",
    "\n",
    "The output modulation for both channel outputs can be turned on with:"
   ]
  },
  {
   "cell_type": "code",
   "execution_count": 10,
   "metadata": {},
   "outputs": [],
   "source": [
    "hdawg.awgs[0].enable_iq_modulation()"
   ]
  },
  {
   "cell_type": "markdown",
   "metadata": {},
   "source": [
    "This method applies the corresponding settings for IQ Modulation using \n",
    "one of the internal oscillators and two sine generators. The sines are \n",
    "used to modulate the AWG output channels at a 90 degree phase difference. The parameters \n",
    "`modulation_freq`, `modulation_phase_shift` and `gain1`, `gain2` \n",
    "correspond to the settings of the oscillator and the sine generators."
   ]
  },
  {
   "cell_type": "code",
   "execution_count": 12,
   "metadata": {},
   "outputs": [
    {
     "data": {
      "text/plain": [
       "Node: oscs/0/freq\n",
       "Description: Sets the modulation frequency of the AWG output channels.\n",
       "Type: Double\n",
       "Properties: Read, Write\n",
       "Unit: Hz\n",
       "Value: 99999999.99999432"
      ]
     },
     "execution_count": 12,
     "metadata": {},
     "output_type": "execute_result"
    }
   ],
   "source": [
    "hdawg.awgs[0].modulation_freq"
   ]
  },
  {
   "cell_type": "markdown",
   "metadata": {},
   "source": [
    "A simple sweep of the modulation frequency could look like this:"
   ]
  },
  {
   "cell_type": "code",
   "execution_count": 13,
   "metadata": {},
   "outputs": [],
   "source": [
    "import numpy as np\n",
    "import time\n",
    "\n",
    "for f in np.linspace(10e6, 20e6, 101):\n",
    "    hdawg.awgs[0].modulation_freq(f)\n",
    "    # do something here\n",
    "    time.sleep(0.1)"
   ]
  },
  {
   "cell_type": "markdown",
   "metadata": {},
   "source": [
    "The *AWG Core* also holds a `SequenceProgram` that defines the pulse sequence played by the *AWG Sequencer*. The next example will describe how this sequence program is defined and how you can configure it to play the sequence of waveforms that you want to use. "
   ]
  }
 ],
 "metadata": {
  "kernelspec": {
   "display_name": "Python 3",
   "language": "python",
   "name": "python3"
  },
  "language_info": {
   "codemirror_mode": {
    "name": "ipython",
    "version": 3
   },
   "file_extension": ".py",
   "mimetype": "text/x-python",
   "name": "python",
   "nbconvert_exporter": "python",
   "pygments_lexer": "ipython3",
   "version": "3.6.9"
  }
 },
 "nbformat": 4,
 "nbformat_minor": 4
}
