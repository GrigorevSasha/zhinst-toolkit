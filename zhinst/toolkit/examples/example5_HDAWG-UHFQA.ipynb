{
 "cells": [
  {
   "cell_type": "markdown",
   "metadata": {},
   "source": [
    "# Qubit Characterization: HDAWG + UHFQA\n",
    "\n",
    "Here we show some basic examples for how to use the *HDAWG* and *UHFQA* together in an experiment. To ensure that the two devices use the same Data Server, we use the *zhinst-toolkit's* `MultiDeviceConnection` and to setup and connect a Data Server and then connect the two devices to it."
   ]
  },
  {
   "cell_type": "code",
   "execution_count": 1,
   "metadata": {},
   "outputs": [
    {
     "name": "stdout",
     "output_type": "stream",
     "text": [
      "Successfully connected to data server at 10.42.0.2268004 api version: 6\n"
     ]
    }
   ],
   "source": [
    "import zhinst.toolkit as tk\n",
    "import numpy as np\n",
    "\n",
    "mdc = tk.MultiDeviceConnection(host=\"10.42.0.226\")\n",
    "mdc.setup()"
   ]
  },
  {
   "cell_type": "code",
   "execution_count": 2,
   "metadata": {},
   "outputs": [
    {
     "name": "stdout",
     "output_type": "stream",
     "text": [
      "Successfully connected to device DEV8030 on interface 1GBE\n",
      "Successfully connected to device DEV2266 on interface 1GBE\n"
     ]
    }
   ],
   "source": [
    "mdc.connect_device(tk.HDAWG(\"hdawg 1\", \"dev8030\"))\n",
    "mdc.connect_device(tk.UHFQA(\"uhfqa 1\", \"dev2266\"))"
   ]
  },
  {
   "cell_type": "markdown",
   "metadata": {},
   "source": [
    "References to the instrument drivers are held in attributes of the `MultiDeviceConnection`."
   ]
  },
  {
   "cell_type": "code",
   "execution_count": 3,
   "metadata": {},
   "outputs": [],
   "source": [
    "hdawg = mdc.hdawgs[\"hdawg 1\"]\n",
    "uhfqa = mdc.uhfqas[\"uhfqa 1\"]"
   ]
  },
  {
   "cell_type": "markdown",
   "metadata": {},
   "source": [
    "## Aligned Waveform Playback\n",
    "\n",
    "The *'Simple'* sequence type allows the user to upload their own numpy arrays for as waveforms. The values in the array thereby correspond to the samples in the waveform. As a straightforward first example we use one *AWG Core* of the *HDAWG* to play a rectangular wave and to trigger the playback on the *UHFQA*. The *'Mark'* output of the AWG on the *HDAWG* needs to be connected with a coax cable to the *Trig/Ref 1* on the *UHFQA*.\n",
    "\n",
    "\n",
    "```\n",
    "              HDAWG 1                                                         t=0\n",
    "          +-----------+                        :______________________________:         :\n",
    "     +----+   AWG 1   |  Trigger              _|                         XXXXX|_________:_\n",
    "     |    +-----------+  (\"Send Trigger\")      :                              :         :\n",
    "     |                                         :                              :         :\n",
    "     |                                         :                              :         :\n",
    "     |     UHFQA                               :                              :         :\n",
    "     |    +-----------+                        :                              :         :\n",
    "     +----->          | Readout               _:______________________________|XXXXX|___:_\n",
    "          +-----------+ (\"External Trigger\")\n",
    "```\n",
    "\n",
    "We configure both AWGs with the same number or `repetitions` and the same `period`. The *trigger mode* of the AWG Core on the HDAWG is set to `\"Send Trigger\"`, i.e. to send out a trigger signal at the start of every period. The *trigger mode* of the *UHFQA* is set to wait for a trigger input at the start of every period with `\"External Trigger\"`. "
   ]
  },
  {
   "cell_type": "code",
   "execution_count": 4,
   "metadata": {},
   "outputs": [],
   "source": [
    "# configure sequence parameters of master trigger\n",
    "hdawg.awgs[0].set_sequence_params(\n",
    "    sequence_type=\"Simple\",\n",
    "    period=20e-6,\n",
    "    repetitions=1000,\n",
    "    trigger_mode=\"Send Trigger\",     # send out the trigger signal \n",
    "    alignment=\"End with Trigger\",    # end waveform on t=0 \n",
    ")\n",
    "\n",
    "# configure sequence parameters of UHFQA\n",
    "uhfqa.awg.set_sequence_params(\n",
    "    sequence_type=\"Simple\",\n",
    "    period=20e-6,\n",
    "    repetitions=1000,\n",
    "    trigger_mode=\"External Trigger\", # wait for the trigger signal \n",
    "    alignment=\"Start with Trigger\",  # start waveform on t=0\n",
    ")"
   ]
  },
  {
   "cell_type": "markdown",
   "metadata": {},
   "source": [
    "By setting the parameter `alignment` to `\"End with Trigger\"` on the HDAWG and `\"Start with Trigger\"` on the UHFQA, we make sure that the waveforms from different devices are played right after each other.\n",
    "\n",
    "For both AWG Cores we add a waveform to the queue. The waveform is defined by a numpy array (`np.ones(...)`) of certain length. With the method `compile_and_upload_waveforms()` we tell the AWG to compile the corresponding sequence program and upload the waveforms in the queue."
   ]
  },
  {
   "cell_type": "code",
   "execution_count": 5,
   "metadata": {},
   "outputs": [
    {
     "name": "stdout",
     "output_type": "stream",
     "text": [
      "Current length of queue: 1\n",
      "Compilation successful\n",
      "hdawg 1-0: Sequencer status: ELF file uploaded\n",
      "Upload of 1 waveforms took 0.023009 s\n",
      "Current length of queue: 1\n",
      "Compilation successful\n",
      "uhfqa 1-0: Sequencer status: ELF file uploaded\n",
      "Upload of 1 waveforms took 0.067884 s\n"
     ]
    }
   ],
   "source": [
    "# queue rectangular waveform on HDAWG channel 1\n",
    "hdawg.awgs[0].reset_queue()\n",
    "hdawg.awgs[0].queue_waveform(np.ones(1000), -np.ones(1000)) \n",
    "hdawg.awgs[0].compile_and_upload_waveforms()\n",
    "\n",
    "# queue rectangular waveform on UHFQA channel 2\n",
    "uhfqa.awg.reset_queue()\n",
    "uhfqa.awg.queue_waveform(-np.ones(1000), np.ones(1000)) \n",
    "uhfqa.awg.compile_and_upload_waveforms()"
   ]
  },
  {
   "cell_type": "markdown",
   "metadata": {},
   "source": [
    "Run the experiment! First, make sure the outputs are on. Start the AWG of the *UHFQA* first, then the Master AWG on the *HDAWG*. "
   ]
  },
  {
   "cell_type": "code",
   "execution_count": 6,
   "metadata": {},
   "outputs": [],
   "source": [
    "# turn outputs on\n",
    "hdawg.awgs[0].outputs((\"on\", \"on\"))\n",
    "uhfqa.awg.outputs((\"on\", \"on\"))\n",
    "\n",
    "# start uhfqa awg, waiting for trigger\n",
    "uhfqa.awg.run()\n",
    "\n",
    "# start master awg\n",
    "hdawg.awgs[0].run()\n",
    "hdawg.awgs[0].wait_done()"
   ]
  },
  {
   "cell_type": "markdown",
   "metadata": {},
   "source": [
    "Verify the outputs with a scope, e.g. the built-in scope of the *UHFQA*. The rectangular waveform output of the *HDAWG* should be followed directly by the waveform from the *UHFQA*. "
   ]
  },
  {
   "cell_type": "markdown",
   "metadata": {},
   "source": [
    "## Resonator Spectroscopy\n",
    "\n",
    "For a resonator spectroscopy we can use the predefined `\"Pulsed Spectroscopy\"` sequence on the UHFQA. It plays a rectangular waveform of duration `pulse_length`. We configure one AWG Core of the *HDAWG* to a `\"Trigger\"` sequence to trigger the spectroscopy pulses on the *UHFQA* (`trigger_mode=\"External Trigger\"`). "
   ]
  },
  {
   "cell_type": "code",
   "execution_count": 7,
   "metadata": {},
   "outputs": [
    {
     "name": "stdout",
     "output_type": "stream",
     "text": [
      "Compilation successful\n",
      "hdawg 1-0: Sequencer status: ELF file uploaded\n",
      "Compilation successful\n",
      "uhfqa 1-0: Sequencer status: ELF file uploaded\n"
     ]
    }
   ],
   "source": [
    "# assign AWG Cores\n",
    "trigger = hdawg.awgs[0]\n",
    "readout = uhfqa.awg\n",
    "\n",
    "# configure trigger AWG\n",
    "trigger.set_sequence_params(\n",
    "    sequence_type=\"Trigger\",\n",
    "    period=10e-6,\n",
    "    repetitions=1e3,\n",
    ")\n",
    "trigger.compile()\n",
    "\n",
    "# configure UHFQA to Pulsed Spectroscopy\n",
    "readout.set_sequence_params(\n",
    "    sequence_type=\"Pulsed Spectroscopy\",\n",
    "    period=10e-6,\n",
    "    pulse_lenth=2e-6,\n",
    "    repetitions=1e3,\n",
    "    trigger_mode= \"External Trigger\",   # UHFQA triggered by Master Trigger\n",
    ")\n",
    "readout.compile()"
   ]
  },
  {
   "cell_type": "markdown",
   "metadata": {},
   "source": [
    "The spectroscopy sequence enables output modulation on the *UHFQA*. The signals on the two output channels are modulated with the sine and cosine of the internal oscillator. Its frequency is set by the parameter `uhfqa.nodetree.osc.freq`. On the signal acquisition side, the *integration mode: \"Spectroscopy\"* is used, which demodulates the signal input with the same internal oscillator.\n",
    "\n",
    "A sweep of the IF modulation frequency could be done like this: "
   ]
  },
  {
   "cell_type": "code",
   "execution_count": null,
   "metadata": {},
   "outputs": [],
   "source": [
    "# configure results to length 1000 and 1 hardware averages\n",
    "uhfqa.result_source(\"Integration\")\n",
    "uhfqa.nodetree.qa.result.length(1e3)\n",
    "uhfqa.nodetree.qa.result.averages(1)\n",
    "modulation_freq = uhfqa.nodetree.osc.freq\n",
    "\n",
    "# define the sweep points and an empty array for results\n",
    "frequencies = np.linspace(50e6, 100e6, 101)\n",
    "results = np.array([])\n",
    "\n",
    "for f in frequencies:\n",
    "    modulation_freq(f)                               # set modulation frequency\n",
    "    readout.run()                                    # start readout AWG\n",
    "    trigger.run()                                    # start trigger AWG\n",
    "    trigger.wait_done()                              # wait until trigger AWG has finished\n",
    "    avg_result = np.mean(uhfqa.channels[0].result()) # average the result vector\n",
    "    results = np.append(results, avg_result)         # append to results"
   ]
  },
  {
   "cell_type": "markdown",
   "metadata": {},
   "source": [
    "## Qubit Spectroscopy\n",
    "\n",
    "A drive pulse for qubit spectroscopy can be implemented in one of two ways. Either the predefined `\"Rabi\"` sequence (see below) is used with a single amplitude point and a long pulse width. The option would be to use the `\"Simple\"` sequence and upload the drive pulse of choice as a *numpy array*. For simplicity we will show the latter option and play a simle rectangular pulse of *5 us* duration on the *HDAWG*.\n",
    "\n",
    "On the *UHFQA*, we use the predefined `\"Readout\"` sequence. This sequence creates a readout tone for every enabled *Readout Channel* of the *UHFQA* at their respective `readout_frequency`. By enabling the readout channel we also program the integration weights of the readout channel to demodulate the signal at the given `readout_frequency`. "
   ]
  },
  {
   "cell_type": "code",
   "execution_count": 8,
   "metadata": {},
   "outputs": [
    {
     "name": "stdout",
     "output_type": "stream",
     "text": [
      "Current length of queue: 1\n",
      "Compilation successful\n",
      "hdawg 1-0: Sequencer status: ELF file uploaded\n",
      "Upload of 1 waveforms took 0.071 s\n",
      "Compilation successful\n",
      "uhfqa 1-0: Sequencer status: ELF file uploaded\n"
     ]
    }
   ],
   "source": [
    "# assign AWGs\n",
    "drive = hdawg.awgs[0]\n",
    "readout = uhfqa.awg\n",
    "channel = uhfqa.channels[0]\n",
    "\n",
    "# configure trigger AWG\n",
    "drive.set_sequence_params(\n",
    "    sequence_type=\"Simple\",\n",
    "    period=10e-6,\n",
    "    repetitions=1e3,\n",
    ")\n",
    "drive.reset_queue()\n",
    "wave = np.ones(int(2.4e9 * 5e-6))  # sampling rate x pulse duration\n",
    "drive.queue_waveform(wave, wave)\n",
    "drive.compile_and_upload_waveforms()\n",
    "\n",
    "# configure UHFQA to Readout\n",
    "channel.enable()\n",
    "channel.readout_frequency(123e6)\n",
    "readout.set_sequence_params(\n",
    "    sequence_type=\"Readout\",\n",
    "    period=10e-6,\n",
    "    pulse_lenth=2e-6,\n",
    "    repetitions=1e3,\n",
    "    trigger_mode= \"External Trigger\",   # UHFQA triggered by Master Trigger\n",
    ")\n",
    "readout.compile()"
   ]
  },
  {
   "cell_type": "markdown",
   "metadata": {},
   "source": [
    "To sweep the frequency of the drive signal, we want to enable modulation of the ouput signal of the qubit drive at with the internal oscillator. This is done by enabling the IQ Modulation mode of the AWG Core (modulation with the internal oscillator for IQ signal generation). The frequency of the oscillator can then be swept over the desired range."
   ]
  },
  {
   "cell_type": "code",
   "execution_count": null,
   "metadata": {},
   "outputs": [],
   "source": [
    "frequencies = np.linspace(20e6, 50e6, 101)\n",
    "results = np.array([])\n",
    "\n",
    "# enable IQ Modulation mode\n",
    "drive.enable_iq_modulation()\n",
    "\n",
    "for f in frequencies:\n",
    "    drive.modulation_freq(f)\n",
    "    readout.run()\n",
    "    drive.run()\n",
    "    drive.wait_done()\n",
    "    avg_result = np.mean(channel.result())\n",
    "    results = np.append(results, avg_result)\n"
   ]
  },
  {
   "cell_type": "markdown",
   "metadata": {},
   "source": [
    "## Rabi Sequence\n",
    "\n",
    "The *Rabi Sequence* plays a simple Gaussian pulse that is defined by the sequence parameters `pulse_width` and `pulse_truncation`. The parameter `pulse_amplitudes` expects a *list* or *array* of values for the amplitude sweep. With the IQ Modulation mode enabled a typical Rabi sequence would look like this:"
   ]
  },
  {
   "cell_type": "code",
   "execution_count": 17,
   "metadata": {},
   "outputs": [
    {
     "name": "stdout",
     "output_type": "stream",
     "text": [
      "Compilation successful\n",
      "hdawg 1-0: Sequencer status: ELF file uploaded\n",
      "Compilation successful\n",
      "uhfqa 1-0: Sequencer status: ELF file uploaded\n"
     ]
    }
   ],
   "source": [
    "# assign AWGs\n",
    "drive = hdawg.awgs[0]\n",
    "readout = uhfqa.awg\n",
    "channel = uhfqa.channels[0]\n",
    "\n",
    "# define numpy array with Rabi Amplutdes\n",
    "rabi_amplitudes = np.linspace(0, 1.0, 101)\n",
    "\n",
    "# configure Rabi Amplitude Sweep\n",
    "hdawg.awgs[0].enable_iq_modulation()\n",
    "hdawg.awgs[0].modulation_freq(100e6)\n",
    "\n",
    "hdawg.awgs[0].set_sequence_params(\n",
    "    sequence_type=\"Rabi\",\n",
    "    pulse_width=50e-9,\n",
    "    pulse_amplitudes=rabi_amplitudes,\n",
    ")\n",
    "hdawg.awgs[0].compile()\n",
    "\n",
    "# configure UHFQA to Readout\n",
    "uhfqa.nodetree.qa.result.length(1e3 * len(rabi_amplitudes))\n",
    "uhfqa.nodetree.qa.result.averages(1)\n",
    "\n",
    "channel.enable()\n",
    "channel.readout_frequency(123e6)\n",
    "readout.set_sequence_params(\n",
    "    sequence_type=\"Readout\",\n",
    "    period=10e-6,\n",
    "    pulse_lenth=2e-6,\n",
    "    repetitions=1e3 * len(rabi_amplitudes),  # play averages x sweep-points readout pulses\n",
    "    trigger_mode= \"External Trigger\",        # UHFQA triggered by Master Trigger\n",
    ")\n",
    "readout.compile()"
   ]
  },
  {
   "cell_type": "code",
   "execution_count": null,
   "metadata": {},
   "outputs": [],
   "source": [
    "readout.run()\n",
    "drive.run()\n",
    "drive.wait_done()\n",
    "result = channel.result()"
   ]
  },
  {
   "cell_type": "markdown",
   "metadata": {},
   "source": [
    "## Time Domain Characterization: T1 & T2*\n",
    "\n",
    "Time domain characterization can be done with predefined sequences *T1* and *T2 Ramsey*. They work in the same way as the *Rabi Sequence*. However, instead of passing an array of sweep values to the parameter `pulse_amplitudes`, the parameter is called `time_delays`. This parameter defines the  "
   ]
  },
  {
   "cell_type": "code",
   "execution_count": 17,
   "metadata": {},
   "outputs": [
    {
     "name": "stdout",
     "output_type": "stream",
     "text": [
      "Compilation successful\n",
      "hdawg 1-0: Sequencer status: ELF file uploaded\n",
      "Compilation successful\n",
      "uhfqa 1-0: Sequencer status: ELF file uploaded\n"
     ]
    }
   ],
   "source": [
    "# assign AWGs\n",
    "drive = hdawg.awgs[0]\n",
    "readout = uhfqa.awg\n",
    "channel = uhfqa.channels[0]\n",
    "\n",
    "# define numpy array with Delay Times\n",
    "delay_times = np.linspace(0.5e-6, 20e-6, 40)\n",
    "\n",
    "# configure Rabi Amplitude Sweep\n",
    "hdawg.awgs[0].enable_iq_modulation()\n",
    "hdawg.awgs[0].modulation_freq(100e6)\n",
    "\n",
    "hdawg.awgs[0].set_sequence_params(\n",
    "    sequence_type=\"T1\",\n",
    "    pulse_width=50e-9,\n",
    "    delay_times=delay_times,\n",
    ")\n",
    "hdawg.awgs[0].compile()\n",
    "\n",
    "# configure UHFQA to Readout\n",
    "uhfqa.nodetree.qa.result.length(1e3 * len(delay_times))\n",
    "uhfqa.nodetree.qa.result.averages(1)\n",
    "\n",
    "channel.enable()\n",
    "channel.readout_frequency(123e6)\n",
    "readout.set_sequence_params(\n",
    "    sequence_type=\"Readout\",\n",
    "    period=10e-6,\n",
    "    pulse_lenth=2e-6,\n",
    "    repetitions=1e3 * len(delay_times),  # play averages x sweep-points readout pulses\n",
    "    trigger_mode= \"External Trigger\",        # UHFQA triggered by Master Trigger\n",
    ")\n",
    "readout.compile()"
   ]
  },
  {
   "cell_type": "code",
   "execution_count": null,
   "metadata": {},
   "outputs": [],
   "source": [
    "readout.run()\n",
    "drive.run()\n",
    "drive.wait_done()\n",
    "result = channel.result()"
   ]
  },
  {
   "cell_type": "markdown",
   "metadata": {},
   "source": [
    "## Multi-Qubit Characterization: Master Trigger Waveform Playback\n",
    "\n",
    "```\n",
    "              HDAWG 1\n",
    "           +-----------+                    ______________________________\n",
    "+----<----+   AWG 1   |  Trigger          _|                              |_________:_\n",
    "|         +-----------+                    :                              :         :\n",
    "+----+----->  AWG 2   |  AWGs[0]          _:________________________|XXXXX|_________:_\n",
    "     |    |-----------+                    :                              :         :\n",
    "     +----->  AWG 3   |  AWGs[1]          _:_____________________|XXXXXXXX|_________:_\n",
    "     |    |-----------+                    :                              :         :\n",
    "     +----->  AWG 4   |  AWGs[2]          _:__________________|XXXXXXXXXXX|_________:_\n",
    "     |    +-----------+                    :                              :         :\n",
    "     |                                     :                              :         :\n",
    "     |     UHFQA                           :                              :         :\n",
    "     |    +-----------+                    :                              :         :\n",
    "     +----->          | Readout           _:______________________________|XXXXX|___:_\n",
    "          +-----------+\n",
    "```"
   ]
  },
  {
   "cell_type": "code",
   "execution_count": 4,
   "metadata": {},
   "outputs": [
    {
     "name": "stdout",
     "output_type": "stream",
     "text": [
      "Compilation successful\n",
      "hdawg 1-0: Sequencer status: ELF file uploaded\n"
     ]
    }
   ],
   "source": [
    "# group and rename AWG Cores\n",
    "trigger = hdawg.awgs[0]\n",
    "awgs = hdawg.awgs[1:]\n",
    "readout = uhfqa.awg\n",
    "\n",
    "# common sequence parameters\n",
    "period = 20e-6\n",
    "repetitions = 1000\n",
    "\n",
    "# configure trigger AWG\n",
    "trigger.set_sequence_params(\n",
    "    sequence_type=\"Trigger\",\n",
    "    period=period,\n",
    "    repetitions=repetitions,\n",
    ")\n",
    "trigger.compile()\n",
    "\n",
    "# configure triggered AWG Cores\n",
    "for awg in awgs:\n",
    "    awg.set_sequence_params(\n",
    "        sequence_type=\"Simple\",\n",
    "        period=period,\n",
    "        repetitions=repetitions,\n",
    "        alignment=\"End with Trigger\",\n",
    "        trigger_mode=\"External Trigger\",\n",
    "    )\n",
    "readout.set_sequence_params(\n",
    "    sequence_type=\"Simple\",\n",
    "    period=period,\n",
    "    repetitions=repetitions,\n",
    "    alignment=\"Start with Trigger\",\n",
    "    trigger_mode=\"External Trigger\",\n",
    ")   "
   ]
  },
  {
   "cell_type": "code",
   "execution_count": 5,
   "metadata": {},
   "outputs": [
    {
     "name": "stdout",
     "output_type": "stream",
     "text": [
      "Current length of queue: 1\n",
      "Current length of queue: 1\n",
      "Current length of queue: 1\n",
      "Current length of queue: 1\n",
      "Compilation successful\n",
      "hdawg 1-1: Sequencer status: ELF file uploaded\n",
      "Upload of 1 waveforms took 0.06787 s\n",
      "Compilation successful\n",
      "hdawg 1-2: Sequencer status: ELF file uploaded\n",
      "Upload of 1 waveforms took 0.017991 s\n",
      "Compilation successful\n",
      "hdawg 1-3: Sequencer status: ELF file uploaded\n",
      "Upload of 1 waveforms took 0.022224 s\n",
      "Compilation successful\n",
      "uhfqa 1-0: Sequencer status: ELF file uploaded\n",
      "Upload of 1 waveforms took 0.063616 s\n"
     ]
    }
   ],
   "source": [
    "# reset queues\n",
    "[awg.reset_queue() for awg in awgs]\n",
    "readout.reset_queue()\n",
    "\n",
    "# queue waveforms\n",
    "awgs[0].queue_waveform(np.ones(800), -np.ones(800))\n",
    "awgs[1].queue_waveform(np.ones(1000), -np.ones(1000))\n",
    "awgs[2].queue_waveform(np.ones(1200), -np.ones(1200))\n",
    "readout.queue_waveform(np.ones(800), -np.ones(800))\n",
    "\n",
    "# compile and upload triggered AWGs \n",
    "[awg.compile_and_upload_waveforms() for awg in awgs]\n",
    "readout.compile_and_upload_waveforms()"
   ]
  }
 ],
 "metadata": {
  "kernelspec": {
   "display_name": "qcodes",
   "language": "python",
   "name": "qcodes"
  },
  "language_info": {
   "codemirror_mode": {
    "name": "ipython",
    "version": 3
   },
   "file_extension": ".py",
   "mimetype": "text/x-python",
   "name": "python",
   "nbconvert_exporter": "python",
   "pygments_lexer": "ipython3",
   "version": "3.7.5"
  }
 },
 "nbformat": 4,
 "nbformat_minor": 4
}
