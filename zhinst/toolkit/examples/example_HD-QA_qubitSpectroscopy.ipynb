{
 "cells": [
  {
   "cell_type": "code",
   "execution_count": 1,
   "metadata": {},
   "outputs": [],
   "source": [
    "import numpy as np\n",
    "import time\n",
    "import matplotlib.pyplot as plt\n",
    "\n",
    "import zhinst.toolkit as tk"
   ]
  },
  {
   "cell_type": "code",
   "execution_count": null,
   "metadata": {},
   "outputs": [],
   "source": []
  },
  {
   "cell_type": "code",
   "execution_count": 2,
   "metadata": {},
   "outputs": [
    {
     "name": "stdout",
     "output_type": "stream",
     "text": [
      "Successfully connected to data server at localhost8004 api version: 6\n"
     ]
    }
   ],
   "source": [
    "mdc = tk.MultiDeviceConnection()\n",
    "mdc.setup()"
   ]
  },
  {
   "cell_type": "code",
   "execution_count": 3,
   "metadata": {},
   "outputs": [],
   "source": [
    "hd = tk.HDAWG(\"hd\", \"dev8030\", interface=\"1GbE\")\n",
    "qa = tk.UHFQA(\"qa\", \"dev2266\", interface=\"1GbE\")"
   ]
  },
  {
   "cell_type": "code",
   "execution_count": 4,
   "metadata": {},
   "outputs": [
    {
     "name": "stdout",
     "output_type": "stream",
     "text": [
      "Successfully connected to device DEV8030 on interface 1GBE\n",
      "Successfully connected to device DEV2266 on interface 1GBE\n"
     ]
    }
   ],
   "source": [
    "mdc.connect_device(hd)\n",
    "mdc.connect_device(qa)"
   ]
  },
  {
   "cell_type": "code",
   "execution_count": null,
   "metadata": {},
   "outputs": [],
   "source": []
  },
  {
   "cell_type": "markdown",
   "metadata": {},
   "source": [
    "# Qubit Spectroscopy\n",
    "\n",
    "Use HDAWG awg 1 to send qubit drive pulse and trigger UHFQA Readout."
   ]
  },
  {
   "cell_type": "code",
   "execution_count": 21,
   "metadata": {},
   "outputs": [],
   "source": [
    "averages = 2**10\n",
    "period = 20e-6\n",
    "\n",
    "pulse_time = 2e-6\n",
    "pulse_samples = int(pulse_time * 2.4e9)\n",
    "drive_freqs = np.linspace(50e6, 70e6, 100)\n",
    "\n",
    "int_time = 2e-6"
   ]
  },
  {
   "cell_type": "code",
   "execution_count": null,
   "metadata": {},
   "outputs": [],
   "source": []
  },
  {
   "cell_type": "code",
   "execution_count": 22,
   "metadata": {},
   "outputs": [
    {
     "name": "stdout",
     "output_type": "stream",
     "text": [
      "Current length of queue: 1\n",
      "Compilation successful\n",
      "hd-0: Sequencer status: ELF file uploaded\n",
      "Upload of 1 waveforms took 0.02592 s\n"
     ]
    }
   ],
   "source": [
    "# prepare sequence on HDAWG\n",
    "\n",
    "hd.awgs[0].set_sequence_params(\n",
    "    sequence_type=\"Simple\",\n",
    "    repetitions=averages,\n",
    "    period=period,\n",
    "    alignment=\"End with Trigger\",\n",
    "    trigger_mode=\"Send Trigger\",\n",
    ")\n",
    "wave = np.ones(4800)\n",
    "hd.awgs[0].reset_queue()\n",
    "hd.awgs[0].queue_waveform(wave, wave)\n",
    "hd.awgs[0].compile_and_upload_waveforms()"
   ]
  },
  {
   "cell_type": "code",
   "execution_count": 23,
   "metadata": {},
   "outputs": [
    {
     "data": {
      "text/plain": [
       "60000000.0"
      ]
     },
     "execution_count": 23,
     "metadata": {},
     "output_type": "execute_result"
    }
   ],
   "source": [
    "# enable IQ modulation of HDAWG\n",
    "hd.awgs[0].enable_iq_modulation()\n",
    "hd.awgs[0].modulation_freq(60e6)"
   ]
  },
  {
   "cell_type": "code",
   "execution_count": null,
   "metadata": {},
   "outputs": [],
   "source": []
  },
  {
   "cell_type": "code",
   "execution_count": 24,
   "metadata": {},
   "outputs": [],
   "source": [
    "# prepare readout channel on UHFQA\n",
    "qa.integration_time(int_time)\n",
    "qa.channels[0].enable()\n",
    "qa.channels[0].readout_frequency(87.3e6)"
   ]
  },
  {
   "cell_type": "code",
   "execution_count": 25,
   "metadata": {},
   "outputs": [
    {
     "data": {
      "text/plain": [
       "[Readout Channel 0:  <zhinst.toolkit.uhfqa.ReadoutChannel object at 0x00000273505EBCF8>\n",
       "      rotation          : 180.0\n",
       "      threshold         : 0.0\n",
       "      readout_frequency : 87300000.0\n",
       "      readout_amplitude : 1\n",
       "      phase_shift       : 0,\n",
       " Readout Channel 1:  <zhinst.toolkit.uhfqa.ReadoutChannel object at 0x00000273505EBDD8>\n",
       "      rotation          : 0.0\n",
       "      threshold         : 0.0\n",
       "       Weighted Integration Disabled,\n",
       " Readout Channel 2:  <zhinst.toolkit.uhfqa.ReadoutChannel object at 0x00000273505EBEB8>\n",
       "      rotation          : 0.0\n",
       "      threshold         : 0.0\n",
       "       Weighted Integration Disabled,\n",
       " Readout Channel 3:  <zhinst.toolkit.uhfqa.ReadoutChannel object at 0x00000273505EBF98>\n",
       "      rotation          : 0.0\n",
       "      threshold         : 0.0\n",
       "       Weighted Integration Disabled,\n",
       " Readout Channel 4:  <zhinst.toolkit.uhfqa.ReadoutChannel object at 0x00000273505EF0B8>\n",
       "      rotation          : 0.0\n",
       "      threshold         : 0.0\n",
       "       Weighted Integration Disabled,\n",
       " Readout Channel 5:  <zhinst.toolkit.uhfqa.ReadoutChannel object at 0x00000273505EF198>\n",
       "      rotation          : 0.0\n",
       "      threshold         : 0.0\n",
       "       Weighted Integration Disabled,\n",
       " Readout Channel 6:  <zhinst.toolkit.uhfqa.ReadoutChannel object at 0x00000273505EF278>\n",
       "      rotation          : 0.0\n",
       "      threshold         : 0.0\n",
       "       Weighted Integration Disabled,\n",
       " Readout Channel 7:  <zhinst.toolkit.uhfqa.ReadoutChannel object at 0x00000273505EF358>\n",
       "      rotation          : 0.0\n",
       "      threshold         : 0.0\n",
       "       Weighted Integration Disabled,\n",
       " Readout Channel 8:  <zhinst.toolkit.uhfqa.ReadoutChannel object at 0x00000273505EF438>\n",
       "      rotation          : 0.0\n",
       "      threshold         : 0.0\n",
       "       Weighted Integration Disabled,\n",
       " Readout Channel 9:  <zhinst.toolkit.uhfqa.ReadoutChannel object at 0x00000273505EF518>\n",
       "      rotation          : 0.0\n",
       "      threshold         : 0.0\n",
       "       Weighted Integration Disabled]"
      ]
     },
     "execution_count": 25,
     "metadata": {},
     "output_type": "execute_result"
    }
   ],
   "source": [
    "qa.channels"
   ]
  },
  {
   "cell_type": "code",
   "execution_count": 26,
   "metadata": {},
   "outputs": [
    {
     "name": "stdout",
     "output_type": "stream",
     "text": [
      "Compilation successful\n",
      "qa-0: Sequencer status: ELF file uploaded\n"
     ]
    }
   ],
   "source": [
    "qa.awg.set_sequence_params(\n",
    "    sequence_type=\"Readout\",\n",
    "    repetitions=averages,\n",
    "    period=period,\n",
    "    alignment=\"Start with Trigger\",\n",
    "    trigger_mode=\"External Trigger\",\n",
    "    readout_length=int_time,\n",
    "    trigger_delay=-30e-9,\n",
    ")\n",
    "qa.awg.compile()"
   ]
  },
  {
   "cell_type": "code",
   "execution_count": null,
   "metadata": {},
   "outputs": [],
   "source": []
  },
  {
   "cell_type": "code",
   "execution_count": null,
   "metadata": {},
   "outputs": [],
   "source": []
  },
  {
   "cell_type": "code",
   "execution_count": 28,
   "metadata": {},
   "outputs": [],
   "source": [
    "hd.awgs[0].output1(\"off\")\n",
    "qa.awg.outputs(\"on\")"
   ]
  },
  {
   "cell_type": "code",
   "execution_count": 29,
   "metadata": {},
   "outputs": [
    {
     "data": {
      "text/plain": [
       "1"
      ]
     },
     "execution_count": 29,
     "metadata": {},
     "output_type": "execute_result"
    }
   ],
   "source": [
    "# configure result acquisition\n",
    "# use hardware avergages\n",
    "\n",
    "qa.result_source(\"integration\")\n",
    "qa.nodetree.qa.result.length(len(drive_freqs))\n",
    "qa.nodetree.qa.result.averages(averages)\n",
    "qa.nodetree.qa.result.enable(1)\n",
    "qa.nodetree.qa.result.reset(0)\n",
    "qa.nodetree.qa.result.reset(1)"
   ]
  },
  {
   "cell_type": "code",
   "execution_count": 30,
   "metadata": {
    "scrolled": true
   },
   "outputs": [
    {
     "name": "stdout",
     "output_type": "stream",
     "text": [
      "Started AWG qa-0!\n",
      "Started AWG hd-0!\n",
      "Started AWG qa-0!\n",
      "Started AWG hd-0!\n",
      "Started AWG qa-0!\n",
      "Started AWG hd-0!\n",
      "Started AWG qa-0!\n",
      "Started AWG hd-0!\n",
      "Started AWG qa-0!\n",
      "Started AWG hd-0!\n",
      "Started AWG qa-0!\n",
      "Started AWG hd-0!\n",
      "Started AWG qa-0!\n",
      "Started AWG hd-0!\n",
      "Started AWG qa-0!\n",
      "Started AWG hd-0!\n",
      "Started AWG qa-0!\n",
      "Started AWG hd-0!\n",
      "Started AWG qa-0!\n",
      "Started AWG hd-0!\n",
      "Started AWG qa-0!\n",
      "Started AWG hd-0!\n",
      "Started AWG qa-0!\n",
      "Started AWG hd-0!\n",
      "Started AWG qa-0!\n",
      "Started AWG hd-0!\n",
      "Started AWG qa-0!\n",
      "Started AWG hd-0!\n",
      "Started AWG qa-0!\n",
      "Started AWG hd-0!\n",
      "Started AWG qa-0!\n",
      "Started AWG hd-0!\n",
      "Started AWG qa-0!\n",
      "Started AWG hd-0!\n",
      "Started AWG qa-0!\n",
      "Started AWG hd-0!\n",
      "Started AWG qa-0!\n",
      "Started AWG hd-0!\n",
      "Started AWG qa-0!\n",
      "Started AWG hd-0!\n",
      "Started AWG qa-0!\n",
      "Started AWG hd-0!\n",
      "Started AWG qa-0!\n",
      "Started AWG hd-0!\n",
      "Started AWG qa-0!\n",
      "Started AWG hd-0!\n",
      "Started AWG qa-0!\n",
      "Started AWG hd-0!\n",
      "Started AWG qa-0!\n",
      "Started AWG hd-0!\n",
      "Started AWG qa-0!\n",
      "Started AWG hd-0!\n",
      "Started AWG qa-0!\n",
      "Started AWG hd-0!\n",
      "Started AWG qa-0!\n",
      "Started AWG hd-0!\n",
      "Started AWG qa-0!\n",
      "Started AWG hd-0!\n",
      "Started AWG qa-0!\n",
      "Started AWG hd-0!\n",
      "Started AWG qa-0!\n",
      "Started AWG hd-0!\n",
      "Started AWG qa-0!\n",
      "Started AWG hd-0!\n",
      "Started AWG qa-0!\n",
      "Started AWG hd-0!\n",
      "Started AWG qa-0!\n",
      "Started AWG hd-0!\n",
      "Started AWG qa-0!\n",
      "Started AWG hd-0!\n",
      "Started AWG qa-0!\n",
      "Started AWG hd-0!\n",
      "Started AWG qa-0!\n",
      "Started AWG hd-0!\n",
      "Started AWG qa-0!\n",
      "Started AWG hd-0!\n",
      "Started AWG qa-0!\n",
      "Started AWG hd-0!\n",
      "Started AWG qa-0!\n",
      "Started AWG hd-0!\n",
      "Started AWG qa-0!\n",
      "Started AWG hd-0!\n",
      "Started AWG qa-0!\n",
      "Started AWG hd-0!\n",
      "Started AWG qa-0!\n",
      "Started AWG hd-0!\n",
      "Started AWG qa-0!\n",
      "Started AWG hd-0!\n",
      "Started AWG qa-0!\n",
      "Started AWG hd-0!\n",
      "Started AWG qa-0!\n",
      "Started AWG hd-0!\n",
      "Started AWG qa-0!\n",
      "Started AWG hd-0!\n",
      "Started AWG qa-0!\n",
      "Started AWG hd-0!\n",
      "Started AWG qa-0!\n",
      "Started AWG hd-0!\n",
      "Started AWG qa-0!\n",
      "Started AWG hd-0!\n",
      "Started AWG qa-0!\n",
      "Started AWG hd-0!\n",
      "Started AWG qa-0!\n",
      "Started AWG hd-0!\n",
      "Started AWG qa-0!\n",
      "Started AWG hd-0!\n",
      "Started AWG qa-0!\n",
      "Started AWG hd-0!\n",
      "Started AWG qa-0!\n",
      "Started AWG hd-0!\n",
      "Started AWG qa-0!\n",
      "Started AWG hd-0!\n",
      "Started AWG qa-0!\n",
      "Started AWG hd-0!\n",
      "Started AWG qa-0!\n",
      "Started AWG hd-0!\n",
      "Started AWG qa-0!\n",
      "Started AWG hd-0!\n",
      "Started AWG qa-0!\n",
      "Started AWG hd-0!\n",
      "Started AWG qa-0!\n",
      "Started AWG hd-0!\n",
      "Started AWG qa-0!\n",
      "Started AWG hd-0!\n",
      "Started AWG qa-0!\n",
      "Started AWG hd-0!\n",
      "Started AWG qa-0!\n",
      "Started AWG hd-0!\n",
      "Started AWG qa-0!\n",
      "Started AWG hd-0!\n",
      "Started AWG qa-0!\n",
      "Started AWG hd-0!\n",
      "Started AWG qa-0!\n",
      "Started AWG hd-0!\n",
      "Started AWG qa-0!\n",
      "Started AWG hd-0!\n",
      "Started AWG qa-0!\n",
      "Started AWG hd-0!\n",
      "Started AWG qa-0!\n",
      "Started AWG hd-0!\n",
      "Started AWG qa-0!\n",
      "Started AWG hd-0!\n",
      "Started AWG qa-0!\n",
      "Started AWG hd-0!\n",
      "Started AWG qa-0!\n",
      "Started AWG hd-0!\n",
      "Started AWG qa-0!\n",
      "Started AWG hd-0!\n",
      "Started AWG qa-0!\n",
      "Started AWG hd-0!\n",
      "Started AWG qa-0!\n",
      "Started AWG hd-0!\n",
      "Started AWG qa-0!\n",
      "Started AWG hd-0!\n",
      "Started AWG qa-0!\n",
      "Started AWG hd-0!\n",
      "Started AWG qa-0!\n",
      "Started AWG hd-0!\n",
      "Started AWG qa-0!\n",
      "Started AWG hd-0!\n",
      "Started AWG qa-0!\n",
      "Started AWG hd-0!\n",
      "Started AWG qa-0!\n",
      "Started AWG hd-0!\n",
      "Started AWG qa-0!\n",
      "Started AWG hd-0!\n",
      "Started AWG qa-0!\n",
      "Started AWG hd-0!\n",
      "Started AWG qa-0!\n",
      "Started AWG hd-0!\n",
      "Started AWG qa-0!\n",
      "Started AWG hd-0!\n",
      "Started AWG qa-0!\n",
      "Started AWG hd-0!\n",
      "Started AWG qa-0!\n",
      "Started AWG hd-0!\n",
      "Started AWG qa-0!\n",
      "Started AWG hd-0!\n",
      "Started AWG qa-0!\n",
      "Started AWG hd-0!\n",
      "Started AWG qa-0!\n",
      "Started AWG hd-0!\n",
      "Started AWG qa-0!\n",
      "Started AWG hd-0!\n",
      "Started AWG qa-0!\n",
      "Started AWG hd-0!\n",
      "Started AWG qa-0!\n",
      "Started AWG hd-0!\n",
      "Started AWG qa-0!\n",
      "Started AWG hd-0!\n",
      "Started AWG qa-0!\n",
      "Started AWG hd-0!\n",
      "Started AWG qa-0!\n",
      "Started AWG hd-0!\n",
      "Started AWG qa-0!\n",
      "Started AWG hd-0!\n",
      "Started AWG qa-0!\n",
      "Started AWG hd-0!\n",
      "Started AWG qa-0!\n",
      "Started AWG hd-0!\n",
      "27.265644788742065\n"
     ]
    }
   ],
   "source": [
    "# acquire data only at the end of the measurement\n",
    "tik = time.time()\n",
    "\n",
    "for f in drive_freqs:\n",
    "    hd.awgs[0].modulation_freq(f)\n",
    "    qa.awg.run()\n",
    "    time.sleep(0.05)\n",
    "    hd.awgs[0].run()\n",
    "    qa.awg.wait_done()\n",
    "res = qa.channels[0].result()\n",
    "\n",
    "print(time.time() - tik)"
   ]
  },
  {
   "cell_type": "code",
   "execution_count": 31,
   "metadata": {
    "scrolled": true
   },
   "outputs": [],
   "source": [
    "# # configure result acquisition\n",
    "# # acquire data per shot and append average of `length` to result vector\n",
    "\n",
    "# qa.result_source(\"integration\")\n",
    "# qa.nodetree.qa.result.length(averages)\n",
    "# qa.nodetree.qa.result.averages(1)\n",
    "# qa.nodetree.qa.result.enable(1)\n",
    "# qa.nodetree.qa.result.reset(0)\n",
    "# qa.nodetree.qa.result.reset(1)\n",
    "\n",
    "# tik = time.time()\n",
    "\n",
    "# res = np.array([])\n",
    "# for f in drive_freqs:\n",
    "#     qa.nodetree.qa.result.reset(0)\n",
    "#     qa.nodetree.qa.result.reset(1)\n",
    "#     hd.awgs[0].modulation_freq(f)\n",
    "#     qa.awg.run()\n",
    "#     time.sleep(0.05)\n",
    "#     hd.awgs[0].run()\n",
    "#     qa.awg.wait_done()\n",
    "#     res = np.append(res, np.mean(qa.channels[0].result()))\n",
    "\n",
    "# print(time.time() - tik)"
   ]
  },
  {
   "cell_type": "code",
   "execution_count": 32,
   "metadata": {},
   "outputs": [
    {
     "data": {
      "image/png": "[encoded data removed]",
      "text/plain": [
       "<Figure size 432x288 with 1 Axes>"
      ]
     },
     "metadata": {
      "needs_background": "light"
     },
     "output_type": "display_data"
    }
   ],
   "source": [
    "plt.plot(drive_freqs, np.real(res))\n",
    "plt.show()"
   ]
  },
  {
   "cell_type": "code",
   "execution_count": 33,
   "metadata": {},
   "outputs": [
    {
     "data": {
      "image/png": "[encoded data removed]",
      "text/plain": [
       "<Figure size 432x288 with 1 Axes>"
      ]
     },
     "metadata": {
      "needs_background": "light"
     },
     "output_type": "display_data"
    }
   ],
   "source": [
    "plt.plot(np.real(res), np.imag(res))\n",
    "plt.show()"
   ]
  },
  {
   "cell_type": "code",
   "execution_count": null,
   "metadata": {},
   "outputs": [],
   "source": []
  },
  {
   "cell_type": "code",
   "execution_count": null,
   "metadata": {},
   "outputs": [],
   "source": []
  },
  {
   "cell_type": "code",
   "execution_count": null,
   "metadata": {},
   "outputs": [],
   "source": []
  },
  {
   "cell_type": "code",
   "execution_count": null,
   "metadata": {},
   "outputs": [],
   "source": []
  }
 ],
 "metadata": {
  "kernelspec": {
   "display_name": "Python 3",
   "language": "python",
   "name": "python3"
  },
  "language_info": {
   "codemirror_mode": {
    "name": "ipython",
    "version": 3
   },
   "file_extension": ".py",
   "mimetype": "text/x-python",
   "name": "python",
   "nbconvert_exporter": "python",
   "pygments_lexer": "ipython3",
   "version": "3.6.9"
  }
 },
 "nbformat": 4,
 "nbformat_minor": 4
}
