{
 "cells": [
  {
   "cell_type": "code",
   "execution_count": null,
   "metadata": {},
   "outputs": [],
   "source": []
  },
  {
   "cell_type": "code",
   "execution_count": 1,
   "metadata": {},
   "outputs": [],
   "source": [
    "import numpy as np\n",
    "import time\n",
    "import matplotlib.pyplot as plt\n",
    "\n",
    "import zhinst.toolkit as tk"
   ]
  },
  {
   "cell_type": "code",
   "execution_count": null,
   "metadata": {},
   "outputs": [],
   "source": []
  },
  {
   "cell_type": "code",
   "execution_count": 2,
   "metadata": {},
   "outputs": [
    {
     "name": "stdout",
     "output_type": "stream",
     "text": [
      "Successfully connected to data server at localhost8004 api version: 6\n"
     ]
    }
   ],
   "source": [
    "mdc = tk.MultiDeviceConnection()\n",
    "mdc.setup()"
   ]
  },
  {
   "cell_type": "code",
   "execution_count": 3,
   "metadata": {},
   "outputs": [],
   "source": [
    "hd = tk.HDAWG(\"hd\", \"dev8030\", interface=\"1GbE\")\n",
    "qa = tk.UHFQA(\"qa\", \"dev2266\", interface=\"1GbE\")"
   ]
  },
  {
   "cell_type": "code",
   "execution_count": 4,
   "metadata": {},
   "outputs": [
    {
     "name": "stdout",
     "output_type": "stream",
     "text": [
      "Successfully connected to device DEV8030 on interface 1GBE\n",
      "Successfully connected to device DEV2266 on interface 1GBE\n"
     ]
    }
   ],
   "source": [
    "mdc.connect_device(hd)\n",
    "mdc.connect_device(qa)"
   ]
  },
  {
   "cell_type": "code",
   "execution_count": null,
   "metadata": {},
   "outputs": [],
   "source": []
  },
  {
   "cell_type": "code",
   "execution_count": null,
   "metadata": {},
   "outputs": [],
   "source": []
  },
  {
   "cell_type": "code",
   "execution_count": 17,
   "metadata": {},
   "outputs": [],
   "source": [
    "averages = 2**3\n",
    "period = 0.2\n",
    "\n",
    "drive_freq = 78.54e6\n",
    "delays = np.linspace(0, 10e-6, 51)\n",
    "\n",
    "int_time = 2e-6"
   ]
  },
  {
   "cell_type": "code",
   "execution_count": null,
   "metadata": {},
   "outputs": [],
   "source": []
  },
  {
   "cell_type": "code",
   "execution_count": null,
   "metadata": {},
   "outputs": [],
   "source": []
  },
  {
   "cell_type": "code",
   "execution_count": 18,
   "metadata": {},
   "outputs": [],
   "source": [
    "hd.awgs[0].disable_iq_modulation()\n",
    "hd.awgs[0].set_sequence_params(\n",
    "    sequence_type=\"Simple\",\n",
    "    period=period,\n",
    "    repetitions=averages,\n",
    "    alignment=\"End with Trigger\",\n",
    "    trigger_mode=\"Send Trigger\",\n",
    ")"
   ]
  },
  {
   "cell_type": "code",
   "execution_count": 19,
   "metadata": {},
   "outputs": [
    {
     "data": {
      "text/plain": [
       "hd: <zhinst.toolkit.hdawg.AWG object at 0x0000019AE4048630>\n",
       "    parent  : <zhinst.toolkit.hdawg.HDAWG object at 0x0000019AE40484A8>\n",
       "    index   : 0\n",
       "    sequence: \n",
       "           type: Simple\n",
       "            ('target', 'hdawg')\n",
       "            ('clock_rate', 2400000000.0)\n",
       "            ('period', 0.2)\n",
       "            ('trigger_mode', 'Send Trigger')\n",
       "            ('repetitions', 8)\n",
       "            ('alignment', 'End with Trigger')\n",
       "            ('n_HW_loop', 11)\n",
       "            ('dead_time', 5e-06)\n",
       "            ('trigger_delay', 0)\n",
       "            ('latency', 1.6e-07)\n",
       "            ('trigger_cmd_1', 'setTrigger(1);\\n')\n",
       "            ('trigger_cmd_2', 'setTrigger(0);\\n')\n",
       "            ('wait_cycles', 59998500)\n",
       "            ('dead_cycles', 1500)\n",
       "            ('reset_phase', False)\n",
       "            ('buffer_lengths', [1008, 1008, 1008, 1008, 1008, 1008, 1008, 1008, 1008, 1008, 1008])\n",
       "            ('delay_times', [1e-06, 1.1e-06, 1.2e-06, 1.2999999999999998e-06, 1.4e-06, 1.5e-06, 1.6e-06, 1.6999999999999998e-06, 1.8e-06, 1.9e-06, 2e-06])\n",
       "      IQ Modulation DISABLED"
      ]
     },
     "execution_count": 19,
     "metadata": {},
     "output_type": "execute_result"
    }
   ],
   "source": [
    "hd.awgs[0]"
   ]
  },
  {
   "cell_type": "code",
   "execution_count": 20,
   "metadata": {},
   "outputs": [
    {
     "name": "stdout",
     "output_type": "stream",
     "text": [
      "Current length of queue: 1\n",
      "Current length of queue: 2\n",
      "Current length of queue: 3\n",
      "Current length of queue: 4\n",
      "Current length of queue: 5\n",
      "Current length of queue: 6\n",
      "Current length of queue: 7\n",
      "Current length of queue: 8\n",
      "Current length of queue: 9\n",
      "Current length of queue: 10\n",
      "Current length of queue: 11\n",
      "Current length of queue: 12\n",
      "Current length of queue: 13\n",
      "Current length of queue: 14\n",
      "Current length of queue: 15\n",
      "Current length of queue: 16\n",
      "Current length of queue: 17\n",
      "Current length of queue: 18\n",
      "Current length of queue: 19\n",
      "Current length of queue: 20\n",
      "Current length of queue: 21\n",
      "Current length of queue: 22\n",
      "Current length of queue: 23\n",
      "Current length of queue: 24\n",
      "Current length of queue: 25\n",
      "Current length of queue: 26\n",
      "Current length of queue: 27\n",
      "Current length of queue: 28\n",
      "Current length of queue: 29\n",
      "Current length of queue: 30\n",
      "Current length of queue: 31\n",
      "Current length of queue: 32\n",
      "Current length of queue: 33\n",
      "Current length of queue: 34\n",
      "Current length of queue: 35\n",
      "Current length of queue: 36\n",
      "Current length of queue: 37\n",
      "Current length of queue: 38\n",
      "Current length of queue: 39\n",
      "Current length of queue: 40\n",
      "Current length of queue: 41\n",
      "Current length of queue: 42\n",
      "Current length of queue: 43\n",
      "Current length of queue: 44\n",
      "Current length of queue: 45\n",
      "Current length of queue: 46\n",
      "Current length of queue: 47\n",
      "Current length of queue: 48\n",
      "Current length of queue: 49\n",
      "Current length of queue: 50\n",
      "Current length of queue: 51\n"
     ]
    }
   ],
   "source": [
    "hd.awgs[0].reset_queue()\n",
    "for d in delays:\n",
    "    hd.awgs[0].queue_waveform(np.ones(1000), -np.ones(1000), delay=d)"
   ]
  },
  {
   "cell_type": "code",
   "execution_count": 21,
   "metadata": {},
   "outputs": [
    {
     "name": "stdout",
     "output_type": "stream",
     "text": [
      "Compilation successful\n",
      "hd-0: Sequencer status: ELF file uploaded\n",
      "Upload of 51 waveforms took 0.025965 s\n"
     ]
    }
   ],
   "source": [
    "hd.awgs[0].compile_and_upload_waveforms()"
   ]
  },
  {
   "cell_type": "code",
   "execution_count": null,
   "metadata": {},
   "outputs": [],
   "source": []
  },
  {
   "cell_type": "code",
   "execution_count": null,
   "metadata": {},
   "outputs": [],
   "source": []
  },
  {
   "cell_type": "code",
   "execution_count": 22,
   "metadata": {},
   "outputs": [
    {
     "name": "stdout",
     "output_type": "stream",
     "text": [
      "Compilation successful\n",
      "qa-0: Sequencer status: ELF file uploaded\n"
     ]
    }
   ],
   "source": [
    "qa.awg.set_sequence_params(\n",
    "    sequence_type=\"Readout\",\n",
    "    repetitions=averages * len(delays),\n",
    "    period=period,\n",
    "    alignment=\"Start with Trigger\",\n",
    "    trigger_mode=\"External Trigger\",\n",
    "    readout_length=int_time,\n",
    "    trigger_delay=-30e-9,\n",
    ")\n",
    "\n",
    "# prepare readout channel on UHFQA\n",
    "qa.integration_time(int_time)\n",
    "qa.channels[0].enable()\n",
    "qa.channels[0].readout_frequency(drive_freq)\n",
    "qa.channels[0].rotation(0)\n",
    "\n",
    "qa.awg.compile()"
   ]
  },
  {
   "cell_type": "code",
   "execution_count": null,
   "metadata": {},
   "outputs": [],
   "source": []
  },
  {
   "cell_type": "code",
   "execution_count": null,
   "metadata": {},
   "outputs": [],
   "source": []
  },
  {
   "cell_type": "code",
   "execution_count": 23,
   "metadata": {},
   "outputs": [],
   "source": [
    "hd.awgs[0].output1(\"on\")\n",
    "qa.awg.outputs(\"on\")"
   ]
  },
  {
   "cell_type": "code",
   "execution_count": 25,
   "metadata": {},
   "outputs": [
    {
     "data": {
      "text/plain": [
       "1"
      ]
     },
     "execution_count": 25,
     "metadata": {},
     "output_type": "execute_result"
    }
   ],
   "source": [
    "# configure result acquisition\n",
    "\n",
    "qa.result_source(\"integration\")\n",
    "qa.nodetree.qa.result.length(len(delays)*averages)\n",
    "qa.nodetree.qa.result.averages(1)\n",
    "qa.nodetree.qa.result.enable(1)\n",
    "qa.nodetree.qa.result.reset(0)\n",
    "qa.nodetree.qa.result.reset(1)"
   ]
  },
  {
   "cell_type": "code",
   "execution_count": 26,
   "metadata": {},
   "outputs": [
    {
     "name": "stdout",
     "output_type": "stream",
     "text": [
      "81.85615038871765\n"
     ]
    }
   ],
   "source": [
    "# acquire data only at the end of the measurement\n",
    "tik = time.time()\n",
    "\n",
    "qa.awg.run()\n",
    "time.sleep(0.1)\n",
    "hd.awgs[0].run()\n",
    "hd.awgs[0].wait_done(timeout=100)\n",
    "    \n",
    "res = qa.channels[0].result()\n",
    "\n",
    "print(time.time() - tik)"
   ]
  },
  {
   "cell_type": "code",
   "execution_count": 27,
   "metadata": {},
   "outputs": [
    {
     "data": {
      "text/plain": [
       "[<matplotlib.lines.Line2D at 0x19ae6ec0e10>]"
      ]
     },
     "execution_count": 27,
     "metadata": {},
     "output_type": "execute_result"
    },
    {
     "data": {
      "image/png": "[encoded data removed]",
      "text/plain": [
       "<Figure size 432x288 with 1 Axes>"
      ]
     },
     "metadata": {
      "needs_background": "light"
     },
     "output_type": "display_data"
    }
   ],
   "source": [
    "plt.plot(np.real(res))"
   ]
  },
  {
   "cell_type": "code",
   "execution_count": null,
   "metadata": {},
   "outputs": [],
   "source": []
  }
 ],
 "metadata": {
  "kernelspec": {
   "display_name": "Python 3",
   "language": "python",
   "name": "python3"
  },
  "language_info": {
   "codemirror_mode": {
    "name": "ipython",
    "version": 3
   },
   "file_extension": ".py",
   "mimetype": "text/x-python",
   "name": "python",
   "nbconvert_exporter": "python",
   "pygments_lexer": "ipython3",
   "version": "3.6.9"
  }
 },
 "nbformat": 4,
 "nbformat_minor": 4
}
