{
 "cells": [
  {
   "cell_type": "markdown",
   "metadata": {},
   "source": [
    "# Predefined Sequences\n",
    "\n",
    "Instead of uploading waveforms defined as *numpy* arrays, the `zhinst-toolkit` also provides pre-defined sequences for standard experiments. These differ between UHFQA and HDAWG and include:\n",
    " \n",
    " * Rabi (HDAWG)\n",
    " * T1 (HDAWG)\n",
    " * T2 Ramsey (HDAWG)\n",
    " * Trigger (HDAWG)\n",
    " * Continuous-Wave (CW) Spectroscopy (UHFQA)\n",
    " * Pulsed Spectroscopy (UHFQA)\n",
    " * Multiplexed Readout (UHFQA)\n",
    "\n",
    "Here we show some basic examples of predefined sequences and how they can be used with the *HDAWG* and *UHFQA* together in a real-life experiment. To ensure that the two devices use the same Data Server, we use the *zhinst-toolkit's* `MultiDeviceConnection` and to setup and connect a Data Server and then connect the two devices to it."
   ]
  },
  {
   "cell_type": "code",
   "execution_count": 3,
   "metadata": {},
   "outputs": [],
   "source": [
    "import zhinst.toolkit as tk\n",
    "import numpy as np\n",
    "\n",
    "# create a 'Multi Device Connection'\n",
    "mdc = tk.MultiDeviceConnection(host=\"10.42.0.226\")\n",
    "mdc.setup()\n",
    "\n",
    "# connect the devices\n",
    "mdc.connect_device(tk.HDAWG(\"hdawg 1\", \"dev8030\"))\n",
    "mdc.connect_device(tk.UHFQA(\"uhfqa 1\", \"dev2266\"))\n",
    "\n",
    "# references to the instruments are held in attributes 'hdawgs' and 'uhfqas'\n",
    "hdawg = mdc.hdawgs[\"hdawg 1\"]\n",
    "uhfqa = mdc.uhfqas[\"uhfqa 1\"]"
   ]
  },
  {
   "cell_type": "markdown",
   "metadata": {},
   "source": [
    "## Resonator Spectroscopy\n",
    "\n",
    "For a resonator spectroscopy we can use the predefined `\"Pulsed Spectroscopy\"` sequence on the UHFQA. It plays a rectangular waveform of duration `pulse_length`. We configure one AWG Core of the *HDAWG* to a `\"Trigger\"` sequence to trigger the spectroscopy pulses on the *UHFQA* (`trigger_mode=\"External Trigger\"`). "
   ]
  },
  {
   "cell_type": "code",
   "execution_count": 7,
   "metadata": {},
   "outputs": [
    {
     "name": "stdout",
     "output_type": "stream",
     "text": [
      "Compilation successful\n",
      "hdawg 1-0: Sequencer status: ELF file uploaded\n",
      "Compilation successful\n",
      "uhfqa 1-0: Sequencer status: ELF file uploaded\n"
     ]
    }
   ],
   "source": [
    "# assign AWG Cores\n",
    "trigger = hdawg.awgs[0]\n",
    "readout = uhfqa.awg\n",
    "\n",
    "# configure trigger AWG\n",
    "trigger.set_sequence_params(\n",
    "    sequence_type=\"Trigger\",\n",
    "    period=10e-6,\n",
    "    repetitions=1e3,\n",
    ")\n",
    "trigger.compile()\n",
    "\n",
    "# configure UHFQA to Pulsed Spectroscopy\n",
    "readout.set_sequence_params(\n",
    "    sequence_type=\"Pulsed Spectroscopy\",\n",
    "    period=10e-6,\n",
    "    pulse_lenth=2e-6,\n",
    "    repetitions=1e3,\n",
    "    trigger_mode= \"External Trigger\",   # UHFQA triggered by Master Trigger\n",
    ")\n",
    "readout.compile()"
   ]
  },
  {
   "cell_type": "markdown",
   "metadata": {},
   "source": [
    "The spectroscopy sequence enables output modulation on the *UHFQA*. The signals on the two output channels are modulated with the sine and cosine of the internal oscillator. Its frequency is set by the parameter `uhfqa.nodetree.osc.freq`. On the signal acquisition side, the *integration mode: \"Spectroscopy\"* is used, which demodulates the signal input with the same internal oscillator.\n",
    "\n",
    "A sweep of the IF modulation frequency could be done like this: "
   ]
  },
  {
   "cell_type": "code",
   "execution_count": null,
   "metadata": {},
   "outputs": [],
   "source": [
    "# configure results to length 1000 and 1 hardware averages\n",
    "uhfqa.result_source(\"Integration\")\n",
    "uhfqa.nodetree.qa.result.length(1e3)\n",
    "uhfqa.nodetree.qa.result.averages(1)\n",
    "modulation_freq = uhfqa.nodetree.osc.freq\n",
    "\n",
    "# define the sweep points and an empty array for results\n",
    "frequencies = np.linspace(50e6, 100e6, 101)\n",
    "results = np.array([])\n",
    "\n",
    "for f in frequencies:\n",
    "    modulation_freq(f)                               # set modulation frequency\n",
    "    readout.run()                                    # start readout AWG\n",
    "    trigger.run()                                    # start trigger AWG\n",
    "    trigger.wait_done()                              # wait until trigger AWG has finished\n",
    "    avg_result = np.mean(uhfqa.channels[0].result()) # average the result vector\n",
    "    results = np.append(results, avg_result)         # append to results"
   ]
  },
  {
   "cell_type": "markdown",
   "metadata": {},
   "source": [
    "## Qubit Spectroscopy\n",
    "\n",
    "A drive pulse for qubit spectroscopy can be implemented in one of two ways. Either the predefined `\"Rabi\"` sequence (see below) is used with a single amplitude point and a long pulse width. The option would be to use the `\"Simple\"` sequence and upload the drive pulse of choice as a *numpy array*. For simplicity we will show the latter option and play a simle rectangular pulse of *5 us* duration on the *HDAWG*.\n",
    "\n",
    "On the *UHFQA*, we use the predefined `\"Readout\"` sequence. This sequence creates a readout tone for every enabled *Readout Channel* of the *UHFQA* at their respective `readout_frequency`. By enabling the readout channel we also program the integration weights of the readout channel to demodulate the signal at the given `readout_frequency`. "
   ]
  },
  {
   "cell_type": "code",
   "execution_count": 8,
   "metadata": {},
   "outputs": [
    {
     "name": "stdout",
     "output_type": "stream",
     "text": [
      "Current length of queue: 1\n",
      "Compilation successful\n",
      "hdawg 1-0: Sequencer status: ELF file uploaded\n",
      "Upload of 1 waveforms took 0.071 s\n",
      "Compilation successful\n",
      "uhfqa 1-0: Sequencer status: ELF file uploaded\n"
     ]
    }
   ],
   "source": [
    "# assign AWGs\n",
    "drive = hdawg.awgs[0]\n",
    "readout = uhfqa.awg\n",
    "channel = uhfqa.channels[0]\n",
    "\n",
    "# configure trigger AWG\n",
    "drive.set_sequence_params(\n",
    "    sequence_type=\"Simple\",\n",
    "    period=10e-6,\n",
    "    repetitions=1e3,\n",
    ")\n",
    "drive.reset_queue()\n",
    "wave = np.ones(int(2.4e9 * 5e-6))  # sampling rate x pulse duration\n",
    "drive.queue_waveform(wave, wave)\n",
    "drive.compile_and_upload_waveforms()\n",
    "\n",
    "# configure UHFQA to Readout\n",
    "channel.enable()\n",
    "channel.readout_frequency(123e6)\n",
    "readout.set_sequence_params(\n",
    "    sequence_type=\"Readout\",\n",
    "    period=10e-6,\n",
    "    pulse_lenth=2e-6,\n",
    "    repetitions=1e3,\n",
    "    trigger_mode= \"External Trigger\",   # UHFQA triggered by Master Trigger\n",
    ")\n",
    "readout.compile()"
   ]
  },
  {
   "cell_type": "markdown",
   "metadata": {},
   "source": [
    "To sweep the frequency of the drive signal, we want to enable modulation of the ouput signal of the qubit drive at with the internal oscillator. This is done by enabling the IQ Modulation mode of the AWG Core (modulation with the internal oscillator for IQ signal generation). The frequency of the oscillator can then be swept over the desired range."
   ]
  },
  {
   "cell_type": "code",
   "execution_count": null,
   "metadata": {},
   "outputs": [],
   "source": [
    "frequencies = np.linspace(20e6, 50e6, 101)\n",
    "results = np.array([])\n",
    "\n",
    "# enable IQ Modulation mode\n",
    "drive.enable_iq_modulation()\n",
    "\n",
    "for f in frequencies:\n",
    "    drive.modulation_freq(f)\n",
    "    readout.run()\n",
    "    drive.run()\n",
    "    drive.wait_done()\n",
    "    avg_result = np.mean(channel.result())\n",
    "    results = np.append(results, avg_result)\n"
   ]
  },
  {
   "cell_type": "markdown",
   "metadata": {},
   "source": [
    "## Rabi Sequence\n",
    "\n",
    "The *Rabi Sequence* plays a simple Gaussian pulse that is defined by the sequence parameters `pulse_width` and `pulse_truncation`. The parameter `pulse_amplitudes` expects a *list* or *array* of values for the amplitude sweep. With the IQ Modulation mode enabled a typical Rabi sequence would look like this:"
   ]
  },
  {
   "cell_type": "code",
   "execution_count": 17,
   "metadata": {},
   "outputs": [
    {
     "name": "stdout",
     "output_type": "stream",
     "text": [
      "Compilation successful\n",
      "hdawg 1-0: Sequencer status: ELF file uploaded\n",
      "Compilation successful\n",
      "uhfqa 1-0: Sequencer status: ELF file uploaded\n"
     ]
    }
   ],
   "source": [
    "# assign AWGs\n",
    "drive = hdawg.awgs[0]\n",
    "readout = uhfqa.awg\n",
    "channel = uhfqa.channels[0]\n",
    "\n",
    "# define numpy array with Rabi Amplutdes\n",
    "rabi_amplitudes = np.linspace(0, 1.0, 101)\n",
    "\n",
    "# configure Rabi Amplitude Sweep\n",
    "hdawg.awgs[0].enable_iq_modulation()\n",
    "hdawg.awgs[0].modulation_freq(100e6)\n",
    "\n",
    "hdawg.awgs[0].set_sequence_params(\n",
    "    sequence_type=\"Rabi\",\n",
    "    pulse_width=50e-9,\n",
    "    pulse_amplitudes=rabi_amplitudes,\n",
    ")\n",
    "hdawg.awgs[0].compile()\n",
    "\n",
    "# configure UHFQA to Readout\n",
    "uhfqa.nodetree.qa.result.length(1e3 * len(rabi_amplitudes))\n",
    "uhfqa.nodetree.qa.result.averages(1)\n",
    "\n",
    "channel.enable()\n",
    "channel.readout_frequency(123e6)\n",
    "readout.set_sequence_params(\n",
    "    sequence_type=\"Readout\",\n",
    "    period=10e-6,\n",
    "    pulse_lenth=2e-6,\n",
    "    repetitions=1e3 * len(rabi_amplitudes),  # play averages x sweep-points readout pulses\n",
    "    trigger_mode= \"External Trigger\",        # UHFQA triggered by Master Trigger\n",
    ")\n",
    "readout.compile()"
   ]
  },
  {
   "cell_type": "code",
   "execution_count": null,
   "metadata": {},
   "outputs": [],
   "source": [
    "readout.run()\n",
    "drive.run()\n",
    "drive.wait_done()\n",
    "result = channel.result()"
   ]
  },
  {
   "cell_type": "markdown",
   "metadata": {},
   "source": [
    "## Time Domain Characterization: T1 & T2*\n",
    "\n",
    "Time domain characterization can be done with predefined sequences *T1* and *T2 Ramsey*. They work in the same way as the *Rabi Sequence*. However, instead of passing an array of sweep values to the parameter `pulse_amplitudes`, the parameter is called `time_delays`. This parameter defines the  "
   ]
  },
  {
   "cell_type": "code",
   "execution_count": 17,
   "metadata": {},
   "outputs": [
    {
     "name": "stdout",
     "output_type": "stream",
     "text": [
      "Compilation successful\n",
      "hdawg 1-0: Sequencer status: ELF file uploaded\n",
      "Compilation successful\n",
      "uhfqa 1-0: Sequencer status: ELF file uploaded\n"
     ]
    }
   ],
   "source": [
    "# assign AWGs\n",
    "drive = hdawg.awgs[0]\n",
    "readout = uhfqa.awg\n",
    "channel = uhfqa.channels[0]\n",
    "\n",
    "# define numpy array with Delay Times\n",
    "delay_times = np.linspace(0.5e-6, 20e-6, 40)\n",
    "\n",
    "# configure Rabi Amplitude Sweep\n",
    "hdawg.awgs[0].enable_iq_modulation()\n",
    "hdawg.awgs[0].modulation_freq(100e6)\n",
    "\n",
    "hdawg.awgs[0].set_sequence_params(\n",
    "    sequence_type=\"T1\",\n",
    "    pulse_width=50e-9,\n",
    "    delay_times=delay_times,\n",
    ")\n",
    "hdawg.awgs[0].compile()\n",
    "\n",
    "# configure UHFQA to Readout\n",
    "uhfqa.nodetree.qa.result.length(1e3 * len(delay_times))\n",
    "uhfqa.nodetree.qa.result.averages(1)\n",
    "\n",
    "channel.enable()\n",
    "channel.readout_frequency(123e6)\n",
    "readout.set_sequence_params(\n",
    "    sequence_type=\"Readout\",\n",
    "    period=10e-6,\n",
    "    pulse_lenth=2e-6,\n",
    "    repetitions=1e3 * len(delay_times),  # play averages x sweep-points readout pulses\n",
    "    trigger_mode= \"External Trigger\",        # UHFQA triggered by Master Trigger\n",
    ")\n",
    "readout.compile()"
   ]
  },
  {
   "cell_type": "code",
   "execution_count": null,
   "metadata": {},
   "outputs": [],
   "source": [
    "readout.run()\n",
    "drive.run()\n",
    "drive.wait_done()\n",
    "result = channel.result()"
   ]
  },
  {
   "cell_type": "markdown",
   "metadata": {},
   "source": [
    "## Multiplexed Readout\n",
    "\n",
    "```\n",
    "              HDAWG 1\n",
    "           +-----------+                    ______________________________\n",
    "+----<----+   AWG 1   |  Trigger          _|                              |_________:_\n",
    "|         +-----------+                    :                              :         :\n",
    "+----+----->  AWG 2   |  AWGs[0]          _:________________________|XXXXX|_________:_\n",
    "     |    |-----------+                    :                              :         :\n",
    "     +----->  AWG 3   |  AWGs[1]          _:_____________________|XXXXXXXX|_________:_\n",
    "     |    |-----------+                    :                              :         :\n",
    "     +----->  AWG 4   |  AWGs[2]          _:__________________|XXXXXXXXXXX|_________:_\n",
    "     |    +-----------+                    :                              :         :\n",
    "     |                                     :                              :         :\n",
    "     |     UHFQA                           :                              :         :\n",
    "     |    +-----------+                    :                              :         :\n",
    "     +----->          | Readout           _:______________________________|XXXXX|___:_\n",
    "          +-----------+\n",
    "```"
   ]
  },
  {
   "cell_type": "code",
   "execution_count": null,
   "metadata": {},
   "outputs": [],
   "source": []
  }
 ],
 "metadata": {
  "kernelspec": {
   "display_name": "qcodes",
   "language": "python",
   "name": "qcodes"
  },
  "language_info": {
   "codemirror_mode": {
    "name": "ipython",
    "version": 3
   },
   "file_extension": ".py",
   "mimetype": "text/x-python",
   "name": "python",
   "nbconvert_exporter": "python",
   "pygments_lexer": "ipython3",
   "version": "3.7.5"
  }
 },
 "nbformat": 4,
 "nbformat_minor": 4
}
