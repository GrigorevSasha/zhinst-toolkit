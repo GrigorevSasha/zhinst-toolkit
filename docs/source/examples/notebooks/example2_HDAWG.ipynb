{
 "cells": [
  {
   "cell_type": "markdown",
   "metadata": {},
   "source": [
    "# HDAWG\n",
    "\n",
    "Some text here ...\n",
    "\n"
   ]
  },
  {
   "cell_type": "code",
   "execution_count": 1,
   "metadata": {},
   "outputs": [],
   "source": [
    "import zhinst.toolkit as tk"
   ]
  },
  {
   "cell_type": "markdown",
   "metadata": {},
   "source": [
    "And initialize the device. We use the `tk.HDAWG` instrument driver, its device serial is `\"dev8030\"` and we connect via ethernet (`\"1gbe\"`) to the host at `\"10.42.0.226\"`."
   ]
  },
  {
   "cell_type": "code",
   "execution_count": 2,
   "metadata": {},
   "outputs": [
    {
     "name": "stdout",
     "output_type": "stream",
     "text": [
      "Successfully connected to data server at 10.42.0.2268004 api version: 6\n",
      "Successfully connected to device DEV8030 on interface 1GBE\n"
     ]
    }
   ],
   "source": [
    "hdawg = tk.HDAWG(\"hdawg1\", \"dev8030\", interface=\"1gbe\", host=\"10.42.0.226\")\n",
    "hdawg.setup()           # set up data server connection\n",
    "hdawg.connect_device()  # connect device to data server"
   ]
  },
  {
   "cell_type": "markdown",
   "metadata": {},
   "source": [
    "## AWG Cores \n",
    "\n",
    "besides the `nodetree` property, the devices also have other properties, e.g. `AWG`s. The HDAWG has a list of four AWGs."
   ]
  },
  {
   "cell_type": "code",
   "execution_count": 4,
   "metadata": {
    "scrolled": true
   },
   "outputs": [
    {
     "data": {
      "text/plain": [
       "[hdawg1: <zhinst.toolkit.control.drivers.hdawg.AWG object at 0x000002C815106160>\n",
       "     parent  : <zhinst.toolkit.control.drivers.hdawg.HDAWG object at 0x000002C8150F8F98>\n",
       "     index   : 0\n",
       "     sequence: \n",
       "            type: None\n",
       "             ('target', <DeviceTypes.HDAWG: 'hdawg'>)\n",
       "             ('clock_rate', 2400000000.0)\n",
       "             ('period', 0.0001)\n",
       "             ('trigger_mode', 'None')\n",
       "             ('repetitions', 1)\n",
       "             ('alignment', 'End with Trigger')\n",
       "             ('n_HW_loop', 1)\n",
       "             ('dead_time', 5e-06)\n",
       "             ('trigger_delay', 0)\n",
       "             ('latency', 1.6e-07)\n",
       "             ('trigger_cmd_1', '//\\n')\n",
       "             ('trigger_cmd_2', '//\\n')\n",
       "             ('wait_cycles', 0)\n",
       "             ('dead_cycles', 0)\n",
       "             ('reset_phase', False)\n",
       "       IQ Modulation DISABLED,\n",
       " hdawg1: <zhinst.toolkit.control.drivers.hdawg.AWG object at 0x000002C815106358>\n",
       "     parent  : <zhinst.toolkit.control.drivers.hdawg.HDAWG object at 0x000002C8150F8F98>\n",
       "     index   : 1\n",
       "     sequence: \n",
       "            type: None\n",
       "             ('target', <DeviceTypes.HDAWG: 'hdawg'>)\n",
       "             ('clock_rate', 2400000000.0)\n",
       "             ('period', 0.0001)\n",
       "             ('trigger_mode', 'None')\n",
       "             ('repetitions', 1)\n",
       "             ('alignment', 'End with Trigger')\n",
       "             ('n_HW_loop', 1)\n",
       "             ('dead_time', 5e-06)\n",
       "             ('trigger_delay', 0)\n",
       "             ('latency', 1.6e-07)\n",
       "             ('trigger_cmd_1', '//\\n')\n",
       "             ('trigger_cmd_2', '//\\n')\n",
       "             ('wait_cycles', 0)\n",
       "             ('dead_cycles', 0)\n",
       "             ('reset_phase', False)\n",
       "       IQ Modulation DISABLED,\n",
       " hdawg1: <zhinst.toolkit.control.drivers.hdawg.AWG object at 0x000002C815106550>\n",
       "     parent  : <zhinst.toolkit.control.drivers.hdawg.HDAWG object at 0x000002C8150F8F98>\n",
       "     index   : 2\n",
       "     sequence: \n",
       "            type: None\n",
       "             ('target', <DeviceTypes.HDAWG: 'hdawg'>)\n",
       "             ('clock_rate', 2400000000.0)\n",
       "             ('period', 0.0001)\n",
       "             ('trigger_mode', 'None')\n",
       "             ('repetitions', 1)\n",
       "             ('alignment', 'End with Trigger')\n",
       "             ('n_HW_loop', 1)\n",
       "             ('dead_time', 5e-06)\n",
       "             ('trigger_delay', 0)\n",
       "             ('latency', 1.6e-07)\n",
       "             ('trigger_cmd_1', '//\\n')\n",
       "             ('trigger_cmd_2', '//\\n')\n",
       "             ('wait_cycles', 0)\n",
       "             ('dead_cycles', 0)\n",
       "             ('reset_phase', False)\n",
       "       IQ Modulation DISABLED,\n",
       " hdawg1: <zhinst.toolkit.control.drivers.hdawg.AWG object at 0x000002C815106748>\n",
       "     parent  : <zhinst.toolkit.control.drivers.hdawg.HDAWG object at 0x000002C8150F8F98>\n",
       "     index   : 3\n",
       "     sequence: \n",
       "            type: None\n",
       "             ('target', <DeviceTypes.HDAWG: 'hdawg'>)\n",
       "             ('clock_rate', 2400000000.0)\n",
       "             ('period', 0.0001)\n",
       "             ('trigger_mode', 'None')\n",
       "             ('repetitions', 1)\n",
       "             ('alignment', 'End with Trigger')\n",
       "             ('n_HW_loop', 1)\n",
       "             ('dead_time', 5e-06)\n",
       "             ('trigger_delay', 0)\n",
       "             ('latency', 1.6e-07)\n",
       "             ('trigger_cmd_1', '//\\n')\n",
       "             ('trigger_cmd_2', '//\\n')\n",
       "             ('wait_cycles', 0)\n",
       "             ('dead_cycles', 0)\n",
       "             ('reset_phase', False)\n",
       "       IQ Modulation DISABLED]"
      ]
     },
     "execution_count": 4,
     "metadata": {},
     "output_type": "execute_result"
    }
   ],
   "source": [
    "hdawg.awgs"
   ]
  },
  {
   "cell_type": "markdown",
   "metadata": {},
   "source": [
    "The awgs feature a list of `Parameters` and methods that allow for a high-level control of the AWG Core and the pulse sequence that is programmed on it.  \n",
    "\n",
    "The parameters include \n",
    "\n",
    "* `output1`\n",
    "* `output2`\n",
    "* `gain1`\n",
    "* `gain2`\n",
    "* `modulation_freq`\n",
    "* ..."
   ]
  },
  {
   "cell_type": "code",
   "execution_count": 7,
   "metadata": {},
   "outputs": [],
   "source": [
    "import time\n",
    "\n",
    "# different ways of turning outputs on or off\n",
    "for awg in hdawg.awgs:\n",
    "    awg.outputs((\"on\", \"on\"))\n",
    "    time.sleep(0.5)\n",
    "    awg.output1(\"off\")\n",
    "    time.sleep(0.5)\n",
    "    awg.output2(\"off\")\n",
    "    time.sleep(0.5)"
   ]
  },
  {
   "cell_type": "code",
   "execution_count": 9,
   "metadata": {},
   "outputs": [
    {
     "data": {
      "text/plain": [
       "Node: oscs/0/freq\n",
       "Description: Sets the modulation frequency of the AWG output channels.\n",
       "Type: Double\n",
       "Properties: Read, Write\n",
       "Unit: Hz"
      ]
     },
     "execution_count": 9,
     "metadata": {},
     "output_type": "execute_result"
    }
   ],
   "source": [
    "# also the AWGs have parameters\n",
    "hdawg.awgs[0].modulation_freq"
   ]
  },
  {
   "cell_type": "code",
   "execution_count": 10,
   "metadata": {},
   "outputs": [],
   "source": [
    "# enable IQ modulation, i.e. appling the neccessary settings\n",
    "hdawg.awgs[0].enable_iq_modulation()"
   ]
  },
  {
   "cell_type": "code",
   "execution_count": 13,
   "metadata": {},
   "outputs": [],
   "source": [
    "import numpy as np\n",
    "\n",
    "# a simple sweep\n",
    "for f in np.linspace(10e6, 20e6, 101):\n",
    "    hdawg.awgs[0].modulation_freq(f)\n",
    "    time.sleep(0.1)"
   ]
  },
  {
   "cell_type": "markdown",
   "metadata": {},
   "source": [
    "### Programming the AWG sequencer"
   ]
  },
  {
   "cell_type": "code",
   "execution_count": 16,
   "metadata": {},
   "outputs": [
    {
     "data": {
      "text/plain": [
       "<zhinst.toolkit.tools.helpers.sequence_program.SequenceProgram at 0x21e467d3358>"
      ]
     },
     "execution_count": 16,
     "metadata": {},
     "output_type": "execute_result"
    }
   ],
   "source": [
    "# the AWG has a sequence program object\n",
    "hd.awgs[0]._program"
   ]
  },
  {
   "cell_type": "code",
   "execution_count": 17,
   "metadata": {},
   "outputs": [
    {
     "data": {
      "text/plain": [
       "{'sequence_type': None,\n",
       " 'sequence_parameters': {'target': 'hdawg',\n",
       "  'clock_rate': 2400000000.0,\n",
       "  'period': 0.0001,\n",
       "  'trigger_mode': 'None',\n",
       "  'repetitions': 1,\n",
       "  'alignment': 'End with Trigger',\n",
       "  'n_HW_loop': 1,\n",
       "  'dead_time': 5e-06,\n",
       "  'trigger_delay': 0,\n",
       "  'latency': 1.6e-07,\n",
       "  'trigger_cmd_1': '//',\n",
       "  'trigger_cmd_2': '//',\n",
       "  'wait_cycles': 0,\n",
       "  'dead_cycles': 0}}"
      ]
     },
     "execution_count": 17,
     "metadata": {},
     "output_type": "execute_result"
    }
   ],
   "source": [
    "# we can get and set parameters of the sequence program\n",
    "hd.awgs[0].sequence_params"
   ]
  },
  {
   "cell_type": "code",
   "execution_count": null,
   "metadata": {},
   "outputs": [],
   "source": [
    "# use the awg core as a master trigger\n",
    "hd.awgs[0].set_sequence_params(\n",
    "    sequence_type=\"Trigger\",\n",
    "    period=100e-6,\n",
    "    repetitions=100,\n",
    ")\n",
    "hd.awgs[0].compile()"
   ]
  },
  {
   "cell_type": "code",
   "execution_count": 18,
   "metadata": {},
   "outputs": [],
   "source": [
    "# upload waveforms as arrays in \"Simple\" mode\n",
    "hd.awgs[0].set_sequence_params(\n",
    "    sequence_type=\"Simple\",\n",
    "    period=100e-6,\n",
    "    repetitions=100,\n",
    "    alignment=\"End with Trigger\",\n",
    "    trigger_mode=\"Send Trigger\",\n",
    ")"
   ]
  },
  {
   "cell_type": "code",
   "execution_count": 19,
   "metadata": {},
   "outputs": [
    {
     "data": {
      "text/plain": [
       "hd1: <zhinst.toolkit.hdawg.AWG object at 0x0000021E467D3320>\n",
       "    parent  : <zhinst.toolkit.hdawg.HDAWG object at 0x0000021E467D3198>\n",
       "    index   : 0\n",
       "    sequence: \n",
       "           type: Simple\n",
       "            ('target', 'hdawg')\n",
       "            ('clock_rate', 2400000000.0)\n",
       "            ('period', 0.0001)\n",
       "            ('trigger_mode', 'Send Trigger')\n",
       "            ('repetitions', 100)\n",
       "            ('alignment', 'End with Trigger')\n",
       "            ('n_HW_loop', 1)\n",
       "            ('dead_time', 5e-06)\n",
       "            ('trigger_delay', 0)\n",
       "            ('latency', 1.6e-07)\n",
       "            ('trigger_cmd_1', 'setTrigger(1);\\n')\n",
       "            ('trigger_cmd_2', 'setTrigger(0);\\n')\n",
       "            ('wait_cycles', 28500)\n",
       "            ('dead_cycles', 1500)\n",
       "            ('buffer_lengths', [800])\n",
       "      IQ Modulation ENABLED:\n",
       "         frequency   : 19999999.999998864\n",
       "         phase_shift : 90.0\n",
       "         gains       : 1.0, 1.0"
      ]
     },
     "execution_count": 19,
     "metadata": {},
     "output_type": "execute_result"
    }
   ],
   "source": [
    "hd.awgs[0]"
   ]
  },
  {
   "cell_type": "code",
   "execution_count": 20,
   "metadata": {},
   "outputs": [
    {
     "name": "stdout",
     "output_type": "stream",
     "text": [
      "Current length of queue: 1\n"
     ]
    }
   ],
   "source": [
    "# for this 'Simple' sequence we can queue up arbitrary waveforms \n",
    "hd.awgs[0].queue_waveform(np.ones(1000), -np.ones(1000))"
   ]
  },
  {
   "cell_type": "code",
   "execution_count": 21,
   "metadata": {},
   "outputs": [],
   "source": [
    "# and also reset the queue\n",
    "hd.awgs[0].reset_queue()"
   ]
  },
  {
   "cell_type": "code",
   "execution_count": 22,
   "metadata": {
    "scrolled": true
   },
   "outputs": [
    {
     "name": "stdout",
     "output_type": "stream",
     "text": [
      "Current length of queue: 1\n",
      "Current length of queue: 2\n",
      "Current length of queue: 3\n",
      "Current length of queue: 4\n",
      "Current length of queue: 5\n",
      "Current length of queue: 6\n",
      "Current length of queue: 7\n",
      "Current length of queue: 8\n",
      "Current length of queue: 9\n",
      "Current length of queue: 10\n"
     ]
    }
   ],
   "source": [
    "# let's queue up some waveforms\n",
    "for amp in np.linspace(-1, 1, 10):\n",
    "    hd.awgs[0].queue_waveform(amp*np.ones(400), -amp*np.ones(400))"
   ]
  },
  {
   "cell_type": "code",
   "execution_count": 25,
   "metadata": {
    "scrolled": true
   },
   "outputs": [
    {
     "data": {
      "text/plain": [
       "[<zhinst.toolkit.tools.helpers.waveform.Waveform at 0x21e493e6630>,\n",
       " <zhinst.toolkit.tools.helpers.waveform.Waveform at 0x21e493c2f60>,\n",
       " <zhinst.toolkit.tools.helpers.waveform.Waveform at 0x21e493e6b00>,\n",
       " <zhinst.toolkit.tools.helpers.waveform.Waveform at 0x21e493e6b70>,\n",
       " <zhinst.toolkit.tools.helpers.waveform.Waveform at 0x21e4531fb00>,\n",
       " <zhinst.toolkit.tools.helpers.waveform.Waveform at 0x21e493e6c18>,\n",
       " <zhinst.toolkit.tools.helpers.waveform.Waveform at 0x21e493e6ba8>,\n",
       " <zhinst.toolkit.tools.helpers.waveform.Waveform at 0x21e493e6be0>,\n",
       " <zhinst.toolkit.tools.helpers.waveform.Waveform at 0x21e493e6c88>,\n",
       " <zhinst.toolkit.tools.helpers.waveform.Waveform at 0x21e493e6cc0>]"
      ]
     },
     "execution_count": 25,
     "metadata": {},
     "output_type": "execute_result"
    }
   ],
   "source": [
    "# the waveforms are all in the queue now\n",
    "hd.awgs[0].waveforms"
   ]
  },
  {
   "cell_type": "code",
   "execution_count": 26,
   "metadata": {},
   "outputs": [
    {
     "name": "stdout",
     "output_type": "stream",
     "text": [
      "Compilation successful\n",
      "hd1-0: Sequencer status: ELF file uploaded\n",
      "Upload of 10 waveforms took 0.020005226135253906 s\n"
     ]
    }
   ],
   "source": [
    "# now we have to compile the sequence program and then we can upload all the waveforms\n",
    "hd.awgs[0].compile()\n",
    "hd.awgs[0].upload_waveforms()\n",
    "\n",
    "# we could also just use hd.awgs[0].compile_and_upload_waveforms()"
   ]
  },
  {
   "cell_type": "code",
   "execution_count": 27,
   "metadata": {},
   "outputs": [
    {
     "name": "stdout",
     "output_type": "stream",
     "text": [
      "Started AWG hd1-0!\n"
     ]
    }
   ],
   "source": [
    "# let's run the sequence\n",
    "hd.awgs[0].run()"
   ]
  },
  {
   "cell_type": "code",
   "execution_count": 28,
   "metadata": {},
   "outputs": [
    {
     "data": {
      "text/plain": [
       "0"
      ]
     },
     "execution_count": 28,
     "metadata": {},
     "output_type": "execute_result"
    }
   ],
   "source": [
    "# is it still running?\n",
    "hd.awgs[0].is_running"
   ]
  },
  {
   "cell_type": "code",
   "execution_count": null,
   "metadata": {},
   "outputs": [],
   "source": []
  },
  {
   "cell_type": "code",
   "execution_count": 31,
   "metadata": {},
   "outputs": [
    {
     "name": "stdout",
     "output_type": "stream",
     "text": [
      "Upload of 10 waveforms took 0.018970489501953125 s\n"
     ]
    }
   ],
   "source": [
    "# we can also just replace a single one of the waveforms with a waveform of the same length\n",
    "hd.awgs[0].replace_waveform(np.random.rand(400), np.random.rand(400), i=4)\n",
    "hd.awgs[0].upload_waveforms()\n",
    "\n",
    "# check the waveform in the LabOne UI! We do not need to recompile as long as the waveform is of the same length."
   ]
  }
 ],
 "metadata": {
  "kernelspec": {
   "display_name": "Python 3",
   "language": "python",
   "name": "python3"
  },
  "language_info": {
   "codemirror_mode": {
    "name": "ipython",
    "version": 3
   },
   "file_extension": ".py",
   "mimetype": "text/x-python",
   "name": "python",
   "nbconvert_exporter": "python",
   "pygments_lexer": "ipython3",
   "version": "3.6.9"
  }
 },
 "nbformat": 4,
 "nbformat_minor": 4
}
