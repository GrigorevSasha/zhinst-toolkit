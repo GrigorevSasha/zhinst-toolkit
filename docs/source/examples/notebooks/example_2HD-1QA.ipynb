{
 "cells": [
  {
   "cell_type": "code",
   "execution_count": 1,
   "metadata": {},
   "outputs": [],
   "source": [
    "import zhinst.toolkit as tk\n",
    "import numpy as np"
   ]
  },
  {
   "cell_type": "markdown",
   "metadata": {},
   "source": [
    "## Connect 2 x HDAWG and 1 x UHFQA"
   ]
  },
  {
   "cell_type": "code",
   "execution_count": 2,
   "metadata": {},
   "outputs": [
    {
     "name": "stdout",
     "output_type": "stream",
     "text": [
      "Successfully connected to data server at localhost8004 api version: 6\n"
     ]
    }
   ],
   "source": [
    "mdc = tk.MultiDeviceConnection()\n",
    "mdc.setup()"
   ]
  },
  {
   "cell_type": "code",
   "execution_count": 3,
   "metadata": {},
   "outputs": [
    {
     "name": "stdout",
     "output_type": "stream",
     "text": [
      "Successfully connected to device DEV8030 on interface 1GBE\n"
     ]
    }
   ],
   "source": [
    "hd1 = tk.HDAWG(\"hd1\", \"dev8030\")\n",
    "mdc.connect_device(hd1)"
   ]
  },
  {
   "cell_type": "code",
   "execution_count": 4,
   "metadata": {},
   "outputs": [
    {
     "name": "stdout",
     "output_type": "stream",
     "text": [
      "Successfully connected to device DEV8138 on interface 1GBE\n"
     ]
    }
   ],
   "source": [
    "hd2 = tk.HDAWG(\"hd2\", \"dev8138\")\n",
    "mdc.connect_device(hd2)"
   ]
  },
  {
   "cell_type": "code",
   "execution_count": 5,
   "metadata": {},
   "outputs": [
    {
     "name": "stdout",
     "output_type": "stream",
     "text": [
      "Successfully connected to device DEV2266 on interface 1GBE\n"
     ]
    }
   ],
   "source": [
    "qa = tk.UHFQA(\"qa\", \"dev2266\")\n",
    "mdc.connect_device(qa)"
   ]
  },
  {
   "cell_type": "code",
   "execution_count": null,
   "metadata": {},
   "outputs": [],
   "source": []
  },
  {
   "cell_type": "code",
   "execution_count": 6,
   "metadata": {},
   "outputs": [],
   "source": [
    "# assign trigger awg and other awgs\n",
    "trigger = hd1.awgs[0]\n",
    "awgs = hd1.awgs[1:] + hd2.awgs\n",
    "readout = qa.awg"
   ]
  },
  {
   "cell_type": "code",
   "execution_count": null,
   "metadata": {},
   "outputs": [],
   "source": []
  },
  {
   "cell_type": "code",
   "execution_count": 7,
   "metadata": {},
   "outputs": [],
   "source": [
    "# define shared sequence parameters\n",
    "period = 50e-6\n",
    "repetitions = 1000"
   ]
  },
  {
   "cell_type": "code",
   "execution_count": null,
   "metadata": {},
   "outputs": [],
   "source": []
  },
  {
   "cell_type": "code",
   "execution_count": 8,
   "metadata": {},
   "outputs": [
    {
     "name": "stdout",
     "output_type": "stream",
     "text": [
      "Current length of queue: 1\n",
      "Compilation successful\n",
      "hd1-0: Sequencer status: ELF file uploaded\n",
      "Upload of 1 waveforms took 0.054004 s\n"
     ]
    }
   ],
   "source": [
    "# configure trigger awg with \"Trigger\" sequence (sets trigger but no waveform)\n",
    "trigger.set_sequence_params(\n",
    "    sequence_type=\"Trigger\",\n",
    "    repetitions=repetitions,\n",
    "    period=period,\n",
    ")\n",
    "trigger.compile()"
   ]
  },
  {
   "cell_type": "code",
   "execution_count": 107,
   "metadata": {},
   "outputs": [
    {
     "name": "stdout",
     "output_type": "stream",
     "text": [
      "Current length of queue: 1\n",
      "Compilation successful\n",
      "hd1-1: Sequencer status: ELF file uploaded\n",
      "Upload of 1 waveforms took 0.047972 s\n",
      "Current length of queue: 1\n",
      "Compilation successful\n",
      "hd1-2: Sequencer status: ELF file uploaded\n",
      "Upload of 1 waveforms took 0.019993 s\n",
      "Current length of queue: 1\n",
      "Compilation successful\n",
      "hd1-3: Sequencer status: ELF file uploaded\n",
      "Upload of 1 waveforms took 0.0099933 s\n",
      "Current length of queue: 1\n",
      "Compilation successful\n",
      "hd2-0: Sequencer status: ELF file uploaded\n",
      "Upload of 1 waveforms took 0.015973 s\n",
      "Current length of queue: 1\n",
      "Compilation successful\n",
      "hd2-1: Sequencer status: ELF file uploaded\n",
      "Upload of 1 waveforms took 0.010975 s\n",
      "Current length of queue: 1\n",
      "Compilation successful\n",
      "hd2-2: Sequencer status: ELF file uploaded\n",
      "Upload of 1 waveforms took 0.014992 s\n",
      "Current length of queue: 1\n",
      "Compilation successful\n",
      "hd2-3: Sequencer status: ELF file uploaded\n",
      "Upload of 1 waveforms took 0.015007 s\n"
     ]
    }
   ],
   "source": [
    "freqs = np.linspace(50e6, 200e6, 7)\n",
    "amps = np.linspace(1.0, 0.1, 7)\n",
    "\n",
    "for i, awg in enumerate(awgs):\n",
    "    awg._trigger_level = 0.25\n",
    "    awg.set_sequence_params(\n",
    "        sequence_type=\"Simple\",\n",
    "        repetitions=\"inf\",\n",
    "        period=period,\n",
    "        alignment=\"End with Trigger\",\n",
    "        trigger_mode=\"External Trigger\",\n",
    "        trigger_delay=-1e-6*(i+0.5),\n",
    "    )\n",
    "    awg.reset_queue()\n",
    "    l = int(0.5e-6 * 2.4e9)\n",
    "#     w = (-1)**i * np.ones(l)\n",
    "    w = amps[i] * np.ones(l)\n",
    "    awg.queue_waveform(w, -w)\n",
    "    awg.enable_iq_modulation()\n",
    "    awg.modulation_freq(freqs[i])\n",
    "    awg.compile_and_upload_waveforms()"
   ]
  },
  {
   "cell_type": "code",
   "execution_count": 108,
   "metadata": {},
   "outputs": [
    {
     "name": "stdout",
     "output_type": "stream",
     "text": [
      "Current length of queue: 1\n",
      "Compilation successful\n",
      "qa-0: Sequencer status: ELF file uploaded\n",
      "Upload of 1 waveforms took 0.044988 s\n"
     ]
    }
   ],
   "source": [
    "readout.set_sequence_params(\n",
    "    sequence_type=\"Simple\",\n",
    "    repetitions=\"inf\",\n",
    "    period=period,\n",
    "    alignment=\"Start with Trigger\",\n",
    "    trigger_mode=\"External Trigger\",\n",
    "    trigger_delay=-110e-9,\n",
    ")\n",
    "readout.reset_queue()\n",
    "l = int(2e-6 * 1.8e9)\n",
    "w = np.ones(l)\n",
    "readout.queue_waveform(w, -w)\n",
    "readout.compile_and_upload_waveforms()"
   ]
  },
  {
   "cell_type": "code",
   "execution_count": 109,
   "metadata": {},
   "outputs": [],
   "source": [
    "for awg in awgs + [readout]:\n",
    "    awg.outputs([\"on\", \"on\"])\n",
    "    awg.run()"
   ]
  },
  {
   "cell_type": "code",
   "execution_count": 110,
   "metadata": {},
   "outputs": [],
   "source": [
    "trigger.run()"
   ]
  },
  {
   "cell_type": "code",
   "execution_count": 111,
   "metadata": {},
   "outputs": [],
   "source": [
    "for awg in awgs + [readout]:\n",
    "    awg.outputs([\"off\", \"off\"])\n",
    "    awg.stop()\n",
    "trigger.stop()"
   ]
  },
  {
   "cell_type": "code",
   "execution_count": null,
   "metadata": {},
   "outputs": [],
   "source": []
  },
  {
   "cell_type": "code",
   "execution_count": null,
   "metadata": {},
   "outputs": [],
   "source": []
  },
  {
   "cell_type": "code",
   "execution_count": null,
   "metadata": {},
   "outputs": [],
   "source": []
  }
 ],
 "metadata": {
  "kernelspec": {
   "display_name": "qcodes",
   "language": "python",
   "name": "qcodes"
  },
  "language_info": {
   "codemirror_mode": {
    "name": "ipython",
    "version": 3
   },
   "file_extension": ".py",
   "mimetype": "text/x-python",
   "name": "python",
   "nbconvert_exporter": "python",
   "pygments_lexer": "ipython3",
   "version": "3.7.5"
  }
 },
 "nbformat": 4,
 "nbformat_minor": 4
}
