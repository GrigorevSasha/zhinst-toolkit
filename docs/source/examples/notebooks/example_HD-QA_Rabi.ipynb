{
 "cells": [
  {
   "cell_type": "code",
   "execution_count": 1,
   "metadata": {},
   "outputs": [],
   "source": [
    "import numpy as np\n",
    "import time\n",
    "import matplotlib.pyplot as plt\n",
    "\n",
    "import zhinst.toolkit as tk"
   ]
  },
  {
   "cell_type": "code",
   "execution_count": null,
   "metadata": {},
   "outputs": [],
   "source": []
  },
  {
   "cell_type": "code",
   "execution_count": 2,
   "metadata": {},
   "outputs": [
    {
     "name": "stdout",
     "output_type": "stream",
     "text": [
      "Successfully connected to data server at localhost8004 api version: 6\n"
     ]
    }
   ],
   "source": [
    "mdc = tk.MultiDeviceConnection()\n",
    "mdc.setup()"
   ]
  },
  {
   "cell_type": "code",
   "execution_count": 3,
   "metadata": {},
   "outputs": [],
   "source": [
    "hd = tk.HDAWG(\"hd\", \"dev8030\", interface=\"1GbE\")\n",
    "qa = tk.UHFQA(\"qa\", \"dev2266\", interface=\"1GbE\")"
   ]
  },
  {
   "cell_type": "code",
   "execution_count": 4,
   "metadata": {},
   "outputs": [
    {
     "name": "stdout",
     "output_type": "stream",
     "text": [
      "Successfully connected to device DEV8030 on interface 1GBE\n",
      "Successfully connected to device DEV2266 on interface 1GBE\n"
     ]
    }
   ],
   "source": [
    "mdc.connect_device(hd)\n",
    "mdc.connect_device(qa)"
   ]
  },
  {
   "cell_type": "code",
   "execution_count": null,
   "metadata": {},
   "outputs": [],
   "source": []
  },
  {
   "cell_type": "markdown",
   "metadata": {},
   "source": [
    "# Rabi: vary pulse amplitude\n",
    "\n",
    "Use HDAWG awg 1 to send qubit drive pulse and trigger UHFQA Readout."
   ]
  },
  {
   "cell_type": "code",
   "execution_count": 5,
   "metadata": {},
   "outputs": [],
   "source": [
    "averages = 2**3\n",
    "period = 100e-6\n",
    "\n",
    "drive_freq = 78.54e6\n",
    "rabi_amplitudes = np.linspace(0.1, 1.0, 100)\n",
    "\n",
    "int_time = 2e-6"
   ]
  },
  {
   "cell_type": "code",
   "execution_count": null,
   "metadata": {},
   "outputs": [],
   "source": []
  },
  {
   "cell_type": "code",
   "execution_count": 6,
   "metadata": {},
   "outputs": [
    {
     "name": "stdout",
     "output_type": "stream",
     "text": [
      "Compilation successful\n",
      "hd-0: Sequencer status: ELF file uploaded\n"
     ]
    }
   ],
   "source": [
    "# enable IQ modulation of HDAWG\n",
    "hd.awgs[0].enable_iq_modulation()\n",
    "hd.awgs[0].modulation_freq(drive_freq)\n",
    "hd.awgs[0].gain1(1)\n",
    "hd.awgs[0].gain2(0.1)\n",
    "# hd.nodetree.system.awg.oscillatorcontrol(1)\n",
    "\n",
    "# prepare sequence on HDAWG\n",
    "hd.awgs[0].set_sequence_params(\n",
    "    sequence_type=\"Rabi\",\n",
    "    repetitions=averages,\n",
    "    period=period,\n",
    "    alignment=\"Start with Trigger\",\n",
    "    trigger_mode=\"Send Trigger\",\n",
    "    pulse_width=20e-9,\n",
    "    pulse_truncation=4,\n",
    ")\n",
    "\n",
    "# set parameter 'pulse_amplitudes' for hardware-looped Rabi\n",
    "hd.awgs[0].set_sequence_params(pulse_amplitudes=rabi_amplitudes)\n",
    "\n",
    "hd.awgs[0].compile()"
   ]
  },
  {
   "cell_type": "code",
   "execution_count": null,
   "metadata": {},
   "outputs": [],
   "source": []
  },
  {
   "cell_type": "code",
   "execution_count": 7,
   "metadata": {},
   "outputs": [
    {
     "data": {
      "text/plain": [
       "hd: <zhinst.toolkit.hdawg.AWG object at 0x00000185FD31B390>\n",
       "    parent  : <zhinst.toolkit.hdawg.HDAWG object at 0x00000185FD31B208>\n",
       "    index   : 0\n",
       "    sequence: \n",
       "           type: Rabi\n",
       "            ('target', 'hdawg')\n",
       "            ('clock_rate', 2400000000.0)\n",
       "            ('period', 0.0001)\n",
       "            ('trigger_mode', 'Send Trigger')\n",
       "            ('repetitions', 8)\n",
       "            ('alignment', 'Start with Trigger')\n",
       "            ('n_HW_loop', 100)\n",
       "            ('dead_time', 5e-06)\n",
       "            ('trigger_delay', 0)\n",
       "            ('latency', 1.6e-07)\n",
       "            ('trigger_cmd_1', 'setTrigger(1);\\n')\n",
       "            ('trigger_cmd_2', 'setTrigger(0);\\n')\n",
       "            ('wait_cycles', 28500)\n",
       "            ('dead_cycles', 1452.0)\n",
       "            ('reset_phase', True)\n",
       "            ('pulse_amplitudes', array([0.1       , 0.10909091, 0.11818182, 0.12727273, 0.13636364,\n",
       "       0.14545455, 0.15454545, 0.16363636, 0.17272727, 0.18181818,\n",
       "       0.19090909, 0.2       , 0.20909091, 0.21818182, 0.22727273,\n",
       "       0.23636364, 0.24545455, 0.25454545, 0.26363636, 0.27272727,\n",
       "       0.28181818, 0.29090909, 0.3       , 0.30909091, 0.31818182,\n",
       "       0.32727273, 0.33636364, 0.34545455, 0.35454545, 0.36363636,\n",
       "       0.37272727, 0.38181818, 0.39090909, 0.4       , 0.40909091,\n",
       "       0.41818182, 0.42727273, 0.43636364, 0.44545455, 0.45454545,\n",
       "       0.46363636, 0.47272727, 0.48181818, 0.49090909, 0.5       ,\n",
       "       0.50909091, 0.51818182, 0.52727273, 0.53636364, 0.54545455,\n",
       "       0.55454545, 0.56363636, 0.57272727, 0.58181818, 0.59090909,\n",
       "       0.6       , 0.60909091, 0.61818182, 0.62727273, 0.63636364,\n",
       "       0.64545455, 0.65454545, 0.66363636, 0.67272727, 0.68181818,\n",
       "       0.69090909, 0.7       , 0.70909091, 0.71818182, 0.72727273,\n",
       "       0.73636364, 0.74545455, 0.75454545, 0.76363636, 0.77272727,\n",
       "       0.78181818, 0.79090909, 0.8       , 0.80909091, 0.81818182,\n",
       "       0.82727273, 0.83636364, 0.84545455, 0.85454545, 0.86363636,\n",
       "       0.87272727, 0.88181818, 0.89090909, 0.9       , 0.90909091,\n",
       "       0.91818182, 0.92727273, 0.93636364, 0.94545455, 0.95454545,\n",
       "       0.96363636, 0.97272727, 0.98181818, 0.99090909, 1.        ]))\n",
       "            ('pulse_width', 2e-08)\n",
       "            ('pulse_truncation', 4)\n",
       "      IQ Modulation ENABLED:\n",
       "         frequency   : 78539999.99999814\n",
       "         phase_shift : 90.0\n",
       "         gains       : 1.0, 0.10000000149011612"
      ]
     },
     "execution_count": 7,
     "metadata": {},
     "output_type": "execute_result"
    }
   ],
   "source": [
    "hd.awgs[0]"
   ]
  },
  {
   "cell_type": "code",
   "execution_count": 8,
   "metadata": {},
   "outputs": [
    {
     "name": "stdout",
     "output_type": "stream",
     "text": [
      "Compilation successful\n",
      "qa-0: Sequencer status: ELF file uploaded\n"
     ]
    }
   ],
   "source": [
    "qa.awg.set_sequence_params(\n",
    "    sequence_type=\"Readout\",\n",
    "    repetitions=averages * len(rabi_amplitudes),\n",
    "    period=period,\n",
    "    alignment=\"Start with Trigger\",\n",
    "    trigger_mode=\"External Trigger\",\n",
    "    readout_length=int_time,\n",
    "    trigger_delay=-30e-9,\n",
    ")\n",
    "\n",
    "# prepare readout channel on UHFQA\n",
    "qa.integration_time(int_time)\n",
    "qa.channels[0].enable()\n",
    "qa.channels[0].readout_frequency(drive_freq)\n",
    "qa.channels[0].rotation(0)\n",
    "\n",
    "qa.awg.compile()"
   ]
  },
  {
   "cell_type": "code",
   "execution_count": null,
   "metadata": {},
   "outputs": [],
   "source": []
  },
  {
   "cell_type": "code",
   "execution_count": null,
   "metadata": {},
   "outputs": [],
   "source": []
  },
  {
   "cell_type": "code",
   "execution_count": null,
   "metadata": {},
   "outputs": [],
   "source": []
  },
  {
   "cell_type": "code",
   "execution_count": null,
   "metadata": {},
   "outputs": [],
   "source": []
  },
  {
   "cell_type": "code",
   "execution_count": null,
   "metadata": {},
   "outputs": [],
   "source": []
  },
  {
   "cell_type": "code",
   "execution_count": 9,
   "metadata": {},
   "outputs": [],
   "source": [
    "hd.awgs[0].outputs(\"on\")\n",
    "qa.awg.outputs(\"off\")"
   ]
  },
  {
   "cell_type": "code",
   "execution_count": 10,
   "metadata": {},
   "outputs": [
    {
     "data": {
      "text/plain": [
       "1"
      ]
     },
     "execution_count": 10,
     "metadata": {},
     "output_type": "execute_result"
    }
   ],
   "source": [
    "# configure result acquisition\n",
    "\n",
    "qa.result_source(\"integration\")\n",
    "qa.nodetree.qa.result.length(len(rabi_amplitudes)*averages)\n",
    "qa.nodetree.qa.result.averages(1)\n",
    "qa.nodetree.qa.result.enable(1)\n",
    "qa.nodetree.qa.result.reset(0)\n",
    "qa.nodetree.qa.result.reset(1)"
   ]
  },
  {
   "cell_type": "code",
   "execution_count": 13,
   "metadata": {
    "scrolled": true
   },
   "outputs": [
    {
     "name": "stdout",
     "output_type": "stream",
     "text": [
      "0.36176490783691406\n"
     ]
    }
   ],
   "source": [
    "# acquire data only at the end of the measurement\n",
    "tik = time.time()\n",
    "\n",
    "qa.awg.run()\n",
    "time.sleep(0.1)\n",
    "hd.awgs[0].run()\n",
    "hd.awgs[0].wait_done(timeout=100)\n",
    "    \n",
    "res = qa.channels[0].result()\n",
    "\n",
    "print(time.time() - tik)"
   ]
  },
  {
   "cell_type": "code",
   "execution_count": 14,
   "metadata": {},
   "outputs": [
    {
     "data": {
      "text/plain": [
       "[<matplotlib.lines.Line2D at 0x185804f6278>]"
      ]
     },
     "execution_count": 14,
     "metadata": {},
     "output_type": "execute_result"
    },
    {
     "data": {
      "image/png": "[encoded data removed]",
      "text/plain": [
       "<Figure size 432x288 with 1 Axes>"
      ]
     },
     "metadata": {
      "needs_background": "light"
     },
     "output_type": "display_data"
    }
   ],
   "source": [
    "plt.plot(np.real(res))"
   ]
  },
  {
   "cell_type": "code",
   "execution_count": 15,
   "metadata": {},
   "outputs": [
    {
     "data": {
      "image/png": "[encoded data removed]",
      "text/plain": [
       "<Figure size 432x288 with 1 Axes>"
      ]
     },
     "metadata": {
      "needs_background": "light"
     },
     "output_type": "display_data"
    }
   ],
   "source": [
    "reshaped = np.real(res.reshape(averages, len(rabi_amplitudes)))\n",
    "averaged = np.mean(reshaped, axis=0)\n",
    "\n",
    "plt.plot(rabi_amplitudes, averaged)\n",
    "plt.show()"
   ]
  },
  {
   "cell_type": "code",
   "execution_count": 16,
   "metadata": {},
   "outputs": [
    {
     "data": {
      "image/png": "[encoded data removed]",
      "text/plain": [
       "<Figure size 432x288 with 1 Axes>"
      ]
     },
     "metadata": {
      "needs_background": "light"
     },
     "output_type": "display_data"
    }
   ],
   "source": [
    "reshaped = np.imag(res.reshape(averages, len(rabi_amplitudes)))\n",
    "averaged = np.mean(reshaped, axis=0)\n",
    "\n",
    "plt.plot(rabi_amplitudes, averaged)\n",
    "plt.show()"
   ]
  },
  {
   "cell_type": "code",
   "execution_count": null,
   "metadata": {},
   "outputs": [],
   "source": []
  },
  {
   "cell_type": "markdown",
   "metadata": {},
   "source": [
    "## Rabi: time-domain"
   ]
  },
  {
   "cell_type": "code",
   "execution_count": 20,
   "metadata": {},
   "outputs": [],
   "source": [
    "averages = 2**3\n",
    "period = 100e-6\n",
    "\n",
    "drive_freq = 78.54e6\n",
    "rabi_widths = np.linspace(0, 500e-9, 51)\n",
    "\n",
    "int_time = 2e-6"
   ]
  },
  {
   "cell_type": "code",
   "execution_count": 36,
   "metadata": {},
   "outputs": [],
   "source": [
    "# enable IQ modulation of HDAWG\n",
    "hd.awgs[0].enable_iq_modulation()\n",
    "hd.awgs[0].modulation_freq(drive_freq)\n",
    "hd.awgs[0].gain1(1)\n",
    "hd.awgs[0].gain2(0.1)\n",
    "# hd.nodetree.system.awg.oscillatorcontrol(1)\n",
    "\n",
    "# prepare sequence on HDAWG\n",
    "hd.awgs[0].set_sequence_params(\n",
    "    sequence_type=\"Simple\",\n",
    "    repetitions=averages,\n",
    "    period=period,\n",
    "    alignment=\"Start with Trigger\",\n",
    "    trigger_mode=\"Send Trigger\",\n",
    ")\n",
    "\n"
   ]
  },
  {
   "cell_type": "code",
   "execution_count": 37,
   "metadata": {},
   "outputs": [],
   "source": [
    "def flat_top_gauss(flat_top, sigma, truncation=3, clk=2.4e9):\n",
    "    flat_top = int(flat_top*clk)\n",
    "    sigma = int(sigma*clk)\n",
    "    x = np.arange(0, truncation*sigma, 1)\n",
    "    gauss_fall = np.exp(-x**2/sigma**2)\n",
    "    gauss_rise = np.flip(gauss_fall)\n",
    "    flat = np.ones(flat_top)\n",
    "    gauss = np.hstack((gauss_rise, flat))\n",
    "    gauss = np.hstack((gauss, gauss_fall))\n",
    "    return gauss"
   ]
  },
  {
   "cell_type": "code",
   "execution_count": 38,
   "metadata": {},
   "outputs": [
    {
     "data": {
      "image/png": "[encoded data removed]",
      "text/plain": [
       "<Figure size 432x288 with 1 Axes>"
      ]
     },
     "metadata": {
      "needs_background": "light"
     },
     "output_type": "display_data"
    }
   ],
   "source": [
    "top = 200e-9\n",
    "sigma = 20e-9\n",
    "plt.plot(flat_top_gauss(top, sigma, truncation=3))\n",
    "plt.show()"
   ]
  },
  {
   "cell_type": "code",
   "execution_count": 39,
   "metadata": {},
   "outputs": [
    {
     "name": "stdout",
     "output_type": "stream",
     "text": [
      "Current length of queue: 1\n",
      "Current length of queue: 2\n",
      "Current length of queue: 3\n",
      "Current length of queue: 4\n",
      "Current length of queue: 5\n",
      "Current length of queue: 6\n",
      "Current length of queue: 7\n",
      "Current length of queue: 8\n",
      "Current length of queue: 9\n",
      "Current length of queue: 10\n",
      "Current length of queue: 11\n",
      "Current length of queue: 12\n",
      "Current length of queue: 13\n",
      "Current length of queue: 14\n",
      "Current length of queue: 15\n",
      "Current length of queue: 16\n",
      "Current length of queue: 17\n",
      "Current length of queue: 18\n",
      "Current length of queue: 19\n",
      "Current length of queue: 20\n",
      "Current length of queue: 21\n",
      "Current length of queue: 22\n",
      "Current length of queue: 23\n",
      "Current length of queue: 24\n",
      "Current length of queue: 25\n",
      "Current length of queue: 26\n",
      "Current length of queue: 27\n",
      "Current length of queue: 28\n",
      "Current length of queue: 29\n",
      "Current length of queue: 30\n",
      "Current length of queue: 31\n",
      "Current length of queue: 32\n",
      "Current length of queue: 33\n",
      "Current length of queue: 34\n",
      "Current length of queue: 35\n",
      "Current length of queue: 36\n",
      "Current length of queue: 37\n",
      "Current length of queue: 38\n",
      "Current length of queue: 39\n",
      "Current length of queue: 40\n",
      "Current length of queue: 41\n",
      "Current length of queue: 42\n",
      "Current length of queue: 43\n",
      "Current length of queue: 44\n",
      "Current length of queue: 45\n",
      "Current length of queue: 46\n",
      "Current length of queue: 47\n",
      "Current length of queue: 48\n",
      "Current length of queue: 49\n",
      "Current length of queue: 50\n",
      "Current length of queue: 51\n",
      "Compilation successful\n",
      "hd-0: Sequencer status: ELF file uploaded\n",
      "Upload of 51 waveforms took 0.029942 s\n"
     ]
    }
   ],
   "source": [
    "hd.awgs[0].reset_queue()\n",
    "for top in rabi_widths:\n",
    "    wave = flat_top_gauss(top, sigma)\n",
    "    hd.awgs[0].queue_waveform(wave, [])\n",
    "hd.awgs[0].compile_and_upload_waveforms()"
   ]
  },
  {
   "cell_type": "code",
   "execution_count": 40,
   "metadata": {},
   "outputs": [
    {
     "name": "stdout",
     "output_type": "stream",
     "text": [
      "Compilation successful\n",
      "qa-0: Sequencer status: ELF file uploaded\n"
     ]
    }
   ],
   "source": [
    "qa.awg.set_sequence_params(\n",
    "    sequence_type=\"Readout\",\n",
    "    repetitions=averages * len(rabi_widths),\n",
    "    period=period,\n",
    "    alignment=\"Start with Trigger\",\n",
    "    trigger_mode=\"External Trigger\",\n",
    "    readout_length=int_time,\n",
    "    trigger_delay=-30e-9,\n",
    ")\n",
    "\n",
    "# prepare readout channel on UHFQA\n",
    "qa.integration_time(int_time)\n",
    "qa.channels[0].enable()\n",
    "qa.channels[0].readout_frequency(drive_freq)\n",
    "qa.channels[0].rotation(0)\n",
    "\n",
    "qa.awg.compile()"
   ]
  },
  {
   "cell_type": "code",
   "execution_count": 41,
   "metadata": {},
   "outputs": [],
   "source": [
    "hd.awgs[0].outputs(\"on\")\n",
    "qa.awg.outputs(\"off\")"
   ]
  },
  {
   "cell_type": "code",
   "execution_count": 42,
   "metadata": {},
   "outputs": [
    {
     "data": {
      "text/plain": [
       "1"
      ]
     },
     "execution_count": 42,
     "metadata": {},
     "output_type": "execute_result"
    }
   ],
   "source": [
    "# configure result acquisition\n",
    "\n",
    "qa.result_source(\"integration\")\n",
    "qa.nodetree.qa.result.length(len(rabi_widths)*averages)\n",
    "qa.nodetree.qa.result.averages(1)\n",
    "qa.nodetree.qa.result.enable(1)\n",
    "qa.nodetree.qa.result.reset(0)\n",
    "qa.nodetree.qa.result.reset(1)"
   ]
  },
  {
   "cell_type": "code",
   "execution_count": 43,
   "metadata": {},
   "outputs": [
    {
     "name": "stdout",
     "output_type": "stream",
     "text": [
      "0.532059907913208\n"
     ]
    }
   ],
   "source": [
    "# acquire data only at the end of the measurement\n",
    "tik = time.time()\n",
    "\n",
    "qa.awg.run()\n",
    "time.sleep(0.1)\n",
    "hd.awgs[0].run()\n",
    "hd.awgs[0].wait_done(timeout=100)\n",
    "    \n",
    "res = qa.channels[0].result()\n",
    "\n",
    "print(time.time() - tik)"
   ]
  },
  {
   "cell_type": "code",
   "execution_count": 44,
   "metadata": {},
   "outputs": [
    {
     "data": {
      "text/plain": [
       "[<matplotlib.lines.Line2D at 0x2b71c34cc18>]"
      ]
     },
     "execution_count": 44,
     "metadata": {},
     "output_type": "execute_result"
    },
    {
     "data": {
      "image/png": "[encoded data removed]",
      "text/plain": [
       "<Figure size 432x288 with 1 Axes>"
      ]
     },
     "metadata": {
      "needs_background": "light"
     },
     "output_type": "display_data"
    }
   ],
   "source": [
    "plt.plot(np.real(res))"
   ]
  },
  {
   "cell_type": "code",
   "execution_count": 45,
   "metadata": {},
   "outputs": [
    {
     "data": {
      "image/png": "[encoded data removed]",
      "text/plain": [
       "<Figure size 432x288 with 1 Axes>"
      ]
     },
     "metadata": {
      "needs_background": "light"
     },
     "output_type": "display_data"
    }
   ],
   "source": [
    "reshaped = np.real(res.reshape(averages, len(rabi_widths)))\n",
    "averaged = np.mean(reshaped, axis=0)\n",
    "\n",
    "plt.plot(rabi_widths, averaged)\n",
    "plt.show()"
   ]
  },
  {
   "cell_type": "code",
   "execution_count": null,
   "metadata": {},
   "outputs": [],
   "source": []
  }
 ],
 "metadata": {
  "kernelspec": {
   "display_name": "Python 3",
   "language": "python",
   "name": "python3"
  },
  "language_info": {
   "codemirror_mode": {
    "name": "ipython",
    "version": 3
   },
   "file_extension": ".py",
   "mimetype": "text/x-python",
   "name": "python",
   "nbconvert_exporter": "python",
   "pygments_lexer": "ipython3",
   "version": "3.6.9"
  }
 },
 "nbformat": 4,
 "nbformat_minor": 4
}
