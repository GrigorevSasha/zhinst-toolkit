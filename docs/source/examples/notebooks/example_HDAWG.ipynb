{
 "cells": [
  {
   "cell_type": "code",
   "execution_count": 1,
   "metadata": {},
   "outputs": [],
   "source": [
    "import numpy as np\n",
    "import time\n",
    "\n",
    "import zhinst.toolkit as tk"
   ]
  },
  {
   "cell_type": "markdown",
   "metadata": {},
   "source": [
    "# Initialize HDAWG"
   ]
  },
  {
   "cell_type": "code",
   "execution_count": 2,
   "metadata": {},
   "outputs": [
    {
     "name": "stdout",
     "output_type": "stream",
     "text": [
      "Successfully connected to data server at localhost8004 api version: 6\n",
      "Successfully connected to device DEV8030 on interface 1GBE\n",
      "Settings init settings!!\n"
     ]
    }
   ],
   "source": [
    "hd = tk.HDAWG(\"hd1\", \"dev8030\", interface=\"1gbe\")\n",
    "hd.setup() # set up data server connection\n",
    "hd.connect_device() # connect device to data server"
   ]
  },
  {
   "cell_type": "code",
   "execution_count": 3,
   "metadata": {
    "scrolled": true
   },
   "outputs": [
    {
     "name": "stdout",
     "output_type": "stream",
     "text": [
      "Help on HDAWG in module zhinst.toolkit.hdawg object:\n",
      "\n",
      "class HDAWG(zhinst.toolkit.base.BaseInstrument)\n",
      " |  High-level controller for HDAWG. Inherits from BaseInstrument and defines \n",
      " |  device specific methods. The property awg_connection accesses the \n",
      " |  connection's awg module and is used in the AWG core as \n",
      " |  awg._parent._awg_module. \n",
      " |  \n",
      " |  The device has four awg cores that can be used as\n",
      " |  \n",
      " |      import zhinst.toolkit as tk\n",
      " |      hd = tk.HDAWG(\"hd\", \"dev2916\")\n",
      " |      hd.setup()\n",
      " |      hd.connect_device()\n",
      " |      \n",
      " |      hd.awgs[0].run()\n",
      " |      ...\n",
      " |  \n",
      " |  Method resolution order:\n",
      " |      HDAWG\n",
      " |      zhinst.toolkit.base.BaseInstrument\n",
      " |      builtins.object\n",
      " |  \n",
      " |  Methods defined here:\n",
      " |  \n",
      " |  __init__(self, name, serial, **kwargs)\n",
      " |      Initialize self.  See help(type(self)) for accurate signature.\n",
      " |  \n",
      " |  set_modulation_frequencies(self, frequencies)\n",
      " |  \n",
      " |  set_modulation_gains(self, gains)\n",
      " |  \n",
      " |  set_modulation_phases(self, phases)\n",
      " |  \n",
      " |  set_outputs(self, values)\n",
      " |  \n",
      " |  ----------------------------------------------------------------------\n",
      " |  Data descriptors defined here:\n",
      " |  \n",
      " |  awgs\n",
      " |  \n",
      " |  ----------------------------------------------------------------------\n",
      " |  Methods inherited from zhinst.toolkit.base.BaseInstrument:\n",
      " |  \n",
      " |  connect_device(self, nodetree=True)\n",
      " |      Connects the device to the data server, initializes the nodetree and \n",
      " |      performs initial device settings.\n",
      " |      \n",
      " |      Args:\n",
      " |          nodetree (bool): If True the nodetree object will be initialized \n",
      " |              after connecting the device, otherwise not. Defaults to True.\n",
      " |  \n",
      " |  setup(self, connection:zhinst.toolkit.tools.connection.ZIConnection=None)\n",
      " |      Sets up the data server connection. The details of the connection \n",
      " |      (host, port, api_level) can be specified as keyword arguments in the \n",
      " |      __init__() method.\n",
      " |      Alternatively the user can pass an existing ZIConnection to the data \n",
      " |      server to be used for the instrument.\n",
      " |      \n",
      " |      Args:\n",
      " |          connection (ZIConnection): defaults to None\n",
      " |  \n",
      " |  ----------------------------------------------------------------------\n",
      " |  Data descriptors inherited from zhinst.toolkit.base.BaseInstrument:\n",
      " |  \n",
      " |  __dict__\n",
      " |      dictionary for instance variables (if defined)\n",
      " |  \n",
      " |  __weakref__\n",
      " |      list of weak references to the object (if defined)\n",
      " |  \n",
      " |  device_type\n",
      " |  \n",
      " |  interface\n",
      " |  \n",
      " |  is_connected\n",
      " |  \n",
      " |  name\n",
      " |  \n",
      " |  nodetree\n",
      " |  \n",
      " |  serial\n",
      "\n"
     ]
    }
   ],
   "source": [
    "help(hd)"
   ]
  },
  {
   "cell_type": "code",
   "execution_count": 4,
   "metadata": {},
   "outputs": [
    {
     "name": "stdout",
     "output_type": "stream",
     "text": [
      "name: hd1\n",
      "serial: dev8030\n",
      "type: hdawg\n",
      "interface: 1gbe\n",
      "connected: True\n"
     ]
    }
   ],
   "source": [
    "# properties of HDAWG\n",
    "print(f\"name: {hd.name}\")\n",
    "print(f\"serial: {hd.serial}\")\n",
    "print(f\"type: {hd.device_type}\")\n",
    "print(f\"interface: {hd.interface}\")\n",
    "print(f\"connected: {hd.is_connected}\")"
   ]
  },
  {
   "cell_type": "markdown",
   "metadata": {},
   "source": [
    " ## Access the device's nodetree  "
   ]
  },
  {
   "cell_type": "code",
   "execution_count": 5,
   "metadata": {},
   "outputs": [
    {
     "data": {
      "text/plain": [
       "<zhinst.toolkit.tools.nodetree.Nodetree object at 0x0000021E467D3BA8>\n",
       "nodes:\n",
       " - stats\n",
       " - oscs\n",
       " - status\n",
       " - sines\n",
       " - awgs\n",
       " - dio\n",
       " - system\n",
       " - sigouts\n",
       " - triggers\n",
       " - features\n",
       " - cnts\n",
       "parameters:\n",
       " - clockbase"
      ]
     },
     "execution_count": 5,
     "metadata": {},
     "output_type": "execute_result"
    }
   ],
   "source": [
    "hd.nodetree"
   ]
  },
  {
   "cell_type": "code",
   "execution_count": 6,
   "metadata": {
    "scrolled": true
   },
   "outputs": [
    {
     "data": {
      "text/plain": [
       "Iterable node with 8 items: \n",
       "\n",
       "Node 1:\n",
       "<zhinst.toolkit.tools.nodetree.Node object at 0x0000021E49397470>\n",
       "nodes:\n",
       " - precompensation\n",
       "parameters:\n",
       " - on\n",
       " - range\n",
       " - direct\n",
       " - over\n",
       " - offset\n",
       " - filter\n",
       " - delay\n",
       " - min\n",
       " - max\n",
       " - busy\n",
       "\n",
       "\n",
       "Node 2:\n",
       "<zhinst.toolkit.tools.nodetree.Node object at 0x0000021E4939B4A8>\n",
       "nodes:\n",
       " - precompensation\n",
       "parameters:\n",
       " - on\n",
       " - range\n",
       " - direct\n",
       " - over\n",
       " - offset\n",
       " - filter\n",
       " - delay\n",
       " - min\n",
       " - max\n",
       " - busy\n",
       "\n",
       "\n",
       "Node 3:\n",
       "<zhinst.toolkit.tools.nodetree.Node object at 0x0000021E493A1470>\n",
       "nodes:\n",
       " - precompensation\n",
       "parameters:\n",
       " - on\n",
       " - range\n",
       " - direct\n",
       " - over\n",
       " - offset\n",
       " - filter\n",
       " - delay\n",
       " - min\n",
       " - max\n",
       " - busy\n",
       "\n",
       "\n",
       "Node 4:\n",
       "<zhinst.toolkit.tools.nodetree.Node object at 0x0000021E493A4438>\n",
       "nodes:\n",
       " - precompensation\n",
       "parameters:\n",
       " - on\n",
       " - range\n",
       " - direct\n",
       " - over\n",
       " - offset\n",
       " - filter\n",
       " - delay\n",
       " - min\n",
       " - max\n",
       " - busy\n",
       "\n",
       "\n",
       "Node 5:\n",
       "<zhinst.toolkit.tools.nodetree.Node object at 0x0000021E493A8400>\n",
       "nodes:\n",
       " - precompensation\n",
       "parameters:\n",
       " - on\n",
       " - range\n",
       " - direct\n",
       " - over\n",
       " - offset\n",
       " - filter\n",
       " - delay\n",
       " - min\n",
       " - max\n",
       " - busy\n",
       "\n",
       "\n",
       "Node 6:\n",
       "<zhinst.toolkit.tools.nodetree.Node object at 0x0000021E493AD3C8>\n",
       "nodes:\n",
       " - precompensation\n",
       "parameters:\n",
       " - on\n",
       " - range\n",
       " - direct\n",
       " - over\n",
       " - offset\n",
       " - filter\n",
       " - delay\n",
       " - min\n",
       " - max\n",
       " - busy\n",
       "\n",
       "\n",
       "Node 7:\n",
       "<zhinst.toolkit.tools.nodetree.Node object at 0x0000021E493B2390>\n",
       "nodes:\n",
       " - precompensation\n",
       "parameters:\n",
       " - on\n",
       " - range\n",
       " - direct\n",
       " - over\n",
       " - offset\n",
       " - filter\n",
       " - delay\n",
       " - min\n",
       " - max\n",
       " - busy\n",
       "\n",
       "\n",
       "Node 8:\n",
       "<zhinst.toolkit.tools.nodetree.Node object at 0x0000021E493B6358>\n",
       "nodes:\n",
       " - precompensation\n",
       "parameters:\n",
       " - on\n",
       " - range\n",
       " - direct\n",
       " - over\n",
       " - offset\n",
       " - filter\n",
       " - delay\n",
       " - min\n",
       " - max\n",
       " - busy\n"
      ]
     },
     "execution_count": 6,
     "metadata": {},
     "output_type": "execute_result"
    }
   ],
   "source": [
    "# navigate through nodetree\n",
    "hd.nodetree.sigouts"
   ]
  },
  {
   "cell_type": "code",
   "execution_count": 7,
   "metadata": {},
   "outputs": [
    {
     "data": {
      "text/plain": [
       "Node: /DEV8030/OSCS/0/FREQ\n",
       "Description: Frequency control for each oscillator.\n",
       "Type: Double\n",
       "Properties: Read, Write, Setting\n",
       "Unit: Hz\n",
       "Value: None"
      ]
     },
     "execution_count": 7,
     "metadata": {},
     "output_type": "execute_result"
    }
   ],
   "source": [
    "# see the description of a parameter\n",
    "hd.nodetree.oscs[0].freq"
   ]
  },
  {
   "cell_type": "code",
   "execution_count": 8,
   "metadata": {},
   "outputs": [
    {
     "data": {
      "text/plain": [
       "19999999.999998864"
      ]
     },
     "execution_count": 8,
     "metadata": {},
     "output_type": "execute_result"
    }
   ],
   "source": [
    "# get parameter value\n",
    "hd.nodetree.oscs[0].freq()"
   ]
  },
  {
   "cell_type": "code",
   "execution_count": 9,
   "metadata": {},
   "outputs": [
    {
     "data": {
      "text/plain": [
       "100000000.0"
      ]
     },
     "execution_count": 9,
     "metadata": {},
     "output_type": "execute_result"
    }
   ],
   "source": [
    "hd.nodetree.oscs[0].freq(100e6)"
   ]
  },
  {
   "cell_type": "markdown",
   "metadata": {},
   "source": [
    "## Control the AWG cores "
   ]
  },
  {
   "cell_type": "code",
   "execution_count": 10,
   "metadata": {
    "scrolled": true
   },
   "outputs": [
    {
     "data": {
      "text/plain": [
       "[hd1: <zhinst.toolkit.hdawg.AWG object at 0x0000021E467D3320>\n",
       "     parent  : <zhinst.toolkit.hdawg.HDAWG object at 0x0000021E467D3198>\n",
       "     index   : 0\n",
       "     sequence: \n",
       "            type: None\n",
       "             ('target', 'hdawg')\n",
       "             ('clock_rate', 2400000000.0)\n",
       "             ('period', 0.0001)\n",
       "             ('trigger_mode', 'None')\n",
       "             ('repetitions', 1)\n",
       "             ('alignment', 'End with Trigger')\n",
       "             ('n_HW_loop', 1)\n",
       "             ('dead_time', 5e-06)\n",
       "             ('trigger_delay', 0)\n",
       "             ('latency', 1.6e-07)\n",
       "             ('trigger_cmd_1', '//')\n",
       "             ('trigger_cmd_2', '//')\n",
       "             ('wait_cycles', 0)\n",
       "             ('dead_cycles', 0)\n",
       "       IQ Modulation DISABLED,\n",
       " hd1: <zhinst.toolkit.hdawg.AWG object at 0x0000021E467D3518>\n",
       "     parent  : <zhinst.toolkit.hdawg.HDAWG object at 0x0000021E467D3198>\n",
       "     index   : 1\n",
       "     sequence: \n",
       "            type: None\n",
       "             ('target', 'hdawg')\n",
       "             ('clock_rate', 2400000000.0)\n",
       "             ('period', 0.0001)\n",
       "             ('trigger_mode', 'None')\n",
       "             ('repetitions', 1)\n",
       "             ('alignment', 'End with Trigger')\n",
       "             ('n_HW_loop', 1)\n",
       "             ('dead_time', 5e-06)\n",
       "             ('trigger_delay', 0)\n",
       "             ('latency', 1.6e-07)\n",
       "             ('trigger_cmd_1', '//')\n",
       "             ('trigger_cmd_2', '//')\n",
       "             ('wait_cycles', 0)\n",
       "             ('dead_cycles', 0)\n",
       "       IQ Modulation DISABLED,\n",
       " hd1: <zhinst.toolkit.hdawg.AWG object at 0x0000021E467D3710>\n",
       "     parent  : <zhinst.toolkit.hdawg.HDAWG object at 0x0000021E467D3198>\n",
       "     index   : 2\n",
       "     sequence: \n",
       "            type: None\n",
       "             ('target', 'hdawg')\n",
       "             ('clock_rate', 2400000000.0)\n",
       "             ('period', 0.0001)\n",
       "             ('trigger_mode', 'None')\n",
       "             ('repetitions', 1)\n",
       "             ('alignment', 'End with Trigger')\n",
       "             ('n_HW_loop', 1)\n",
       "             ('dead_time', 5e-06)\n",
       "             ('trigger_delay', 0)\n",
       "             ('latency', 1.6e-07)\n",
       "             ('trigger_cmd_1', '//')\n",
       "             ('trigger_cmd_2', '//')\n",
       "             ('wait_cycles', 0)\n",
       "             ('dead_cycles', 0)\n",
       "       IQ Modulation DISABLED,\n",
       " hd1: <zhinst.toolkit.hdawg.AWG object at 0x0000021E467D3908>\n",
       "     parent  : <zhinst.toolkit.hdawg.HDAWG object at 0x0000021E467D3198>\n",
       "     index   : 3\n",
       "     sequence: \n",
       "            type: None\n",
       "             ('target', 'hdawg')\n",
       "             ('clock_rate', 2400000000.0)\n",
       "             ('period', 0.0001)\n",
       "             ('trigger_mode', 'None')\n",
       "             ('repetitions', 1)\n",
       "             ('alignment', 'End with Trigger')\n",
       "             ('n_HW_loop', 1)\n",
       "             ('dead_time', 5e-06)\n",
       "             ('trigger_delay', 0)\n",
       "             ('latency', 1.6e-07)\n",
       "             ('trigger_cmd_1', '//')\n",
       "             ('trigger_cmd_2', '//')\n",
       "             ('wait_cycles', 0)\n",
       "             ('dead_cycles', 0)\n",
       "       IQ Modulation DISABLED]"
      ]
     },
     "execution_count": 10,
     "metadata": {},
     "output_type": "execute_result"
    }
   ],
   "source": [
    "# HDAWG has four awgs\n",
    "hd.awgs"
   ]
  },
  {
   "cell_type": "code",
   "execution_count": 11,
   "metadata": {
    "scrolled": true
   },
   "outputs": [
    {
     "name": "stdout",
     "output_type": "stream",
     "text": [
      "Help on AWG in module zhinst.toolkit.hdawg object:\n",
      "\n",
      "class AWG(zhinst.toolkit.awg_core.AWGCore)\n",
      " |  Device-specific AWG for HDAWG with properties like ouput, modulation frequency or gains and \n",
      " |  sequence specific settings for the HDAWG. Inherits from AWGCore.\n",
      " |  \n",
      " |  Method resolution order:\n",
      " |      AWG\n",
      " |      zhinst.toolkit.awg_core.AWGCore\n",
      " |      builtins.object\n",
      " |  \n",
      " |  Methods defined here:\n",
      " |  \n",
      " |  __init__(self, parent, index)\n",
      " |      Initialize self.  See help(type(self)) for accurate signature.\n",
      " |  \n",
      " |  __repr__(self)\n",
      " |      Return repr(self).\n",
      " |  \n",
      " |  disable_iq_modulation(self)\n",
      " |  \n",
      " |  enable_iq_modulation(self)\n",
      " |  \n",
      " |  outputs(self, value=None)\n",
      " |  \n",
      " |  ----------------------------------------------------------------------\n",
      " |  Methods inherited from zhinst.toolkit.awg_core.AWGCore:\n",
      " |  \n",
      " |  compile(self)\n",
      " |  \n",
      " |  compile_and_upload_waveforms(self)\n",
      " |  \n",
      " |  queue_waveform(self, wave1, wave2)\n",
      " |  \n",
      " |  replace_waveform(self, wave1, wave2, i=0)\n",
      " |  \n",
      " |  reset_queue(self)\n",
      " |  \n",
      " |  run(self)\n",
      " |  \n",
      " |  set_sequence_params(self, **kwargs)\n",
      " |  \n",
      " |  stop(self)\n",
      " |  \n",
      " |  upload_waveforms(self)\n",
      " |  \n",
      " |  ----------------------------------------------------------------------\n",
      " |  Data descriptors inherited from zhinst.toolkit.awg_core.AWGCore:\n",
      " |  \n",
      " |  __dict__\n",
      " |      dictionary for instance variables (if defined)\n",
      " |  \n",
      " |  __weakref__\n",
      " |      list of weak references to the object (if defined)\n",
      " |  \n",
      " |  is_running\n",
      " |  \n",
      " |  name\n",
      " |  \n",
      " |  sequence_params\n",
      " |  \n",
      " |  waveforms\n",
      "\n"
     ]
    }
   ],
   "source": [
    "help(hd.awgs[0])"
   ]
  },
  {
   "cell_type": "code",
   "execution_count": 12,
   "metadata": {},
   "outputs": [],
   "source": [
    "# different ways of turning outputs on or off\n",
    "for awg in hd.awgs:\n",
    "    awg.outputs(\"on\")\n",
    "    time.sleep(0.5)\n",
    "    awg.output1(\"off\")\n",
    "    time.sleep(0.5)\n",
    "    awg.output2(\"off\")\n",
    "    time.sleep(0.5)"
   ]
  },
  {
   "cell_type": "code",
   "execution_count": 13,
   "metadata": {},
   "outputs": [
    {
     "data": {
      "text/plain": [
       "Node: oscs/0/freq\n",
       "Description: Sets the modulation frequency of the AWG output channels.\n",
       "Type: Double\n",
       "Properties: Read, Write\n",
       "Unit: Hz\n",
       "Value: None"
      ]
     },
     "execution_count": 13,
     "metadata": {},
     "output_type": "execute_result"
    }
   ],
   "source": [
    "# also the AWGs have parameters\n",
    "hd.awgs[0].modulation_freq"
   ]
  },
  {
   "cell_type": "code",
   "execution_count": 14,
   "metadata": {},
   "outputs": [],
   "source": [
    "# enable IQ modulation, i.e. appling the neccessary settings\n",
    "hd.awgs[0].enable_iq_modulation()"
   ]
  },
  {
   "cell_type": "code",
   "execution_count": 15,
   "metadata": {},
   "outputs": [],
   "source": [
    "# a simple sweep\n",
    "for f in np.linspace(10e6, 20e6, 101):\n",
    "    hd.awgs[0].modulation_freq(f)\n",
    "    time.sleep(0.1)"
   ]
  },
  {
   "cell_type": "markdown",
   "metadata": {},
   "source": [
    "### Programming the AWG sequencer"
   ]
  },
  {
   "cell_type": "code",
   "execution_count": 16,
   "metadata": {},
   "outputs": [
    {
     "data": {
      "text/plain": [
       "<zhinst.toolkit.tools.helpers.sequence_program.SequenceProgram at 0x21e467d3358>"
      ]
     },
     "execution_count": 16,
     "metadata": {},
     "output_type": "execute_result"
    }
   ],
   "source": [
    "# the AWG has a sequence program object\n",
    "hd.awgs[0]._program"
   ]
  },
  {
   "cell_type": "code",
   "execution_count": 17,
   "metadata": {},
   "outputs": [
    {
     "data": {
      "text/plain": [
       "{'sequence_type': None,\n",
       " 'sequence_parameters': {'target': 'hdawg',\n",
       "  'clock_rate': 2400000000.0,\n",
       "  'period': 0.0001,\n",
       "  'trigger_mode': 'None',\n",
       "  'repetitions': 1,\n",
       "  'alignment': 'End with Trigger',\n",
       "  'n_HW_loop': 1,\n",
       "  'dead_time': 5e-06,\n",
       "  'trigger_delay': 0,\n",
       "  'latency': 1.6e-07,\n",
       "  'trigger_cmd_1': '//',\n",
       "  'trigger_cmd_2': '//',\n",
       "  'wait_cycles': 0,\n",
       "  'dead_cycles': 0}}"
      ]
     },
     "execution_count": 17,
     "metadata": {},
     "output_type": "execute_result"
    }
   ],
   "source": [
    "# we can get and set parameters of the sequence program\n",
    "hd.awgs[0].sequence_params"
   ]
  },
  {
   "cell_type": "code",
   "execution_count": null,
   "metadata": {},
   "outputs": [],
   "source": [
    "# use the awg core as a master trigger\n",
    "hd.awgs[0].set_sequence_params(\n",
    "    sequence_type=\"Trigger\",\n",
    "    period=100e-6,\n",
    "    repetitions=100,\n",
    ")\n",
    "hd.awgs[0].compile()"
   ]
  },
  {
   "cell_type": "code",
   "execution_count": 18,
   "metadata": {},
   "outputs": [],
   "source": [
    "# upload waveforms as arrays in \"Simple\" mode\n",
    "hd.awgs[0].set_sequence_params(\n",
    "    sequence_type=\"Simple\",\n",
    "    period=100e-6,\n",
    "    repetitions=100,\n",
    "    alignment=\"End with Trigger\",\n",
    "    trigger_mode=\"Send Trigger\",\n",
    ")"
   ]
  },
  {
   "cell_type": "code",
   "execution_count": 19,
   "metadata": {},
   "outputs": [
    {
     "data": {
      "text/plain": [
       "hd1: <zhinst.toolkit.hdawg.AWG object at 0x0000021E467D3320>\n",
       "    parent  : <zhinst.toolkit.hdawg.HDAWG object at 0x0000021E467D3198>\n",
       "    index   : 0\n",
       "    sequence: \n",
       "           type: Simple\n",
       "            ('target', 'hdawg')\n",
       "            ('clock_rate', 2400000000.0)\n",
       "            ('period', 0.0001)\n",
       "            ('trigger_mode', 'Send Trigger')\n",
       "            ('repetitions', 100)\n",
       "            ('alignment', 'End with Trigger')\n",
       "            ('n_HW_loop', 1)\n",
       "            ('dead_time', 5e-06)\n",
       "            ('trigger_delay', 0)\n",
       "            ('latency', 1.6e-07)\n",
       "            ('trigger_cmd_1', 'setTrigger(1);\\n')\n",
       "            ('trigger_cmd_2', 'setTrigger(0);\\n')\n",
       "            ('wait_cycles', 28500)\n",
       "            ('dead_cycles', 1500)\n",
       "            ('buffer_lengths', [800])\n",
       "      IQ Modulation ENABLED:\n",
       "         frequency   : 19999999.999998864\n",
       "         phase_shift : 90.0\n",
       "         gains       : 1.0, 1.0"
      ]
     },
     "execution_count": 19,
     "metadata": {},
     "output_type": "execute_result"
    }
   ],
   "source": [
    "hd.awgs[0]"
   ]
  },
  {
   "cell_type": "code",
   "execution_count": 20,
   "metadata": {},
   "outputs": [
    {
     "name": "stdout",
     "output_type": "stream",
     "text": [
      "Current length of queue: 1\n"
     ]
    }
   ],
   "source": [
    "# for this 'Simple' sequence we can queue up arbitrary waveforms \n",
    "hd.awgs[0].queue_waveform(np.ones(1000), -np.ones(1000))"
   ]
  },
  {
   "cell_type": "code",
   "execution_count": 21,
   "metadata": {},
   "outputs": [],
   "source": [
    "# and also reset the queue\n",
    "hd.awgs[0].reset_queue()"
   ]
  },
  {
   "cell_type": "code",
   "execution_count": 22,
   "metadata": {
    "scrolled": true
   },
   "outputs": [
    {
     "name": "stdout",
     "output_type": "stream",
     "text": [
      "Current length of queue: 1\n",
      "Current length of queue: 2\n",
      "Current length of queue: 3\n",
      "Current length of queue: 4\n",
      "Current length of queue: 5\n",
      "Current length of queue: 6\n",
      "Current length of queue: 7\n",
      "Current length of queue: 8\n",
      "Current length of queue: 9\n",
      "Current length of queue: 10\n"
     ]
    }
   ],
   "source": [
    "# let's queue up some waveforms\n",
    "for amp in np.linspace(-1, 1, 10):\n",
    "    hd.awgs[0].queue_waveform(amp*np.ones(400), -amp*np.ones(400))"
   ]
  },
  {
   "cell_type": "code",
   "execution_count": 25,
   "metadata": {
    "scrolled": true
   },
   "outputs": [
    {
     "data": {
      "text/plain": [
       "[<zhinst.toolkit.tools.helpers.waveform.Waveform at 0x21e493e6630>,\n",
       " <zhinst.toolkit.tools.helpers.waveform.Waveform at 0x21e493c2f60>,\n",
       " <zhinst.toolkit.tools.helpers.waveform.Waveform at 0x21e493e6b00>,\n",
       " <zhinst.toolkit.tools.helpers.waveform.Waveform at 0x21e493e6b70>,\n",
       " <zhinst.toolkit.tools.helpers.waveform.Waveform at 0x21e4531fb00>,\n",
       " <zhinst.toolkit.tools.helpers.waveform.Waveform at 0x21e493e6c18>,\n",
       " <zhinst.toolkit.tools.helpers.waveform.Waveform at 0x21e493e6ba8>,\n",
       " <zhinst.toolkit.tools.helpers.waveform.Waveform at 0x21e493e6be0>,\n",
       " <zhinst.toolkit.tools.helpers.waveform.Waveform at 0x21e493e6c88>,\n",
       " <zhinst.toolkit.tools.helpers.waveform.Waveform at 0x21e493e6cc0>]"
      ]
     },
     "execution_count": 25,
     "metadata": {},
     "output_type": "execute_result"
    }
   ],
   "source": [
    "# the waveforms are all in the queue now\n",
    "hd.awgs[0].waveforms"
   ]
  },
  {
   "cell_type": "code",
   "execution_count": 26,
   "metadata": {},
   "outputs": [
    {
     "name": "stdout",
     "output_type": "stream",
     "text": [
      "Compilation successful\n",
      "hd1-0: Sequencer status: ELF file uploaded\n",
      "Upload of 10 waveforms took 0.020005226135253906 s\n"
     ]
    }
   ],
   "source": [
    "# now we have to compile the sequence program and then we can upload all the waveforms\n",
    "hd.awgs[0].compile()\n",
    "hd.awgs[0].upload_waveforms()\n",
    "\n",
    "# we could also just use hd.awgs[0].compile_and_upload_waveforms()"
   ]
  },
  {
   "cell_type": "code",
   "execution_count": 27,
   "metadata": {},
   "outputs": [
    {
     "name": "stdout",
     "output_type": "stream",
     "text": [
      "Started AWG hd1-0!\n"
     ]
    }
   ],
   "source": [
    "# let's run the sequence\n",
    "hd.awgs[0].run()"
   ]
  },
  {
   "cell_type": "code",
   "execution_count": 28,
   "metadata": {},
   "outputs": [
    {
     "data": {
      "text/plain": [
       "0"
      ]
     },
     "execution_count": 28,
     "metadata": {},
     "output_type": "execute_result"
    }
   ],
   "source": [
    "# is it still running?\n",
    "hd.awgs[0].is_running"
   ]
  },
  {
   "cell_type": "code",
   "execution_count": null,
   "metadata": {},
   "outputs": [],
   "source": []
  },
  {
   "cell_type": "code",
   "execution_count": 31,
   "metadata": {},
   "outputs": [
    {
     "name": "stdout",
     "output_type": "stream",
     "text": [
      "Upload of 10 waveforms took 0.018970489501953125 s\n"
     ]
    }
   ],
   "source": [
    "# we can also just replace a single one of the waveforms with a waveform of the same length\n",
    "hd.awgs[0].replace_waveform(np.random.rand(400), np.random.rand(400), i=4)\n",
    "hd.awgs[0].upload_waveforms()\n",
    "\n",
    "# check the waveform in the LabOne UI! We do not need to recompile as long as the waveform is of the same length."
   ]
  }
 ],
 "metadata": {
  "kernelspec": {
   "display_name": "Python 3",
   "language": "python",
   "name": "python3"
  },
  "language_info": {
   "codemirror_mode": {
    "name": "ipython",
    "version": 3
   },
   "file_extension": ".py",
   "mimetype": "text/x-python",
   "name": "python",
   "nbconvert_exporter": "python",
   "pygments_lexer": "ipython3",
   "version": "3.6.9"
  }
 },
 "nbformat": 4,
 "nbformat_minor": 4
}
